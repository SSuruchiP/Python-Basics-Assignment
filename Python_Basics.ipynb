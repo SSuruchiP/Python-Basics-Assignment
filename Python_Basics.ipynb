{
  "nbformat": 4,
  "nbformat_minor": 0,
  "metadata": {
    "colab": {
      "provenance": []
    },
    "kernelspec": {
      "name": "python3",
      "display_name": "Python 3"
    },
    "language_info": {
      "name": "python"
    }
  },
  "cells": [
    {
      "cell_type": "markdown",
      "source": [
        "# **ASSIGNMENT**"
      ],
      "metadata": {
        "id": "3qLvEbYPoT7p"
      }
    },
    {
      "cell_type": "markdown",
      "source": [
        "1.What is Python, and why is it popular ?\n",
        "\n",
        " ---> Python is a high-level, interpreted programming language with a simple and easy-to-read syntax. It is designed to be beginner-friendly and supports various programming styles, including procedural, object-oriented, and functional programming. Python is widely used for developing web applications, data analysis, artificial intelligence, automation, and more.\n",
        "\n",
        "Python is popular because it is easy to learn, has clean syntax, and offers a large standard library. It is open-source and supported by a vast community, making it easy to find help and resources. Python’s versatility allows it to be used in many fields such as web development, machine learning, automation, and scientific computing.\n",
        "  \n",
        "\n",
        "\n",
        "\n",
        "\n"
      ],
      "metadata": {
        "id": "44-OduHmoufv"
      }
    },
    {
      "cell_type": "code",
      "source": [
        "# A simple Python program\n",
        "name = \"Suruchi\"\n",
        "print(\"Hello,\", name)\n"
      ],
      "metadata": {
        "colab": {
          "base_uri": "https://localhost:8080/"
        },
        "collapsed": true,
        "id": "BC_W85hfsVOI",
        "outputId": "94a10236-7cb1-4dcb-82a7-94894cb3d0e1"
      },
      "execution_count": null,
      "outputs": [
        {
          "output_type": "stream",
          "name": "stdout",
          "text": [
            "Hello, Suruchi\n"
          ]
        }
      ]
    },
    {
      "cell_type": "markdown",
      "source": [
        "2.What is an interpreter in Python?\n",
        "\n",
        "--> An interpreter in Python is a program that reads and executes Python code line by line. Unlike a compiler, which translates the entire code into machine language at once, the Python interpreter processes each line, executes it, and then moves to the next. This makes it easier to find and fix errors quickly. Python’s interpreter helps in running scripts, testing code, and debugging efficiently."
      ],
      "metadata": {
        "id": "8zfOyOzGsu7R"
      }
    },
    {
      "cell_type": "markdown",
      "source": [
        "3.What are pre-defined keywords in Python?\n",
        "\n",
        "----> Pre-defined keywords in Python are reserved words that have special meanings and are part of the Python language syntax. They are used to define the structure and rules of Python programs. You cannot use keywords as variable names, function names, or identifiers. Examples of Python keywords include if, else, for, while, def, class, True, False, and None. These keywords help in controlling the flow, defining functions, handling exceptions, and more."
      ],
      "metadata": {
        "id": "uk0atV3itShJ"
      }
    },
    {
      "cell_type": "markdown",
      "source": [
        "4.Can keywords be used as variable names?\n",
        "\n",
        "----> No, keywords cannot be used as variable names in Python.\n",
        "\n",
        "Keywords are reserved words that have special meanings in Python’s syntax. Using them as variable names will cause a syntax error because Python expects them to be used for specific purposes. For example:\n"
      ],
      "metadata": {
        "id": "bTEx8PzRuBrR"
      }
    },
    {
      "cell_type": "code",
      "source": [
        "if = 10   #  This will cause an error\n"
      ],
      "metadata": {
        "colab": {
          "base_uri": "https://localhost:8080/",
          "height": 106
        },
        "collapsed": true,
        "id": "7jAoYNXKzIm6",
        "outputId": "8e7148d4-8642-4b12-de68-e1d6768171a6"
      },
      "execution_count": null,
      "outputs": [
        {
          "output_type": "error",
          "ename": "SyntaxError",
          "evalue": "invalid syntax (ipython-input-9-44737418.py, line 1)",
          "traceback": [
            "\u001b[0;36m  File \u001b[0;32m\"/tmp/ipython-input-9-44737418.py\"\u001b[0;36m, line \u001b[0;32m1\u001b[0m\n\u001b[0;31m    if = 10   #  This will cause an error\u001b[0m\n\u001b[0m       ^\u001b[0m\n\u001b[0;31mSyntaxError\u001b[0m\u001b[0;31m:\u001b[0m invalid syntax\n"
          ]
        }
      ]
    },
    {
      "cell_type": "code",
      "source": [
        "number = 10  # Valid variable name\n"
      ],
      "metadata": {
        "id": "pdhXu1oUupNk"
      },
      "execution_count": null,
      "outputs": []
    },
    {
      "cell_type": "markdown",
      "source": [
        "5.What is mutability in Python?\n",
        "\n",
        "---> Mutability in Python refers to whether or not an object’s value can be changed after it is created.\n",
        "\n",
        "Mutable objects can be changed in place.\n",
        "Examples: list, dict, set"
      ],
      "metadata": {
        "id": "LGe1yCqUu0D_"
      }
    },
    {
      "cell_type": "code",
      "source": [
        "my_list = [1, 2, 3]\n",
        "my_list[0] = 10  # List is changed\n"
      ],
      "metadata": {
        "id": "wlEkXWsawaaO"
      },
      "execution_count": null,
      "outputs": []
    },
    {
      "cell_type": "markdown",
      "source": [
        "6.Why are lists mutable, but tuples are immutable ?\n",
        "\n",
        "--->In Python, lists are mutable because they are designed to store a collection of items that can be changed—such as adding, removing, or updating elements. This makes lists useful when the data needs to be modified frequently.\n",
        "\n",
        "On the other hand, tuples are immutable because they are meant to store a fixed collection of items. Once a tuple is created, its contents cannot be changed. This makes tuples safer and faster in certain situations, especially when used as keys in dictionaries or elements in sets, where immutability is required."
      ],
      "metadata": {
        "id": "D7WQTtP6wlI5"
      }
    },
    {
      "cell_type": "code",
      "source": [
        "# List (mutable)\n",
        "my_list = [1, 2, 3]\n",
        "my_list[0] = 10  # Allowed\n",
        "\n",
        "# Tuple (immutable)\n",
        "my_tuple = (1, 2, 3)\n",
        "my_tuple[0] = 10  # Error – not allowed\n"
      ],
      "metadata": {
        "colab": {
          "base_uri": "https://localhost:8080/",
          "height": 176
        },
        "collapsed": true,
        "id": "AwZmx7_fxHL7",
        "outputId": "17189b7d-abba-48ec-b96c-a62ec2281bc2"
      },
      "execution_count": null,
      "outputs": [
        {
          "output_type": "error",
          "ename": "TypeError",
          "evalue": "'tuple' object does not support item assignment",
          "traceback": [
            "\u001b[0;31m---------------------------------------------------------------------------\u001b[0m",
            "\u001b[0;31mTypeError\u001b[0m                                 Traceback (most recent call last)",
            "\u001b[0;32m/tmp/ipython-input-5-1458234824.py\u001b[0m in \u001b[0;36m<cell line: 0>\u001b[0;34m()\u001b[0m\n\u001b[1;32m      5\u001b[0m \u001b[0;31m# Tuple (immutable)\u001b[0m\u001b[0;34m\u001b[0m\u001b[0;34m\u001b[0m\u001b[0m\n\u001b[1;32m      6\u001b[0m \u001b[0mmy_tuple\u001b[0m \u001b[0;34m=\u001b[0m \u001b[0;34m(\u001b[0m\u001b[0;36m1\u001b[0m\u001b[0;34m,\u001b[0m \u001b[0;36m2\u001b[0m\u001b[0;34m,\u001b[0m \u001b[0;36m3\u001b[0m\u001b[0;34m)\u001b[0m\u001b[0;34m\u001b[0m\u001b[0;34m\u001b[0m\u001b[0m\n\u001b[0;32m----> 7\u001b[0;31m \u001b[0mmy_tuple\u001b[0m\u001b[0;34m[\u001b[0m\u001b[0;36m0\u001b[0m\u001b[0;34m]\u001b[0m \u001b[0;34m=\u001b[0m \u001b[0;36m10\u001b[0m  \u001b[0;31m# ❌ Error – not allowed\u001b[0m\u001b[0;34m\u001b[0m\u001b[0;34m\u001b[0m\u001b[0m\n\u001b[0m",
            "\u001b[0;31mTypeError\u001b[0m: 'tuple' object does not support item assignment"
          ]
        }
      ]
    },
    {
      "cell_type": "markdown",
      "source": [
        "7.What is the difference between “==” and “is” operators in Python?\n",
        "\n",
        "--->== (Equality Operator):\n",
        "This checks whether two variables have the same value, even if they are different objects in memory."
      ],
      "metadata": {
        "id": "xK2EW6xoxN1L"
      }
    },
    {
      "cell_type": "code",
      "source": [
        "a = [1, 2, 3]\n",
        "b = [1, 2, 3]\n",
        "print(a == b)  # True – values are the same\n"
      ],
      "metadata": {
        "colab": {
          "base_uri": "https://localhost:8080/"
        },
        "id": "ZnIwXHwwxxq7",
        "outputId": "5d36a70f-9a40-4dd9-fd66-d6e7df8db8e4"
      },
      "execution_count": null,
      "outputs": [
        {
          "output_type": "stream",
          "name": "stdout",
          "text": [
            "True\n"
          ]
        }
      ]
    },
    {
      "cell_type": "markdown",
      "source": [
        "is (Identity Operator):\n",
        "This checks whether two variables point to the same object in memory (i.e., they are the exact same object)."
      ],
      "metadata": {
        "id": "x875jO6bykUS"
      }
    },
    {
      "cell_type": "code",
      "source": [
        "print(a is b)  #  False – different objects in memory\n"
      ],
      "metadata": {
        "colab": {
          "base_uri": "https://localhost:8080/"
        },
        "id": "YaFjsrFoyqaL",
        "outputId": "1d9de7b6-b5f7-45fa-c89b-f56d54604c7c"
      },
      "execution_count": null,
      "outputs": [
        {
          "output_type": "stream",
          "name": "stdout",
          "text": [
            "False\n"
          ]
        }
      ]
    },
    {
      "cell_type": "markdown",
      "source": [
        "8.What are logical operators in Python?\n",
        "\n",
        "--->Logical operators in Python are used to combine multiple conditions and return True or False.\n",
        "\n",
        "There are 3 logical operators:\n",
        "and – Returns True if both conditions are true.\n",
        "Example: x > 5 and x < 10\n",
        "\n",
        "or – Returns True if at least one condition is true.\n",
        "Example: x < 5 or x == 10\n",
        "\n",
        "not – Reverses the result; makes True into False, and vice versa.\n",
        "Example: not(x > 5)\n",
        "\n",
        "These operators are mostly used in decision-making, like inside if statements."
      ],
      "metadata": {
        "id": "dLVziJnwy3d-"
      }
    },
    {
      "cell_type": "markdown",
      "source": [
        "9.What is type casting in Python?\n",
        "\n",
        "--->Type casting in Python means converting one data type into another. It is used when you want to change the type of a variable (e.g., from string to integer, or float to integer).\n",
        "\n",
        " ~Types of Type Casting:\n"
      ],
      "metadata": {
        "id": "rX-tD_d_z93H"
      }
    },
    {
      "cell_type": "code",
      "source": [
        "# 1. Implict Casting - Python automatically converts the type.\n",
        "\n",
        "x = 5     # int\n",
        "y = 2.5   # float\n",
        "result = x + y  # result is automatically a float (7.5)\n"
      ],
      "metadata": {
        "id": "byUVQPGI0egJ"
      },
      "execution_count": null,
      "outputs": []
    },
    {
      "cell_type": "code",
      "source": [
        "# 2.Explicit Casting – You manually convert the type using functions like:\n",
        "\n",
        "#int() converts to integer\n",
        "\n",
        "#float()converts to float\n",
        "\n",
        "#str()converts to string\n",
        "\n",
        "a = \"10\"\n",
        "b = int(a)  # converts string \"10\" to integer 10\n"
      ],
      "metadata": {
        "id": "MwAZ9Isy1BYU"
      },
      "execution_count": null,
      "outputs": []
    },
    {
      "cell_type": "markdown",
      "source": [
        "10.What is the difference between implicit and explicit type casting?\n",
        "\n",
        "---> Implicit type casting is when Python automatically converts one data type to another (e.g., int to float) during operations.\n",
        "Explicit type casting is when the programmer manually converts a data type using functions like int(), float(), or str().\n"
      ],
      "metadata": {
        "id": "9JaVtg3G17vd"
      }
    },
    {
      "cell_type": "code",
      "source": [
        "# Implicit\n",
        "x = 5 + 2.5  # Result is 7.5 (int automatically converted to float)\n",
        "\n",
        "# Explicit\n",
        "y = int(\"10\")  # String manually converted to integer\n"
      ],
      "metadata": {
        "id": "LYOkLlOD2aj7"
      },
      "execution_count": null,
      "outputs": []
    },
    {
      "cell_type": "markdown",
      "source": [
        "11 What is the purpose of conditional statements in Python?\n",
        "\n",
        "--->Purpose of Conditional Statements in Python:\n",
        "\n",
        "Conditional statements in Python are used to make decisions in a program. They allow the program to execute certain blocks of code only when specific conditions are true. This helps in controlling the flow of the program based on different situations.\n",
        "\n",
        "Common conditional statements:\n",
        "if\n",
        "\n",
        "elif (else if)\n",
        "\n",
        "else"
      ],
      "metadata": {
        "id": "YHNdXJlB2nKD"
      }
    },
    {
      "cell_type": "code",
      "source": [
        "age = 18\n",
        "if age >= 18:\n",
        "    print(\"You are eligible to vote.\")\n",
        "else:\n",
        "    print(\"You are not eligible to vote.\")\n"
      ],
      "metadata": {
        "colab": {
          "base_uri": "https://localhost:8080/"
        },
        "id": "k2sxmysS3GeY",
        "outputId": "658ab1a9-7ed2-435d-d755-af4dd9200775"
      },
      "execution_count": null,
      "outputs": [
        {
          "output_type": "stream",
          "name": "stdout",
          "text": [
            "You are eligible to vote.\n"
          ]
        }
      ]
    },
    {
      "cell_type": "markdown",
      "source": [
        "12.How does the elif statement work?\n",
        "\n",
        "--->The elif (short for else if) statement is used to check multiple conditions one by one after an if statement.\n",
        "\n",
        "Python checks the first if condition.\n",
        "\n",
        "If it’s False, it checks the elif condition.\n",
        "\n",
        "If an elif condition is True, its block runs and the rest are skipped.\n",
        "\n",
        "If none are true, the else block runs (if present)."
      ],
      "metadata": {
        "id": "SaFJGNKZ3K91"
      }
    },
    {
      "cell_type": "code",
      "source": [
        "marks = 75\n",
        "\n",
        "if marks >= 90:\n",
        "    print(\"Grade A\")\n",
        "elif marks >= 70:\n",
        "    print(\"Grade B\")   # This will be printed\n",
        "elif marks >= 50:\n",
        "    print(\"Grade C\")\n",
        "else:\n",
        "    print(\"Fail\")\n"
      ],
      "metadata": {
        "colab": {
          "base_uri": "https://localhost:8080/"
        },
        "collapsed": true,
        "id": "wAY15uL13qFP",
        "outputId": "67d32a11-058d-4d7c-ec86-a41766a41ac2"
      },
      "execution_count": null,
      "outputs": [
        {
          "output_type": "stream",
          "name": "stdout",
          "text": [
            "Grade B\n"
          ]
        }
      ]
    },
    {
      "cell_type": "markdown",
      "source": [
        "13.What is the difference between for and while loops?\n",
        "\n",
        "---> A for loop is used when you know how many times you want to repeat a block of code (e.g., looping through a list or range).\n",
        "\n",
        "A while loop is used when you want to repeat code as long as a condition is true, and you may not know how many times it will run."
      ],
      "metadata": {
        "id": "mdR30t_h35vV"
      }
    },
    {
      "cell_type": "code",
      "source": [
        "# for loop\n",
        "for i in range(3):\n",
        "    print(i)\n",
        "\n",
        "# while loop\n",
        "i = 0\n",
        "while i < 3:\n",
        "    print(i)\n",
        "    i += 1\n"
      ],
      "metadata": {
        "colab": {
          "base_uri": "https://localhost:8080/"
        },
        "collapsed": true,
        "id": "zqjk5gdv4Jqa",
        "outputId": "d992bcba-822b-4389-9666-5e2045941aa2"
      },
      "execution_count": null,
      "outputs": [
        {
          "output_type": "stream",
          "name": "stdout",
          "text": [
            "0\n",
            "1\n",
            "2\n",
            "0\n",
            "1\n",
            "2\n"
          ]
        }
      ]
    },
    {
      "cell_type": "markdown",
      "source": [
        "14.Describe a scenario where a while loop is more suitable than a for loop.\n",
        "\n",
        "---> When you don’t know in advance how many times the loop should run — such as when waiting for a user to enter valid input, a while loop is ideal.\n",
        "\n",
        "~Example Scenario:\n",
        "You want to keep asking the user for a password until they enter the correct one.\n"
      ],
      "metadata": {
        "id": "X-NeI7u44VgJ"
      }
    },
    {
      "cell_type": "code",
      "source": [
        "password = \"\"\n",
        "while password != \"admin123\":\n",
        "    password = input(\"Enter password: \")\n",
        "\n",
        "print(\"Access granted!\")\n"
      ],
      "metadata": {
        "id": "4BiVhJ7n4-LQ"
      },
      "execution_count": null,
      "outputs": []
    },
    {
      "cell_type": "markdown",
      "source": [
        "# ***PRACTICAL***\n"
      ],
      "metadata": {
        "id": "cb2X1XwM5AKC"
      }
    },
    {
      "cell_type": "code",
      "source": [],
      "metadata": {
        "id": "Ss_wGSyS-9AZ"
      },
      "execution_count": null,
      "outputs": []
    },
    {
      "cell_type": "markdown",
      "source": [
        "1.Write a Python program to print \"Hello, World!\n"
      ],
      "metadata": {
        "id": "zVtOmmo45Mni"
      }
    },
    {
      "cell_type": "code",
      "source": [
        "print(\"Hello, World!\")\n"
      ],
      "metadata": {
        "colab": {
          "base_uri": "https://localhost:8080/"
        },
        "id": "ri2Tlogb5bnL",
        "outputId": "9847e07f-edfc-46be-8571-8fd8293dfbd7"
      },
      "execution_count": null,
      "outputs": [
        {
          "output_type": "stream",
          "name": "stdout",
          "text": [
            "Hello, World!\n"
          ]
        }
      ]
    },
    {
      "cell_type": "markdown",
      "source": [
        "2.Write a Python program that displays your name and age."
      ],
      "metadata": {
        "id": "mWm2uEH05gLG"
      }
    },
    {
      "cell_type": "code",
      "source": [
        "name = \"Suruchi Prasad\"\n",
        "age = 30\n",
        "\n",
        "print(\"My name is\", name)\n",
        "print(\"I am\", age, \"years old.\")\n"
      ],
      "metadata": {
        "colab": {
          "base_uri": "https://localhost:8080/"
        },
        "id": "GYq0ImJR50-z",
        "outputId": "b651be59-e572-497b-e63a-0e199a68ac44"
      },
      "execution_count": null,
      "outputs": [
        {
          "output_type": "stream",
          "name": "stdout",
          "text": [
            "My name is Suruchi Prasad\n",
            "I am 30 years old.\n"
          ]
        }
      ]
    },
    {
      "cell_type": "markdown",
      "source": [
        "3.Write code to print all the pre-defined keywords in Python using the keyword library?"
      ],
      "metadata": {
        "id": "luIS1KsL58jG"
      }
    },
    {
      "cell_type": "code",
      "source": [
        "import keyword\n",
        "\n",
        "print(\"List of Python keywords:\")\n",
        "print(keyword.kwlist)\n"
      ],
      "metadata": {
        "colab": {
          "base_uri": "https://localhost:8080/"
        },
        "id": "RWXPkUfa6Hl8",
        "outputId": "9e954c6e-3694-434b-d435-4c667d1e8cba"
      },
      "execution_count": null,
      "outputs": [
        {
          "output_type": "stream",
          "name": "stdout",
          "text": [
            "List of Python keywords:\n",
            "['False', 'None', 'True', 'and', 'as', 'assert', 'async', 'await', 'break', 'class', 'continue', 'def', 'del', 'elif', 'else', 'except', 'finally', 'for', 'from', 'global', 'if', 'import', 'in', 'is', 'lambda', 'nonlocal', 'not', 'or', 'pass', 'raise', 'return', 'try', 'while', 'with', 'yield']\n"
          ]
        }
      ]
    },
    {
      "cell_type": "markdown",
      "source": [
        "4.Write a program that checks if a given word is a Python keyword."
      ],
      "metadata": {
        "id": "fbJhSKNT6OgE"
      }
    },
    {
      "cell_type": "code",
      "source": [
        "import keyword\n",
        "\n",
        "word = input(\"Enter a word: \")\n",
        "\n",
        "if keyword.iskeyword(word):\n",
        "    print(f\"'{word}' is a Python keyword.\")\n",
        "else:\n",
        "    print(f\"'{word}' is not a Python keyword.\")\n"
      ],
      "metadata": {
        "colab": {
          "base_uri": "https://localhost:8080/"
        },
        "id": "jy_Y3siG6XZA",
        "outputId": "2eda4f7d-25ae-4558-b212-e40d43380714"
      },
      "execution_count": null,
      "outputs": [
        {
          "output_type": "stream",
          "name": "stdout",
          "text": [
            "Enter a word: IF\n",
            "'IF' is not a Python keyword.\n"
          ]
        }
      ]
    },
    {
      "cell_type": "markdown",
      "source": [
        "5.Create a list and tuple in Python, and demonstrate how attempting to change an element works differently\n",
        "for each."
      ],
      "metadata": {
        "id": "QNu77lSP6vJH"
      }
    },
    {
      "cell_type": "code",
      "source": [
        "# Creating a list and a tuple\n",
        "my_list = [10, 20, 30]\n",
        "my_tuple = (10, 20, 30)\n",
        "\n",
        "# Modifying an element in the list\n",
        "print(\"Original list:\", my_list)\n",
        "my_list[0] = 100\n",
        "print(\"Modified list:\", my_list)\n",
        "\n",
        "# Attempting to modify an element in the tuple\n",
        "print(\"Original tuple:\", my_tuple)\n",
        "try:\n",
        "    my_tuple[0] = 100  # This will raise an error\n",
        "except TypeError as e:\n",
        "    print(\"Error:\", e)\n"
      ],
      "metadata": {
        "colab": {
          "base_uri": "https://localhost:8080/"
        },
        "id": "0F8pomX_67mV",
        "outputId": "77cfcd74-56bf-47fd-f4d5-1a0f07011178"
      },
      "execution_count": null,
      "outputs": [
        {
          "output_type": "stream",
          "name": "stdout",
          "text": [
            "Original list: [10, 20, 30]\n",
            "Modified list: [100, 20, 30]\n",
            "Original tuple: (10, 20, 30)\n",
            "Error: 'tuple' object does not support item assignment\n"
          ]
        }
      ]
    },
    {
      "cell_type": "markdown",
      "source": [
        "6.Write a function to demonstrate the behavior of mutable and immutable arguments?"
      ],
      "metadata": {
        "id": "lZfJiB0q7DaC"
      }
    },
    {
      "cell_type": "code",
      "source": [
        "# Function to modify both mutable and immutable arguments\n",
        "def modify_data(num, my_list):\n",
        "    print(\"\\nInside function before modification:\")\n",
        "    print(\"num:\", num)\n",
        "    print(\"my_list:\", my_list)\n",
        "\n",
        "    # Trying to modify the integer (immutable)\n",
        "    num = num + 10\n",
        "\n",
        "    # Trying to modify the list (mutable)\n",
        "    my_list.append(100)\n",
        "\n",
        "    print(\"\\nInside function after modification:\")\n",
        "    print(\"num:\", num)\n",
        "    print(\"my_list:\", my_list)\n",
        "\n",
        "# Outside the function\n",
        "x = 5             # Immutable (int)\n",
        "lst = [1, 2, 3]   # Mutable (list)\n",
        "\n",
        "print(\"Before function call:\")\n",
        "print(\"x:\", x)\n",
        "print(\"lst:\", lst)\n",
        "\n",
        "# Call the function\n",
        "modify_data(x, lst)\n",
        "\n",
        "print(\"\\nAfter function call:\")\n",
        "print(\"x:\", x)        # Not changed\n",
        "print(\"lst:\", lst)    # Changed\n"
      ],
      "metadata": {
        "colab": {
          "base_uri": "https://localhost:8080/"
        },
        "id": "m_upD6wD7PmL",
        "outputId": "15c69ebe-1848-40a2-d7b3-45a15c45dbd5"
      },
      "execution_count": null,
      "outputs": [
        {
          "output_type": "stream",
          "name": "stdout",
          "text": [
            "Before function call:\n",
            "x: 5\n",
            "lst: [1, 2, 3]\n",
            "\n",
            "Inside function before modification:\n",
            "num: 5\n",
            "my_list: [1, 2, 3]\n",
            "\n",
            "Inside function after modification:\n",
            "num: 15\n",
            "my_list: [1, 2, 3, 100]\n",
            "\n",
            "After function call:\n",
            "x: 5\n",
            "lst: [1, 2, 3, 100]\n"
          ]
        }
      ]
    },
    {
      "cell_type": "markdown",
      "source": [
        "7.Write a program that performs basic arithmetic operations on two user-input numbers."
      ],
      "metadata": {
        "id": "AEq-Sf4l7c96"
      }
    },
    {
      "cell_type": "code",
      "source": [
        "# Take input from the user\n",
        "num1 = float(input(\"Enter first number: \"))\n",
        "num2 = float(input(\"Enter second number: \"))\n",
        "\n",
        "# Perform arithmetic operations\n",
        "addition = num1 + num2\n",
        "subtraction = num1 - num2\n",
        "multiplication = num1 * num2\n",
        "\n",
        "# Handle division carefully\n",
        "if num2 != 0:\n",
        "    division = num1 / num2\n",
        "else:\n",
        "    division = \"Undefined (division by zero)\"\n",
        "\n",
        "# Display the results\n",
        "print(\"Addition:\", addition)\n",
        "print(\"Subtraction:\", subtraction)\n",
        "print(\"Multiplication:\", multiplication)\n",
        "print(\"Division:\", division)\n"
      ],
      "metadata": {
        "colab": {
          "base_uri": "https://localhost:8080/"
        },
        "id": "w8v_sUVr-rh3",
        "outputId": "4ba37429-6753-44da-f90c-299d0550c4dd"
      },
      "execution_count": null,
      "outputs": [
        {
          "output_type": "stream",
          "name": "stdout",
          "text": [
            "Enter first number: 234\n",
            "Enter second number: 567\n",
            "Addition: 801.0\n",
            "Subtraction: -333.0\n",
            "Multiplication: 132678.0\n",
            "Division: 0.4126984126984127\n"
          ]
        }
      ]
    },
    {
      "cell_type": "markdown",
      "source": [
        "8.Write a program to demonstrate the use of logical operators."
      ],
      "metadata": {
        "id": "yp8KignP7_PS"
      }
    },
    {
      "cell_type": "code",
      "source": [
        "# Logical Operators Demonstration\n",
        "\n",
        "a = 10\n",
        "b = 5\n",
        "c = 15\n",
        "\n",
        "# Using 'and' operator\n",
        "if a > b and a < c:\n",
        "    print(\"a is greater than b AND less than c\")  # True\n",
        "\n",
        "# Using 'or' operator\n",
        "if a < b or a < c:\n",
        "    print(\"a is less than b OR less than c\")  # True\n",
        "\n",
        "# Using 'not' operator\n",
        "if not (a < b):\n",
        "    print(\"a is NOT less than b\")  # True\n"
      ],
      "metadata": {
        "colab": {
          "base_uri": "https://localhost:8080/"
        },
        "id": "fyeYGSxH8JS6",
        "outputId": "956f9451-1016-4f8b-cdf4-af676528e873"
      },
      "execution_count": null,
      "outputs": [
        {
          "output_type": "stream",
          "name": "stdout",
          "text": [
            "a is greater than b AND less than c\n",
            "a is less than b OR less than c\n",
            "a is NOT less than b\n"
          ]
        }
      ]
    },
    {
      "cell_type": "markdown",
      "source": [
        "9.Write a Python program to convert user input from string to integer, float, and boolean types."
      ],
      "metadata": {
        "id": "8SykIMhJ8RMA"
      }
    },
    {
      "cell_type": "code",
      "source": [
        "# Take user input\n",
        "user_input = input(\"Enter a value: \")\n",
        "\n",
        "# Convert to integer\n",
        "try:\n",
        "    int_value = int(user_input)\n",
        "    print(\"Integer:\", int_value)\n",
        "except ValueError:\n",
        "    print(\"Cannot convert to integer.\")\n",
        "\n",
        "# Convert to float\n",
        "try:\n",
        "    float_value = float(user_input)\n",
        "    print(\"Float:\", float_value)\n",
        "except ValueError:\n",
        "    print(\"Cannot convert to float.\")\n",
        "\n",
        "# Convert to boolean\n",
        "# Note: In Python, any non-empty string is True, empty string is False\n",
        "bool_value = bool(user_input)\n",
        "print(\"Boolean:\", bool_value)\n"
      ],
      "metadata": {
        "id": "FSQ9OEcK8Uli"
      },
      "execution_count": null,
      "outputs": []
    },
    {
      "cell_type": "markdown",
      "source": [
        "10.Write code to demonstrate type casting with list elements."
      ],
      "metadata": {
        "id": "VE4O1PmW8da7"
      }
    },
    {
      "cell_type": "code",
      "source": [
        "# Take user input\n",
        "user_input = input(\"Enter a value: \")\n",
        "\n",
        "# Convert to integer\n",
        "try:\n",
        "    int_value = int(user_input)\n",
        "    print(\"Integer:\", int_value)\n",
        "except ValueError:\n",
        "    print(\"Cannot convert to integer.\")\n",
        "\n",
        "# Convert to float\n",
        "try:\n",
        "    float_value = float(user_input)\n",
        "    print(\"Float:\", float_value)\n",
        "except ValueError:\n",
        "    print(\"Cannot convert to float.\")\n",
        "\n",
        "# Convert to boolean\n",
        "# Note: In Python, any non-empty string is True, empty string is False\n",
        "bool_value = bool(user_input)\n",
        "print(\"Boolean:\", bool_value)\n"
      ],
      "metadata": {
        "colab": {
          "base_uri": "https://localhost:8080/"
        },
        "id": "Y_OkGcPJ8mJM",
        "outputId": "6bb28041-8767-4b45-fff1-748c0c161232"
      },
      "execution_count": null,
      "outputs": [
        {
          "output_type": "stream",
          "name": "stdout",
          "text": [
            "Enter a value: 12\n",
            "Integer: 12\n",
            "Float: 12.0\n",
            "Boolean: True\n"
          ]
        }
      ]
    },
    {
      "cell_type": "markdown",
      "source": [
        "11. Write a program that checks if a number is positive, negative, or zero."
      ],
      "metadata": {
        "id": "VlT54iKe81cT"
      }
    },
    {
      "cell_type": "code",
      "source": [
        "# Take input from the user\n",
        "num = float(input(\"Enter a number: \"))\n",
        "\n",
        "# Check if the number is positive, negative, or zero\n",
        "if num > 0:\n",
        "    print(\"The number is positive.\")\n",
        "elif num < 0:\n",
        "    print(\"The number is negative.\")\n",
        "else:\n",
        "    print(\"The number is zero.\")\n"
      ],
      "metadata": {
        "colab": {
          "base_uri": "https://localhost:8080/"
        },
        "id": "eTrnkBV084AE",
        "outputId": "11f1035b-1fe0-4d27-c6fb-ab7f596a24cc"
      },
      "execution_count": null,
      "outputs": [
        {
          "output_type": "stream",
          "name": "stdout",
          "text": [
            "Enter a number: 123\n",
            "The number is positive.\n"
          ]
        }
      ]
    },
    {
      "cell_type": "markdown",
      "source": [
        "12. Write a for loop to print numbers from 1 to 10."
      ],
      "metadata": {
        "id": "AU76eup59BZ6"
      }
    },
    {
      "cell_type": "code",
      "source": [
        "for i in range(1, 11):\n",
        "    print(i)"
      ],
      "metadata": {
        "colab": {
          "base_uri": "https://localhost:8080/"
        },
        "id": "9iGlLZQF9MMj",
        "outputId": "e6abf5b4-c6ea-4149-a915-23bcef4833a6"
      },
      "execution_count": null,
      "outputs": [
        {
          "output_type": "stream",
          "name": "stdout",
          "text": [
            "1\n",
            "2\n",
            "3\n",
            "4\n",
            "5\n",
            "6\n",
            "7\n",
            "8\n",
            "9\n",
            "10\n"
          ]
        }
      ]
    },
    {
      "cell_type": "markdown",
      "source": [
        "13. Write a Python program to find the sum of all even numbers between 1 and 50."
      ],
      "metadata": {
        "id": "6a2YtIR-9WoM"
      }
    },
    {
      "cell_type": "code",
      "source": [
        "# Initialize sum\n",
        "even_sum = 0\n",
        "\n",
        "# Loop through numbers from 1 to 50\n",
        "for i in range(1, 51):\n",
        "    if i % 2 == 0:\n",
        "        even_sum += i\n",
        "\n",
        "# Print the result\n",
        "print(\"Sum of even numbers from 1 to 50 is:\", even_sum)\n"
      ],
      "metadata": {
        "colab": {
          "base_uri": "https://localhost:8080/"
        },
        "id": "f8KBfA_B9ehN",
        "outputId": "45144372-6f2c-4fea-ab84-3a206359146a"
      },
      "execution_count": null,
      "outputs": [
        {
          "output_type": "stream",
          "name": "stdout",
          "text": [
            "Sum of even numbers from 1 to 50 is: 650\n"
          ]
        }
      ]
    },
    {
      "cell_type": "markdown",
      "source": [
        "14.Write a program to reverse a string using a while loop."
      ],
      "metadata": {
        "id": "GXMORCxk9m5P"
      }
    },
    {
      "cell_type": "code",
      "source": [
        "# Take input from the user\n",
        "text = input(\"Enter a string: \")\n",
        "\n",
        "# Initialize variables\n",
        "reversed_text = \"\"\n",
        "index = len(text) - 1\n",
        "\n",
        "# Loop to reverse the string\n",
        "while index >= 0:\n",
        "    reversed_text += text[index]\n",
        "    index -= 1\n",
        "\n",
        "# Print the reversed string\n",
        "print(\"Reversed string:\", reversed_text)\n"
      ],
      "metadata": {
        "colab": {
          "base_uri": "https://localhost:8080/"
        },
        "id": "xChVGXRz9y_F",
        "outputId": "9113defc-a1e6-4155-8865-42419b081a11"
      },
      "execution_count": null,
      "outputs": [
        {
          "output_type": "stream",
          "name": "stdout",
          "text": [
            "Enter a string: 123\n",
            "Reversed string: 321\n"
          ]
        }
      ]
    },
    {
      "cell_type": "markdown",
      "source": [
        "15.Write a Python program to calculate the factorial of a number provided by the user using a while loop."
      ],
      "metadata": {
        "id": "B9lz-Ocp-GS9"
      }
    },
    {
      "cell_type": "code",
      "source": [
        "# Take input from the user\n",
        "num = int(input(\"Enter a number: \"))\n",
        "\n",
        "# Initialize variables\n",
        "factorial = 1\n",
        "i = 1\n",
        "\n",
        "# Calculate factorial using while loop\n",
        "while i <= num:\n",
        "    factorial *= i\n",
        "    i += 1\n",
        "\n",
        "# Print the result\n",
        "print(\"Factorial of\", num, \"is:\", factorial)\n"
      ],
      "metadata": {
        "colab": {
          "base_uri": "https://localhost:8080/"
        },
        "id": "Lume_-Vf-J5d",
        "outputId": "6d07ab42-eea3-431b-9b4d-f6367edc3410"
      },
      "execution_count": null,
      "outputs": [
        {
          "output_type": "stream",
          "name": "stdout",
          "text": [
            "Enter a number: 1\n",
            "Factorial of 1 is: 1\n"
          ]
        }
      ]
    }
  ]
}