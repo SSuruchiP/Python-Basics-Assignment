{
  "nbformat": 4,
  "nbformat_minor": 0,
  "metadata": {
    "colab": {
      "provenance": []
    },
    "kernelspec": {
      "name": "python3",
      "display_name": "Python 3"
    },
    "language_info": {
      "name": "python"
    }
  },
  "cells": [
    {
      "cell_type": "markdown",
      "source": [
        "# **Python OOPs Questions**"
      ],
      "metadata": {
        "id": "AIx9EIfRvPbk"
      }
    },
    {
      "cell_type": "markdown",
      "source": [
        "1.What is Object-Oriented Programming (OOP)?\n",
        "\n",
        "Ans:Object-Oriented Programming (OOP) is a programming approach that focuses on creating and using objects to design and structure software. Each object is built from a class (a blueprint) and contains attributes (data) and methods (functions that define behavior). OOP follows four main principles: Encapsulation (bundling data and methods together while controlling access), Inheritance (allowing a class to acquire properties and behaviors from another class), Polymorphism (enabling one interface or method to work in different ways), and Abstraction (hiding complex details and showing only essential features). This method makes code more modular, reusable, and easier to maintain, especially for large and complex projects.\n"
      ],
      "metadata": {
        "id": "HhIhV21zwjAB"
      }
    },
    {
      "cell_type": "markdown",
      "source": [
        "2.What is a class in OOP?\n",
        "\n",
        "Ans:In Object-Oriented Programming (OOP), a **class** is a **blueprint or template** used to create objects.\n",
        "\n",
        "It defines the **attributes** (data or variables) and **methods** (functions or behaviors) that the objects created from it will have. The class itself doesn’t hold real data—objects (also called **instances**) created from the class store the actual values.\n",
        "\n",
        "**Example (Python):**\n",
        "\n",
        "```python\n",
        "class Car:\n",
        "    # Attributes\n",
        "    brand = \"Toyota\"\n",
        "    color = \"Red\"\n",
        "    \n",
        "    # Method\n",
        "    def start(self):\n",
        "        print(\"Car is starting...\")\n",
        "```\n",
        "\n",
        "Here, `Car` is a class. When we create an object like `my_car = Car()`, it will have the brand, color, and ability to start, as defined in the class.\n",
        "\n",
        "In short, **a class is like a recipe**, and **objects are the dishes prepared from it**.\n"
      ],
      "metadata": {
        "id": "JYiPKooAyXaH"
      }
    },
    {
      "cell_type": "markdown",
      "source": [
        "3.What is an object in OOP?\n",
        "\n",
        "Ans:In Object-Oriented Programming (OOP), an **object** is an **instance of a class**.\n",
        "\n",
        "It is a real, usable entity that contains **data** (attributes) and **behavior** (methods) as defined by its class. While a **class** is just a blueprint, an **object** is the actual product created from that blueprint.\n",
        "\n",
        "**Example (Python):**\n",
        "\n",
        "```python\n",
        "class Car:\n",
        "    def __init__(self, brand, color):\n",
        "        self.brand = brand\n",
        "        self.color = color\n",
        "\n",
        "    def start(self):\n",
        "        print(f\"{self.brand} car is starting...\")\n",
        "\n",
        "# Creating objects\n",
        "car1 = Car(\"Toyota\", \"Red\")\n",
        "car2 = Car(\"Honda\", \"Blue\")\n",
        "\n",
        "car1.start()  # Output: Toyota car is starting...\n",
        "car2.start()  # Output: Honda car is starting...\n",
        "```\n",
        "\n",
        "Here:\n",
        "\n",
        "* `Car` → class (blueprint)\n",
        "* `car1` and `car2` → objects (actual cars with their own brand and color)\n",
        "\n",
        "\n"
      ],
      "metadata": {
        "id": "sqyjxiwbzKGf"
      }
    },
    {
      "cell_type": "markdown",
      "source": [
        "4.What is the difference between abstraction and encapsulation?\n",
        "\n",
        "ans:In OOP, **abstraction** means hiding the complex implementation details of a feature and showing only the essential information to the user, focusing on *what* an object does rather than *how* it works. For example, you can use a car’s steering and accelerator without knowing the mechanics behind them. **Encapsulation**, on the other hand, means bundling data (variables) and methods (functions) into a single unit (class) and restricting direct access to the data to protect it from unwanted changes. This is usually done using access modifiers like private, protected, and public, along with getter and setter methods. In simple terms, abstraction hides *implementation details*, while encapsulation hides *data* and ensures controlled access.\n"
      ],
      "metadata": {
        "id": "iHlvnblp1P4m"
      }
    },
    {
      "cell_type": "markdown",
      "source": [
        "5.What are dunder methods in Python?\n",
        "\n",
        "ans:In Python, **dunder methods** (short for *double underscore methods*), also called **magic methods**, are special built-in methods whose names begin and end with double underscores, such as `__init__`, `__str__`, and `__len__`. They are automatically called by Python to perform specific operations, allowing you to define how objects of your class should behave in different situations. For example, `__init__` runs when an object is created, `__str__` defines what is shown when you print the object, and `__len__` specifies the result of the `len()` function. By using dunder methods, you can make your custom classes behave like Python’s built-in types and provide more intuitive and readable code.\n"
      ],
      "metadata": {
        "id": "v7HzEalW3PAB"
      }
    },
    {
      "cell_type": "markdown",
      "source": [
        "6.Explain the concept of inheritance in OOP?\n",
        "\n",
        "ans:In Object-Oriented Programming (OOP), **inheritance** is the concept that allows one class (called the *child* or *subclass*) to acquire the properties and behaviors of another class (called the *parent* or *superclass*). This means the child class can use the parent class’s attributes and methods without rewriting the code, and it can also add its own features or modify the inherited ones.\n",
        "\n",
        "Inheritance promotes **code reusability**, reduces redundancy, and supports hierarchical relationships between classes. For example, if you have a `Vehicle` class with common features like `start()` and `stop()`, you can create subclasses like `Car` and `Bike` that automatically inherit these features but can also define their own specific methods.\n",
        "\n",
        "**Types of Inheritance** include:\n",
        "\n",
        "* **Single inheritance** – one child inherits from one parent.\n",
        "* **Multiple inheritance** – one child inherits from multiple parents.\n",
        "* **Multilevel inheritance** – inheritance in a chain (A → B → C).\n",
        "* **Hierarchical inheritance** – multiple children inherit from one parent.\n",
        "\n"
      ],
      "metadata": {
        "id": "_QvR_rcM37xj"
      }
    },
    {
      "cell_type": "markdown",
      "source": [
        "7.What is polymorphism in OOP?\n",
        "\n",
        "ans:In Object-Oriented Programming (OOP), **polymorphism** means **\"many forms\"** — the ability of the same method name or operation to behave differently based on the object that calls it.\n",
        "\n",
        "It allows different classes to define their own unique implementations of a method while sharing the same method name. This makes code more flexible and easier to extend, as you can write one interface that works with multiple types of objects.\n",
        "\n",
        "**Example:**\n",
        "\n",
        "```python\n",
        "class Dog:\n",
        "    def speak(self):\n",
        "        return \"Woof!\"\n",
        "\n",
        "class Cat:\n",
        "    def speak(self):\n",
        "        return \"Meow!\"\n",
        "\n",
        "# Polymorphism in action\n",
        "for animal in (Dog(), Cat()):\n",
        "    print(animal.speak())\n",
        "```\n",
        "\n",
        "**Output:**\n",
        "\n",
        "```\n",
        "Woof!\n",
        "Meow!\n",
        "```\n",
        "\n",
        "Here, the method name `speak()` is the same for both classes, but each class provides its own behavior.\n",
        "\n",
        "In short, **polymorphism** lets you use one method name for different types of objects, and the actual behavior is determined at runtime based on the object.\n"
      ],
      "metadata": {
        "id": "-8fC-DlN4sZJ"
      }
    },
    {
      "cell_type": "markdown",
      "source": [
        "8.How is encapsulation achieved in Python?\n",
        "\n",
        "ans:In Python, **encapsulation** is achieved by **restricting direct access to an object’s data** and providing controlled ways to modify or view it.\n",
        "\n",
        "This is done using:\n",
        "\n",
        "1. **Access Modifiers**\n",
        "\n",
        "   * **Public** → Accessible from anywhere (default in Python).\n",
        "\n",
        "     ```python\n",
        "     self.name = \"John\"\n",
        "     ```\n",
        "   * **Protected** → Indicated by a single underscore `_name`, meant for internal use (still accessible but discouraged from outside).\n",
        "\n",
        "     ```python\n",
        "     self._age = 25\n",
        "     ```\n",
        "   * **Private** → Indicated by double underscores `__name`, not directly accessible from outside the class (name mangling is applied).\n",
        "\n",
        "     ```python\n",
        "     self.__salary = 50000\n",
        "     ```\n",
        "\n",
        "2. **Getter and Setter Methods**\n",
        "\n",
        "   * Public methods that allow reading (getter) or modifying (setter) private attributes in a controlled way.\n",
        "\n",
        "     ```python\n",
        "     class Employee:\n",
        "         def __init__(self, name, salary):\n",
        "             self.__name = name\n",
        "             self.__salary = salary\n",
        "         \n",
        "         # Getter\n",
        "         def get_salary(self):\n",
        "             return self.__salary\n",
        "         \n",
        "         # Setter\n",
        "         def set_salary(self, new_salary):\n",
        "             if new_salary > 0:\n",
        "                 self.__salary = new_salary\n",
        "\n",
        "     emp = Employee(\"Alice\", 50000)\n",
        "     print(emp.get_salary())  # Access via getter\n",
        "     emp.set_salary(60000)    # Modify via setter\n",
        "     ```\n",
        "\n"
      ],
      "metadata": {
        "id": "jA5M9MQY5H7u"
      }
    },
    {
      "cell_type": "markdown",
      "source": [
        "9.What is a constructor in Python?\n",
        "\n",
        "Ans:In Python, a **constructor** is a special method called `__init__()` that is automatically executed when an object of a class is created.\n",
        "\n",
        "Its main purpose is to **initialize the object’s attributes** with specific values at the time of creation. The constructor sets up the initial state of the object so it’s ready to use.\n",
        "\n",
        "---\n",
        "\n",
        "**Syntax & Example:**\n",
        "\n",
        "```python\n",
        "class Person:\n",
        "    def __init__(self, name, age):  # Constructor\n",
        "        self.name = name\n",
        "        self.age = age\n",
        "\n",
        "    def display(self):\n",
        "        print(f\"Name: {self.name}, Age: {self.age}\")\n",
        "\n",
        "# Creating an object\n",
        "p1 = Person(\"Alice\", 25)  # __init__() is called automatically\n",
        "p1.display()\n",
        "```\n",
        "\n",
        "**Output:**\n",
        "\n",
        "```\n",
        "Name: Alice, Age: 25\n",
        "```\n",
        "\n",
        "---\n",
        "\n",
        "\n",
        "\n"
      ],
      "metadata": {
        "id": "KsNILrwj6VQn"
      }
    },
    {
      "cell_type": "markdown",
      "source": [
        "10.What are class and static methods in Python?\n",
        "\n",
        "Ans:In Python, **class methods** and **static methods** are special types of methods inside a class that work differently from normal instance methods.\n",
        "\n",
        "---\n",
        "\n",
        "### **1. Class Methods (`@classmethod`)**\n",
        "\n",
        "* Belong to the **class** rather than an object.\n",
        "* Take `cls` (class reference) as the first parameter instead of `self`.\n",
        "* Can **access and modify class-level variables**, but not instance-specific data.\n",
        "* Created using the `@classmethod` decorator.\n",
        "\n",
        "**Example:**\n",
        "\n",
        "```python\n",
        "class Student:\n",
        "    school = \"ABC School\"  # Class variable\n",
        "\n",
        "    @classmethod\n",
        "    def change_school(cls, new_name):\n",
        "        cls.school = new_name\n",
        "\n",
        "Student.change_school(\"XYZ School\")\n",
        "print(Student.school)  # Output: XYZ School\n",
        "```\n",
        "\n",
        "---\n",
        "\n",
        "### **2. Static Methods (`@staticmethod`)**\n",
        "\n",
        "* Do **not** take `self` or `cls` as the first parameter.\n",
        "* Behave like normal functions but are placed inside a class for **logical grouping**.\n",
        "* Cannot access or modify class or instance variables directly.\n",
        "* Created using the `@staticmethod` decorator.\n",
        "\n",
        "**Example:**\n",
        "\n",
        "```python\n",
        "class Math:\n",
        "    @staticmethod\n",
        "    def add(a, b):\n",
        "        return a + b\n",
        "\n",
        "print(Math.add(5, 3))  # Output: 8\n",
        "```\n",
        "\n",
        "---\n",
        "\n"
      ],
      "metadata": {
        "id": "yKZM5air7i7G"
      }
    },
    {
      "cell_type": "markdown",
      "source": [
        "11.What is method overloading in Python?\n",
        "\n",
        "ans:In Python, **method overloading** refers to defining **multiple methods with the same name but different parameters**.\n",
        "\n",
        "Unlike some languages like Java or C++, Python **does not support true method overloading** — if you define a method with the same name more than once in a class, the latest definition will overwrite the previous one.\n",
        "\n",
        "However, Python can achieve a similar effect by:\n",
        "\n",
        "* Using **default arguments**\n",
        "* Using **variable-length arguments** (`*args` and `**kwargs`)\n",
        "* Checking the number or type of arguments inside the method\n",
        "\n",
        "---\n",
        "\n",
        "**Example (Simulated Method Overloading in Python):**\n",
        "\n",
        "```python\n",
        "class Math:\n",
        "    def add(self, a=None, b=None, c=None):\n",
        "        if a is not None and b is not None and c is not None:\n",
        "            return a + b + c\n",
        "        elif a is not None and b is not None:\n",
        "            return a + b\n",
        "        elif a is not None:\n",
        "            return a\n",
        "        else:\n",
        "            return 0\n",
        "\n",
        "m = Math()\n",
        "print(m.add(2, 3))       # Output: 5\n",
        "print(m.add(2, 3, 4))    # Output: 9\n",
        "print(m.add(5))          # Output: 5\n",
        "```\n",
        "\n",
        "---\n",
        "\n",
        "\n"
      ],
      "metadata": {
        "id": "WHuiTZZf7_Ck"
      }
    },
    {
      "cell_type": "markdown",
      "source": [
        "12.What is method overriding in OOP?\n",
        "\n",
        "ans:In Object-Oriented Programming (OOP), **method overriding** happens when a child class defines a method with the **same name, parameters, and return type** as a method in its parent class, but provides a different implementation. This allows the child class to change or customize the behavior inherited from the parent class. Method overriding is possible only through **inheritance** and is mainly used to achieve **runtime polymorphism**, where the method that gets executed is determined by the type of object calling it. For example, if a parent class `Animal` has a `speak()` method and a child class `Dog` overrides it to produce a barking sound, then calling `speak()` on a `Dog` object will execute the overridden version in the `Dog` class instead of the one in `Animal`.\n"
      ],
      "metadata": {
        "id": "3VjmuAGT_Wn_"
      }
    },
    {
      "cell_type": "markdown",
      "source": [
        "13.What is a property decorator in Python?\n",
        "\n",
        "ans:In Python, a **property decorator** (`@property`) is used to make a method in a class **act like an attribute** while still allowing controlled access to it.\n",
        "\n",
        "It is mainly used to implement **getter**, **setter**, and **deleter** methods in a clean and Pythonic way without explicitly calling them like normal methods. This helps in **encapsulation** — you can hide the actual implementation and still access data like a simple attribute.\n",
        "\n",
        "---\n",
        "\n",
        "### **Example:**\n",
        "\n",
        "```python\n",
        "class Person:\n",
        "    def __init__(self, name):\n",
        "        self._name = name  # Protected attribute\n",
        "\n",
        "    @property\n",
        "    def name(self):  # Getter\n",
        "        return self._name\n",
        "\n",
        "    @name.setter\n",
        "    def name(self, value):  # Setter\n",
        "        if len(value) > 0:\n",
        "            self._name = value\n",
        "        else:\n",
        "            print(\"Name cannot be empty!\")\n",
        "\n",
        "    @name.deleter\n",
        "    def name(self):  # Deleter\n",
        "        print(\"Deleting name...\")\n",
        "        del self._name\n",
        "\n",
        "# Usage\n",
        "p = Person(\"Alice\")\n",
        "print(p.name)      # Access like an attribute → Alice\n",
        "p.name = \"Bob\"     # Sets new value\n",
        "print(p.name)      # → Bob\n",
        "del p.name         # Deletes the attribute\n",
        "```\n",
        "\n",
        "---\n",
        "\n",
        "\n"
      ],
      "metadata": {
        "id": "RZjBEgfcASnr"
      }
    },
    {
      "cell_type": "markdown",
      "source": [
        "14.Why is polymorphism important in OOP?\n",
        "\n",
        "ans:**Polymorphism** is important in OOP because it makes code more **flexible, reusable, and easier to maintain** by allowing the same method name or operation to work with different types of objects.\n",
        "\n",
        "With polymorphism, you can write a single piece of code (like a function or loop) that can operate on objects from different classes, as long as they implement the required method. This reduces duplication, supports **extensibility** (you can add new classes without changing existing code), and makes programs easier to scale.\n",
        "\n",
        "For example, if multiple classes like `Dog`, `Cat`, and `Bird` all have a `speak()` method, you can loop through a list of these objects and call `speak()` without worrying about which specific class each object belongs to — the correct method will run automatically at runtime. This is the essence of **runtime polymorphism**, and it helps in building cleaner, more modular, and adaptable software systems.\n"
      ],
      "metadata": {
        "id": "V9jdN-6HFCAz"
      }
    },
    {
      "cell_type": "markdown",
      "source": [
        "15.What is an abstract class in Python?\n",
        "\n",
        "ans:In Python, an **abstract class** is a class that **cannot be instantiated** (you can’t create objects from it) and is meant to be used as a **blueprint** for other classes.\n",
        "\n",
        "It can define **abstract methods** (methods with no implementation) that **must** be implemented by any subclass that inherits from it. This ensures a common structure across multiple related classes while allowing each subclass to provide its own specific implementation.\n",
        "\n",
        "Abstract classes in Python are created using the **`abc`** (Abstract Base Class) module.\n",
        "\n",
        "---\n",
        "\n",
        "### **Example:**\n",
        "\n",
        "```python\n",
        "from abc import ABC, abstractmethod\n",
        "\n",
        "class Animal(ABC):  # Abstract class\n",
        "    @abstractmethod\n",
        "    def speak(self):  # Abstract method\n",
        "        pass\n",
        "\n",
        "class Dog(Animal):\n",
        "    def speak(self):\n",
        "        return \"Woof!\"\n",
        "\n",
        "class Cat(Animal):\n",
        "    def speak(self):\n",
        "        return \"Meow!\"\n",
        "\n",
        "# a = Animal()  # ❌ Error: Can't instantiate abstract class\n",
        "dog = Dog()\n",
        "print(dog.speak())  # Output: Woof!\n",
        "```\n",
        "\n",
        "---\n",
        "\n",
        "\n",
        "\n"
      ],
      "metadata": {
        "id": "5hdNrJI4G68q"
      }
    },
    {
      "cell_type": "markdown",
      "source": [
        "16. What are the advantages of OOP?\n",
        "\n",
        "ans:Object-Oriented Programming (OOP) offers several advantages that make it ideal for building robust and scalable software. It organizes code into classes and objects, which improves modularity and makes programs easier to manage. Through inheritance, existing code can be reused, saving time and reducing redundancy. Encapsulation helps protect data by bundling it with related methods, ensuring better security and maintainability. Abstraction hides complex details, allowing programmers to focus only on essential functionality, while polymorphism enables flexibility by allowing the same interface to represent different behaviors. These features make OOP programs easier to maintain, scale, and collaborate on, especially in large and complex projects.\n"
      ],
      "metadata": {
        "id": "rIr1AEebHQkP"
      }
    },
    {
      "cell_type": "markdown",
      "source": [
        "17. What is the difference between a class variable and an instance variable?\n",
        "\n",
        "Ans:In Python (and OOP in general), the **difference between a class variable and an instance variable** lies in **how they are shared** and **where they are defined**:\n",
        "\n",
        "---\n",
        "\n",
        "### **1. Class Variable**\n",
        "\n",
        "* **Definition**: A variable that is **shared by all objects** of the class.\n",
        "* **Where Defined**: Inside the class but **outside** any instance method.\n",
        "* **Sharing**: All instances refer to the same copy of this variable.\n",
        "* **Use**: Store data common to all objects (e.g., a counter for all instances).\n",
        "* **Example**:\n",
        "\n",
        "  ```python\n",
        "  class Student:\n",
        "      school_name = \"ABC School\"  # Class variable\n",
        "\n",
        "      def __init__(self, name):\n",
        "          self.name = name  # Instance variable\n",
        "\n",
        "  s1 = Student(\"Alice\")\n",
        "  s2 = Student(\"Bob\")\n",
        "\n",
        "  print(s1.school_name)  # ABC School\n",
        "  print(s2.school_name)  # ABC School\n",
        "  Student.school_name = \"XYZ School\"\n",
        "  print(s1.school_name)  # XYZ School (changed for all)\n",
        "  ```\n",
        "\n",
        "---\n",
        "\n",
        "### **2. Instance Variable**\n",
        "\n",
        "* **Definition**: A variable that belongs **only to a specific object**.\n",
        "* **Where Defined**: Inside the `__init__` method or other instance methods, using `self`.\n",
        "* **Sharing**: Each instance has its **own separate copy**.\n",
        "* **Use**: Store data unique to each object.\n",
        "* **Example**:\n",
        "\n",
        "  ```python\n",
        "  class Student:\n",
        "      def __init__(self, name):\n",
        "          self.name = name  # Instance variable\n",
        "\n",
        "  s1 = Student(\"Alice\")\n",
        "  s2 = Student(\"Bob\")\n",
        "\n",
        "  print(s1.name)  # Alice\n",
        "  print(s2.name)  # Bob\n",
        "  ```\n",
        "\n",
        "---\n",
        "\n"
      ],
      "metadata": {
        "id": "iHKX9K_Q9T0g"
      }
    },
    {
      "cell_type": "markdown",
      "source": [
        "18.What is multiple inheritance in Python?\n",
        "\n",
        "ans:Multiple inheritance is a feature in object-oriented programming where a class can inherit attributes and methods from more than one parent class. In Python, this allows a new class, known as a **child class** or **derived class**, to combine the functionalities of multiple **parent classes** or **base classes**.\n",
        "\n",
        "-----\n",
        "\n",
        "### How It Works\n",
        "\n",
        "When a class inherits from multiple parents, it gains access to the members of all of them. The syntax for multiple inheritance in Python is as follows:\n",
        "\n",
        "```python\n",
        "class Parent1:\n",
        "    # methods and attributes of Parent1\n",
        "\n",
        "class Parent2:\n",
        "    # methods and attributes of Parent2\n",
        "\n",
        "class Child(Parent1, Parent2):\n",
        "    # methods and attributes of the Child class\n",
        "    # can also use methods and attributes from Parent1 and Parent2\n",
        "```\n",
        "\n",
        "In this example, `Child` inherits from both `Parent1` and `Parent2`. This means an object of the `Child` class can use any method or attribute defined in `Parent1`, `Parent2`, or `Child` itself.\n",
        "\n",
        "-----\n",
        "\n",
        "### Method Resolution Order (MRO)\n",
        "\n",
        "A key concept in multiple inheritance is the **Method Resolution Order** (MRO). The MRO is the order in which Python searches for a method in a class hierarchy. When a method is called on an object, Python looks for the method in the class of the object, then in its parent classes according to the MRO.\n",
        "\n",
        "The MRO is determined by the **C3 linearization algorithm**. You can view the MRO of any class using the `__mro__` attribute or the `mro()` method. For example:\n",
        "\n",
        "```python\n",
        "Child.__mro__\n",
        "```\n",
        "\n",
        "This will return a tuple of classes in the order they're searched. For the example above, the MRO would be `(Child, Parent1, Parent2, object)`. Python's MRO ensures that the inheritance hierarchy is searched in a consistent and predictable manner, which helps resolve potential conflicts that arise when multiple parent classes have methods with the same name.\n",
        "\n",
        "-----\n",
        "\n"
      ],
      "metadata": {
        "id": "aoFCpRoL9zZG"
      }
    },
    {
      "cell_type": "markdown",
      "source": [
        "19.Explain the purpose of ‘’__str__’ and ‘__repr__’ ‘ methods in Python?\n",
        "\n",
        "ans:A paragraph is a self-contained unit of discourse in writing that deals with a particular point or idea. It is typically composed of a group of sentences that work together to develop a single main topic. The primary purpose of a paragraph is to organize ideas and make them easier for the reader to follow.\n",
        "\n",
        "Each paragraph usually begins with a **topic sentence** that introduces the main idea. The following sentences, known as **supporting sentences**, provide details, examples, and evidence to elaborate on that main idea. Finally, a **concluding sentence** may be used to summarize the point or transition to the next paragraph.\n",
        "\n",
        "A well-structured paragraph is a fundamental building block of effective writing, whether it's an essay, a news article, or a novel. It ensures that the text flows logically and that each point is given its own space to be fully explained before the writer moves on to the next one."
      ],
      "metadata": {
        "id": "TmaLSSJf-6_t"
      }
    },
    {
      "cell_type": "markdown",
      "source": [
        "20.What is the significance of the ‘super()’ function in Python?\n",
        "\n",
        "ans:The `super()` function in Python is a built-in function that provides a way to call a method from a parent or sibling class. Its main significance lies in its role in implementing cooperative multiple inheritance and ensuring a predictable method resolution order (MRO).\n",
        "\n",
        "-----\n",
        "\n",
        "### How It Works\n",
        "\n",
        "When you use `super()`, you're not just calling the immediate parent's method; you're delegating the call to the next class in the MRO. This is crucial for cooperative inheritance, where multiple parent classes need to work together without knowing the full inheritance hierarchy.\n",
        "\n",
        "The basic syntax is `super().method_name()`. This call searches for `method_name` in the MRO of the class where `super()` is called, starting from the next class in the hierarchy.\n",
        "\n",
        "-----\n",
        "\n",
        "### Key Use Cases\n",
        "\n",
        "#### 1\\. Initializing Parent Classes\n",
        "\n",
        "A common use case is in the `__init__` method of a child class. By calling `super().__init__()`, you ensure that the constructors of all parent classes are executed in the correct order, setting up all the necessary attributes. This is especially important in multiple inheritance where a child class might inherit from several parents, each with its own initialization logic.\n",
        "\n",
        "```python\n",
        "class ParentA:\n",
        "    def __init__(self):\n",
        "        print(\"Initializing ParentA\")\n",
        "\n",
        "class ParentB:\n",
        "    def __init__(self):\n",
        "        print(\"Initializing ParentB\")\n",
        "\n",
        "class Child(ParentA, ParentB):\n",
        "    def __init__(self):\n",
        "        super().__init__()\n",
        "        print(\"Initializing Child\")\n",
        "\n",
        "# Output:\n",
        "# Initializing ParentA\n",
        "# Initializing ParentB\n",
        "# Initializing Child\n",
        "```\n",
        "\n",
        "Notice how `super()` handles calling both `ParentA` and `ParentB`'s constructors.\n",
        "\n",
        "#### 2\\. Overriding and Extending Methods\n",
        "\n",
        "`super()` allows you to override a method in a child class while still being able to call the original parent method. This is useful when you want to add new functionality to a method without completely replacing the parent's implementation.\n",
        "\n",
        "```python\n",
        "class Animal:\n",
        "    def speak(self):\n",
        "        print(\"...\")\n",
        "\n",
        "class Dog(Animal):\n",
        "    def speak(self):\n",
        "        super().speak()\n",
        "        print(\"Woof!\")\n",
        "\n",
        "my_dog = Dog()\n",
        "my_dog.speak()\n",
        "\n",
        "# Output:\n",
        "# ...\n",
        "# Woof!\n",
        "```\n",
        "\n",
        "#### 3\\. Cooperative Multiple Inheritance\n",
        "\n",
        "In a complex inheritance hierarchy with multiple parents, `super()` ensures that each class's method is called exactly once and in the correct order. This prevents methods from being executed redundantly and avoids the \"diamond problem,\" where a class inherits from two classes that both inherit from the same base class. The `super()` function's adherence to the MRO makes this cooperative behavior possible.v"
      ],
      "metadata": {
        "id": "bEqXNRok_rVb"
      }
    },
    {
      "cell_type": "markdown",
      "source": [
        "21.What is the significance of the __del__ method in Python?\n",
        "\n",
        "ans:The `__del__` method in Python is a special method, also known as the **destructor**, that gets called when an object is about to be destroyed. Its primary significance lies in performing **cleanup actions** before the object's memory is reclaimed by the garbage collector.\n",
        "\n",
        "---\n",
        "\n",
        "### Key Purposes of `__del__`\n",
        "\n",
        "#### 1. Releasing External Resources\n",
        "\n",
        "The most important use of `__del__` is to handle the release of resources that are not managed by Python's garbage collector. These are typically external resources like:\n",
        "\n",
        "* **File handles**: Closing a file that was opened by the object.\n",
        "* **Database connections**: Ensuring the connection is properly closed.\n",
        "* **Network sockets**: Tearing down the connection.\n",
        "* **GUI widgets**: Unregistering or destroying graphical elements.\n",
        "\n",
        "This ensures that these resources are not left open, which could lead to resource leaks.\n",
        "\n",
        "#### 2. Alternative to `with` Statement\n",
        "\n",
        "While `__del__` can be used for cleanup, a more recommended approach for resource management is the `with` statement, which uses a **context manager**. A context manager, implemented with `__enter__` and `__exit__` methods, provides a more reliable and deterministic way to release resources. The `__del__` method's execution is not guaranteed, as it depends on the garbage collector, which may not run immediately or at all, especially when the program is exiting.\n",
        "\n",
        "#### 3. Cautions and Limitations\n",
        "\n",
        "It's important to be aware of the limitations of `__del__`:\n",
        "\n",
        "* **Unpredictable Timing**: Python's garbage collector determines when `__del__` is called, so you can't rely on it to run at a specific time. An object might persist for a long time after it is no longer referenced.\n",
        "* **Potential for Errors**: Errors that occur within `__del__` are suppressed and can be difficult to debug.\n",
        "* **Circular References**: Objects involved in a circular reference might not be garbage-collected, and their `__del__` method will never be called. This is a significant reason why `__del__` is not a reliable cleanup mechanism for all scenarios.\n",
        "\n",
        "Due to these limitations, Python's documentation generally advises against using `__del__` for critical cleanup tasks. The `with` statement and context managers are the preferred and safer alternative."
      ],
      "metadata": {
        "id": "0TzhLxnX_6sX"
      }
    },
    {
      "cell_type": "markdown",
      "source": [
        "22.What is the difference between @staticmethod and @classmethod in Python?\n",
        "\n",
        "ans:`@staticmethod` and `@classmethod` are decorators in Python that change how a method is bound to a class. The main difference lies in the arguments they receive and their purpose: `@classmethod` receives the class itself as its first argument, while `@staticmethod` receives no special first argument.\n",
        "\n",
        "-----\n",
        "\n",
        "### `@classmethod`\n",
        "\n",
        "A **class method** is a method that receives the class (`cls`) as its first argument, instead of the instance (`self`). This allows the method to access and modify class-level attributes, like a class variable or other class methods, without needing an instance of the class.\n",
        "\n",
        "  * **Syntax:**\n",
        "\n",
        "    ```python\n",
        "    class MyClass:\n",
        "        count = 0\n",
        "        @classmethod\n",
        "        def increment_count(cls):\n",
        "            cls.count += 1\n",
        "    ```\n",
        "\n",
        "  * **Key purpose:** To define methods that operate on the class itself, not on a specific instance. It's often used for **factory methods** that create new instances of the class with custom logic.\n",
        "\n",
        "-----\n",
        "\n",
        "### `@staticmethod`\n",
        "\n",
        "A **static method** is a method that belongs to a class but doesn't receive any special first argument, not `self` (the instance) or `cls` (the class). It's essentially a regular function that is \"namespaced\" within a class, meaning it's called using the class name.\n",
        "\n",
        "  * **Syntax:**\n",
        "\n",
        "    ```python\n",
        "    class MathUtils:\n",
        "        @staticmethod\n",
        "        def add(x, y):\n",
        "            return x + y\n",
        "    ```\n",
        "\n",
        "  * **Key purpose:** To define a method that has a logical connection to the class but doesn't need to access or modify any class or instance state. It's a way to group related utility functions together.\n",
        "\n",
        "-----\n",
        "\n"
      ],
      "metadata": {
        "id": "YmmDfqmmAKLJ"
      }
    },
    {
      "cell_type": "markdown",
      "source": [
        "23. How does polymorphism work in Python with inheritance?\n",
        "\n",
        "ans:Polymorphism in Python with inheritance allows objects of different classes to be treated as objects of a common base class. This means you can write code that works with a generic parent class, and the specific behavior for each child class is executed automatically. The name \"polymorphism\" comes from the Greek words \"poly\" (many) and \"morph\" (forms), which perfectly describes this concept.\n",
        "\n",
        "-----\n",
        "\n",
        "### How It Works\n",
        "\n",
        "Polymorphism works in Python through **method overriding** and **duck typing**.\n",
        "\n",
        "1.  **Method Overriding**: When a child class provides its own implementation of a method that is already defined in its parent class, it's called method overriding. When this method is called on an object, Python's runtime determines the correct version of the method to execute based on the object's actual class, not the variable's type.\n",
        "\n",
        "2.  **Duck Typing**: This is a core principle of polymorphism in Python. The philosophy is: \"If it walks like a duck and it quacks like a duck, then it must be a duck.\" In programming terms, if an object has the methods and attributes required to perform an action, it can be used, regardless of its actual class. Python doesn't check the object's type at compile time; it only checks if the necessary method exists at runtime. This allows for great flexibility.\n",
        "\n",
        "-----\n",
        "\n",
        "### Example\n",
        "\n",
        "Consider a base class `Animal` with a method `make_sound()`. We can then create child classes like `Dog` and `Cat`, which both override the `make_sound()` method with their specific behavior.\n",
        "\n",
        "```python\n",
        "class Animal:\n",
        "    def make_sound(self):\n",
        "        # A generic method that can be overridden\n",
        "        raise NotImplementedError(\"Subclass must implement abstract method\")\n",
        "\n",
        "class Dog(Animal):\n",
        "    def make_sound(self):\n",
        "        return \"Woof!\"\n",
        "\n",
        "class Cat(Animal):\n",
        "    def make_sound(self):\n",
        "        return \"Meow!\"\n",
        "\n",
        "# A function that takes an Animal object\n",
        "def animal_sound_in_action(animal):\n",
        "    return f\"The animal says: {animal.make_sound()}\"\n",
        "\n",
        "# We can pass objects of different types to the same function\n",
        "dog = Dog()\n",
        "cat = Cat()\n",
        "\n",
        "print(animal_sound_in_action(dog))\n",
        "# Output: The animal says: Woof!\n",
        "\n",
        "print(animal_sound_in_action(cat))\n",
        "# Output: The animal says: Meow!\n",
        "```\n",
        "\n",
        "In this example, the `animal_sound_in_action` function doesn't need to know if it's receiving a `Dog` or a `Cat`. It simply calls the `make_sound()` method, and thanks to polymorphism, the correct, specific implementation is executed. This makes the code more generic, reusable, and easier to maintain."
      ],
      "metadata": {
        "id": "JaHbWMJhArC-"
      }
    },
    {
      "cell_type": "markdown",
      "source": [
        "24.What is method chaining in Python OOP?\n",
        "\n",
        "ans:Method chaining is a programming technique in Python where multiple method calls are strung together on a single line. This is achieved by having each method return the object itself (`self`), allowing another method to be called on the result of the previous one. This creates a fluent, readable, and concise syntax.\n",
        "\n",
        "-----\n",
        "\n",
        "### How It Works\n",
        "\n",
        "For method chaining to work, each method in the chain must return the instance of the class (`self`). This returns the object, and a subsequent method can be called on that same object. If a method in the chain returns a value other than `self`, the chain is broken, and no further methods can be called on the same object.\n",
        "\n",
        "### Example\n",
        "\n",
        "Let's consider a simple `Calculator` class to illustrate method chaining.\n",
        "\n",
        "```python\n",
        "class Calculator:\n",
        "    def __init__(self):\n",
        "        self.result = 0\n",
        "\n",
        "    def add(self, number):\n",
        "        self.result += number\n",
        "        return self  # Return self to enable chaining\n",
        "\n",
        "    def subtract(self, number):\n",
        "        self.result -= number\n",
        "        return self  # Return self\n",
        "\n",
        "    def get_result(self):\n",
        "        return self.result\n",
        "\n",
        "# Chaining the method calls\n",
        "calc = Calculator()\n",
        "final_result = calc.add(5).subtract(2).add(10).get_result()\n",
        "\n",
        "print(final_result)\n",
        "# Output: 13\n",
        "```\n",
        "\n",
        "In this example, the `add` and `subtract` methods return `self`, allowing us to chain the calls. The `get_result` method, which is the last one in the chain, returns the final value, which is then assigned to `final_result`.\n",
        "\n",
        "### Significance\n",
        "\n",
        "The main significance of method chaining is that it makes code more readable and expressive, especially when performing a sequence of operations on an object. It reduces the need for multiple lines of code, temporary variables, and can make the logic of a program more apparent. This pattern is commonly seen in libraries for data manipulation and web development."
      ],
      "metadata": {
        "id": "6L9P6ZYPA7a1"
      }
    },
    {
      "cell_type": "markdown",
      "source": [
        "25.What is the purpose of the __call__ method in Python?\n",
        "\n",
        "ans:The `__call__` method in Python allows an object to be called like a function. If a class defines `__call__`, its instances can be invoked with parentheses `()` and arguments, just like a regular function. This turns an object into a \"callable object\" or \"functor.\"\n",
        "\n",
        "-----\n",
        "\n",
        "### How It Works\n",
        "\n",
        "When you call an object (e.g., `my_object()`), Python's interpreter looks for the `__call__` method on that object and executes it. Any arguments passed during the call are passed directly to the `__call__` method.\n",
        "\n",
        "### Example\n",
        "\n",
        "Consider a class that defines `__call__` to act as a multiplier.\n",
        "\n",
        "```python\n",
        "class Multiplier:\n",
        "    def __init__(self, factor):\n",
        "        self.factor = factor\n",
        "\n",
        "    def __call__(self, x):\n",
        "        return self.factor * x\n",
        "\n",
        "# Create an instance of Multiplier\n",
        "double = Multiplier(2)\n",
        "\n",
        "# Call the object like a function\n",
        "print(double(5))\n",
        "# Output: 10\n",
        "```\n",
        "\n",
        "In this example, the `double` object, which is an instance of `Multiplier`, is called with the argument `5`. This triggers the `__call__` method, which multiplies `5` by the `factor` (which is `2`), returning `10`.\n",
        "\n",
        "-----\n",
        "\n",
        "### Key Use Cases\n",
        "\n",
        "The `__call__` method is useful for several design patterns and scenarios:\n",
        "\n",
        "  * **Stateful Functions**: It allows you to create function-like objects that can maintain state. In the example above, the `double` object \"remembers\" its `factor` of `2`.\n",
        "  * **Decorators**: It's often used to create decorator classes that need to store state or be more flexible than simple functions.\n",
        "  * **Creating Closures**: It can be used to achieve the same effect as closures, where a function remembers and has access to variables from an enclosing scope.\n",
        "  * **Simplifying Complex Operations**: It can be used to make complex objects behave intuitively. For instance, a neural network object might use `__call__` to perform a forward pass on input data."
      ],
      "metadata": {
        "id": "CRkt8n-aBPWj"
      }
    },
    {
      "cell_type": "markdown",
      "source": [
        "# **Practical Questions**\n",
        "\n",
        "---\n",
        "\n"
      ],
      "metadata": {
        "id": "KR4ZaMhyBd8G"
      }
    },
    {
      "cell_type": "markdown",
      "source": [
        "1.1. Create a parent class Animal with a method speak() that prints a generic message. Create a child class Dog\n",
        "that overrides the speak() method to print \"Bark!\"."
      ],
      "metadata": {
        "id": "DktAukJmBqVr"
      }
    },
    {
      "cell_type": "code",
      "source": [
        "# Parent class\n",
        "class Animal:\n",
        "    def speak(self):\n",
        "        print(\"This animal makes a sound.\")\n",
        "\n",
        "# Child class\n",
        "class Dog(Animal):\n",
        "    def speak(self):\n",
        "        print(\"Bark!\")\n",
        "\n",
        "# Example usage\n",
        "a = Animal()\n",
        "a.speak()  # Output: This animal makes a sound.\n",
        "\n",
        "d = Dog()\n",
        "d.speak()  # Output: Bark!\n"
      ],
      "metadata": {
        "colab": {
          "base_uri": "https://localhost:8080/"
        },
        "id": "t_oMi3zABu4j",
        "outputId": "5f9734ae-f7a5-41ff-8165-d5599673df4d"
      },
      "execution_count": 1,
      "outputs": [
        {
          "output_type": "stream",
          "name": "stdout",
          "text": [
            "This animal makes a sound.\n",
            "Bark!\n"
          ]
        }
      ]
    },
    {
      "cell_type": "markdown",
      "source": [
        "2.2. Write a program to create an abstract class Shape with a method area(). Derive classes Circle and Rectangle\n",
        "from it and implement the area() method in both."
      ],
      "metadata": {
        "id": "XnuAqHlqCBkU"
      }
    },
    {
      "cell_type": "code",
      "source": [
        "from abc import ABC, abstractmethod\n",
        "import math\n",
        "\n",
        "# Abstract class\n",
        "class Shape(ABC):\n",
        "    @abstractmethod\n",
        "    def area(self):\n",
        "        pass\n",
        "\n",
        "# Circle class\n",
        "class Circle(Shape):\n",
        "    def __init__(self, radius):\n",
        "        self.radius = radius\n",
        "\n",
        "    def area(self):\n",
        "        return math.pi * self.radius ** 2\n",
        "\n",
        "# Rectangle class\n",
        "class Rectangle(Shape):\n",
        "    def __init__(self, length, width):\n",
        "        self.length = length\n",
        "        self.width = width\n",
        "\n",
        "    def area(self):\n",
        "        return self.length * self.width\n",
        "\n",
        "# Example usage\n",
        "shapes = [\n",
        "    Circle(5),\n",
        "    Rectangle(4, 6)\n",
        "]\n",
        "\n",
        "for shape in shapes:\n",
        "    print(f\"{shape.__class__.__name__} Area: {shape.area():.2f}\")\n"
      ],
      "metadata": {
        "colab": {
          "base_uri": "https://localhost:8080/"
        },
        "id": "bm0jusxdCJ3N",
        "outputId": "a34e303d-a5f7-43ea-c291-d7df6d0a91cd"
      },
      "execution_count": 2,
      "outputs": [
        {
          "output_type": "stream",
          "name": "stdout",
          "text": [
            "Circle Area: 78.54\n",
            "Rectangle Area: 24.00\n"
          ]
        }
      ]
    },
    {
      "cell_type": "markdown",
      "source": [
        "3. Implement a multi-level inheritance scenario where a class Vehicle has an attribute type. Derive a class Car\n",
        "and further derive a class ElectricCar that adds a battery attribute."
      ],
      "metadata": {
        "id": "s8wR3qV2CVs4"
      }
    },
    {
      "cell_type": "code",
      "source": [
        "# Base class\n",
        "class Vehicle:\n",
        "    def __init__(self, vehicle_type):\n",
        "        self.type = vehicle_type\n",
        "\n",
        "    def display_type(self):\n",
        "        print(f\"Vehicle Type: {self.type}\")\n",
        "\n",
        "# Derived class\n",
        "class Car(Vehicle):\n",
        "    def __init__(self, vehicle_type, brand):\n",
        "        super().__init__(vehicle_type)\n",
        "        self.brand = brand\n",
        "\n",
        "    def display_car_info(self):\n",
        "        self.display_type()\n",
        "        print(f\"Brand: {self.brand}\")\n",
        "\n",
        "# Further derived class\n",
        "class ElectricCar(Car):\n",
        "    def __init__(self, vehicle_type, brand, battery_capacity):\n",
        "        super().__init__(vehicle_type, brand)\n",
        "        self.battery = battery_capacity\n",
        "\n",
        "    def display_electric_car_info(self):\n",
        "        self.display_car_info()\n",
        "        print(f\"Battery Capacity: {self.battery} kWh\")\n",
        "\n",
        "\n",
        "# Example usage\n",
        "ecar = ElectricCar(\"Four Wheeler\", \"Tesla\", 75)\n",
        "ecar.display_electric_car_info()\n"
      ],
      "metadata": {
        "colab": {
          "base_uri": "https://localhost:8080/"
        },
        "id": "8RmbT5mkCdcG",
        "outputId": "4a118884-e750-45c7-bea8-cd819f9d593c"
      },
      "execution_count": 3,
      "outputs": [
        {
          "output_type": "stream",
          "name": "stdout",
          "text": [
            "Vehicle Type: Four Wheeler\n",
            "Brand: Tesla\n",
            "Battery Capacity: 75 kWh\n"
          ]
        }
      ]
    },
    {
      "cell_type": "markdown",
      "source": [
        "4.Demonstrate polymorphism by creating a base class Bird with a method fly(). Create two derived classes\n",
        "Sparrow and Penguin that override the fly() method.\n"
      ],
      "metadata": {
        "id": "va-JM2VLCkE5"
      }
    },
    {
      "cell_type": "code",
      "source": [
        "# Base class\n",
        "class Bird:\n",
        "    def fly(self):\n",
        "        print(\"Birds can fly... usually.\")\n",
        "\n",
        "# Derived class 1\n",
        "class Sparrow(Bird):\n",
        "    def fly(self):\n",
        "        print(\"Sparrow is flying high in the sky!\")\n",
        "\n",
        "# Derived class 2\n",
        "class Penguin(Bird):\n",
        "    def fly(self):\n",
        "        print(\"Penguins can't fly, but they can swim!\")\n",
        "\n",
        "# Function demonstrating polymorphism\n",
        "def show_flight(bird):\n",
        "    bird.fly()\n",
        "\n",
        "# Example usage\n",
        "birds = [Sparrow(), Penguin()]\n",
        "\n",
        "for b in birds:\n",
        "    show_flight(b)\n"
      ],
      "metadata": {
        "colab": {
          "base_uri": "https://localhost:8080/"
        },
        "id": "3Tf-jAtfCod-",
        "outputId": "91c49085-a605-4e3d-d497-0d436acd3086"
      },
      "execution_count": 4,
      "outputs": [
        {
          "output_type": "stream",
          "name": "stdout",
          "text": [
            "Sparrow is flying high in the sky!\n",
            "Penguins can't fly, but they can swim!\n"
          ]
        }
      ]
    },
    {
      "cell_type": "markdown",
      "source": [
        "5.Write a program to demonstrate encapsulation by creating a class BankAccount with private attributes\n",
        "balance and methods to deposit, withdraw, and check balance."
      ],
      "metadata": {
        "id": "sz0PLzW1Ct5o"
      }
    },
    {
      "cell_type": "code",
      "source": [
        "class BankAccount:\n",
        "    def __init__(self, initial_balance=0):\n",
        "        self.__balance = initial_balance  # private attribute\n",
        "\n",
        "    def deposit(self, amount):\n",
        "        if amount > 0:\n",
        "            self.__balance += amount\n",
        "            print(f\"Deposited: ₹{amount}\")\n",
        "        else:\n",
        "            print(\"Deposit amount must be positive!\")\n",
        "\n",
        "    def withdraw(self, amount):\n",
        "        if 0 < amount <= self.__balance:\n",
        "            self.__balance -= amount\n",
        "            print(f\"Withdrew: ₹{amount}\")\n",
        "        else:\n",
        "            print(\"Insufficient balance or invalid amount!\")\n",
        "\n",
        "    def check_balance(self):\n",
        "        print(f\"Current Balance: ₹{self.__balance}\")\n",
        "\n",
        "\n",
        "# Example usage\n",
        "account = BankAccount(500)\n",
        "account.check_balance()  # ₹500\n",
        "\n",
        "account.deposit(200)     # Deposit ₹200\n",
        "account.withdraw(100)    # Withdraw ₹100\n",
        "account.check_balance()  # ₹600\n",
        "\n",
        "# Trying to access private attribute directly (will fail)\n",
        "# print(account.__balance)  # AttributeError\n"
      ],
      "metadata": {
        "colab": {
          "base_uri": "https://localhost:8080/"
        },
        "id": "YQugz61-CzF5",
        "outputId": "2e98b72f-79e9-46de-bc77-4ed02cc86a72"
      },
      "execution_count": 5,
      "outputs": [
        {
          "output_type": "stream",
          "name": "stdout",
          "text": [
            "Current Balance: ₹500\n",
            "Deposited: ₹200\n",
            "Withdrew: ₹100\n",
            "Current Balance: ₹600\n"
          ]
        }
      ]
    },
    {
      "cell_type": "markdown",
      "source": [
        "6.Demonstrate runtime polymorphism using a method play() in a base class Instrument. Derive classes Guitar\n",
        "and Piano that implement their own version of play()."
      ],
      "metadata": {
        "id": "NlZUx1lHC5U9"
      }
    },
    {
      "cell_type": "code",
      "source": [
        "# Base class\n",
        "class Instrument:\n",
        "    def play(self):\n",
        "        print(\"Playing an instrument...\")\n",
        "\n",
        "# Derived class 1\n",
        "class Guitar(Instrument):\n",
        "    def play(self):\n",
        "        print(\"Strumming the guitar!\")\n",
        "\n",
        "# Derived class 2\n",
        "class Piano(Instrument):\n",
        "    def play(self):\n",
        "        print(\"Playing the piano keys!\")\n",
        "\n",
        "# Function to demonstrate runtime polymorphism\n",
        "def start_playing(instrument):\n",
        "    instrument.play()\n",
        "\n",
        "# Example usage\n",
        "instruments = [Guitar(), Piano()]\n",
        "\n",
        "for inst in instruments:\n",
        "    start_playing(inst)\n"
      ],
      "metadata": {
        "colab": {
          "base_uri": "https://localhost:8080/"
        },
        "id": "NESybX5jC-yZ",
        "outputId": "0e88901d-6ca5-4ad9-801d-feb1e411e3e2"
      },
      "execution_count": 6,
      "outputs": [
        {
          "output_type": "stream",
          "name": "stdout",
          "text": [
            "Strumming the guitar!\n",
            "Playing the piano keys!\n"
          ]
        }
      ]
    },
    {
      "cell_type": "markdown",
      "source": [
        "7.Create a class MathOperations with a class method add_numbers() to add two numbers and a static\n",
        "method subtract_numbers() to subtract two numbers."
      ],
      "metadata": {
        "id": "S7BqHX6zDGIQ"
      }
    },
    {
      "cell_type": "code",
      "source": [
        "class MathOperations:\n",
        "    @classmethod\n",
        "    def add_numbers(cls, a, b):\n",
        "        return a + b\n",
        "\n",
        "    @staticmethod\n",
        "    def subtract_numbers(a, b):\n",
        "        return a - b\n",
        "\n",
        "\n",
        "# Example usage\n",
        "print(\"Addition:\", MathOperations.add_numbers(10, 5))    # Output: 15\n",
        "print(\"Subtraction:\", MathOperations.subtract_numbers(10, 5))  # Output: 5\n"
      ],
      "metadata": {
        "colab": {
          "base_uri": "https://localhost:8080/"
        },
        "id": "ld4R8F8ZDLmC",
        "outputId": "f798f28b-2349-4e55-ccc9-cf6311d99558"
      },
      "execution_count": 7,
      "outputs": [
        {
          "output_type": "stream",
          "name": "stdout",
          "text": [
            "Addition: 15\n",
            "Subtraction: 5\n"
          ]
        }
      ]
    },
    {
      "cell_type": "markdown",
      "source": [
        "8.Implement a class Person with a class method to count the total number of persons created."
      ],
      "metadata": {
        "id": "xSNdfj3uDR-u"
      }
    },
    {
      "cell_type": "code",
      "source": [
        "class Person:\n",
        "    count = 0  # class-level attribute\n",
        "\n",
        "    def __init__(self, name):\n",
        "        self.name = name\n",
        "        Person.count += 1  # increment count whenever a new object is created\n",
        "\n",
        "    @classmethod\n",
        "    def total_persons(cls):\n",
        "        return cls.count\n",
        "\n",
        "\n",
        "# Example usage\n",
        "p1 = Person(\"Alice\")\n",
        "p2 = Person(\"Bob\")\n",
        "p3 = Person(\"Charlie\")\n",
        "\n",
        "print(\"Total persons created:\", Person.total_persons())  # Output: 3\n"
      ],
      "metadata": {
        "colab": {
          "base_uri": "https://localhost:8080/"
        },
        "id": "_4C3dQsKDbcE",
        "outputId": "71c715a1-4d23-4a71-b2de-84e495438eb2"
      },
      "execution_count": 8,
      "outputs": [
        {
          "output_type": "stream",
          "name": "stdout",
          "text": [
            "Total persons created: 3\n"
          ]
        }
      ]
    },
    {
      "cell_type": "markdown",
      "source": [
        "9.Write a class Fraction with attributes numerator and denominator. Override the str method to display the\n",
        "fraction as \"numerator/denominator\"."
      ],
      "metadata": {
        "id": "vZk_QgdWDdze"
      }
    },
    {
      "cell_type": "code",
      "source": [
        "class Fraction:\n",
        "    def __init__(self, numerator, denominator):\n",
        "        self.numerator = numerator\n",
        "        self.denominator = denominator\n",
        "\n",
        "    def __str__(self):\n",
        "        return f\"{self.numerator}/{self.denominator}\"\n",
        "\n",
        "\n",
        "# Example usage\n",
        "f1 = Fraction(3, 4)\n",
        "f2 = Fraction(5, 2)\n",
        "\n",
        "print(f1)  # Output: 3/4\n",
        "print(f2)  # Output: 5/2\n"
      ],
      "metadata": {
        "colab": {
          "base_uri": "https://localhost:8080/"
        },
        "id": "-vLSoL5ODil8",
        "outputId": "49580e30-7765-426f-cda7-bc4ba72c507b"
      },
      "execution_count": 9,
      "outputs": [
        {
          "output_type": "stream",
          "name": "stdout",
          "text": [
            "3/4\n",
            "5/2\n"
          ]
        }
      ]
    },
    {
      "cell_type": "markdown",
      "source": [
        "10.Demonstrate operator overloading by creating a class Vector and overriding the add method to add two\n",
        "vectors."
      ],
      "metadata": {
        "id": "L7VPxcpqDofE"
      }
    },
    {
      "cell_type": "code",
      "source": [
        "class Vector:\n",
        "    def __init__(self, x, y):\n",
        "        self.x = x\n",
        "        self.y = y\n",
        "\n",
        "    def __add__(self, other):\n",
        "        return Vector(self.x + other.x, self.y + other.y)\n",
        "\n",
        "    def __str__(self):\n",
        "        return f\"({self.x}, {self.y})\"\n",
        "\n",
        "\n",
        "# Example usage\n",
        "v1 = Vector(2, 3)\n",
        "v2 = Vector(4, 5)\n",
        "\n",
        "v3 = v1 + v2  # Calls __add__()\n",
        "print(v3)     # Output: (6, 8)\n"
      ],
      "metadata": {
        "colab": {
          "base_uri": "https://localhost:8080/"
        },
        "id": "IbD82ZboDvan",
        "outputId": "c01a61af-fc15-4cc9-c26f-e36efe7b45a2"
      },
      "execution_count": 10,
      "outputs": [
        {
          "output_type": "stream",
          "name": "stdout",
          "text": [
            "(6, 8)\n"
          ]
        }
      ]
    },
    {
      "cell_type": "markdown",
      "source": [
        "11.Create a class Person with attributes name and age. Add a method greet() that prints \"Hello, my name is\n",
        "{name} and I am {age} years old.\""
      ],
      "metadata": {
        "id": "XGnXNTPHD06T"
      }
    },
    {
      "cell_type": "code",
      "source": [
        "class Person:\n",
        "    def __init__(self, name, age):\n",
        "        self.name = name\n",
        "        self.age = age\n",
        "\n",
        "    def greet(self):\n",
        "        print(f\"Hello, my name is {self.name} and I am {self.age} years old.\")\n",
        "\n",
        "\n",
        "# Example usage\n",
        "p1 = Person(\"Alice\", 25)\n",
        "p1.greet()  # Output: Hello, my name is Alice and I am 25 years old.\n"
      ],
      "metadata": {
        "colab": {
          "base_uri": "https://localhost:8080/"
        },
        "id": "kBFnpOrwD7NW",
        "outputId": "12d86a4d-ee9d-4f73-d2be-5dbe49f3ab12"
      },
      "execution_count": 11,
      "outputs": [
        {
          "output_type": "stream",
          "name": "stdout",
          "text": [
            "Hello, my name is Alice and I am 25 years old.\n"
          ]
        }
      ]
    },
    {
      "cell_type": "markdown",
      "source": [
        "12. Implement a class Student with attributes name and grades. Create a method average_grade() to compute\n",
        "the average of the grades"
      ],
      "metadata": {
        "id": "6g7Cf0w1EEDT"
      }
    },
    {
      "cell_type": "code",
      "source": [
        "class Student:\n",
        "    def __init__(self, name, grades):\n",
        "        self.name = name\n",
        "        self.grades = grades  # list of numeric grades\n",
        "\n",
        "    def average_grade(self):\n",
        "        if not self.grades:  # check if list is empty\n",
        "            return 0\n",
        "        return sum(self.grades) / len(self.grades)\n",
        "\n",
        "\n",
        "# Example usage\n",
        "student1 = Student(\"Alice\", [85, 90, 78])\n",
        "student2 = Student(\"Bob\", [92, 88, 95, 100])\n",
        "student3 = Student(\"Charlie\", [])\n",
        "\n",
        "print(f\"{student1.name}'s average grade: {student1.average_grade():.2f}\")\n",
        "print(f\"{student2.name}'s average grade: {student2.average_grade():.2f}\")\n",
        "print(f\"{student3.name}'s average grade: {student3.average_grade():.2f}\")\n"
      ],
      "metadata": {
        "colab": {
          "base_uri": "https://localhost:8080/"
        },
        "id": "B7TBABkgEJBX",
        "outputId": "8f8d2cb1-87e0-44af-d066-7df9884df280"
      },
      "execution_count": 12,
      "outputs": [
        {
          "output_type": "stream",
          "name": "stdout",
          "text": [
            "Alice's average grade: 84.33\n",
            "Bob's average grade: 93.75\n",
            "Charlie's average grade: 0.00\n"
          ]
        }
      ]
    },
    {
      "cell_type": "markdown",
      "source": [
        "13. Create a class Rectangle with methods set_dimensions() to set the dimensions and area() to calculate the\n",
        "area."
      ],
      "metadata": {
        "id": "HFAwaJrcEgNR"
      }
    },
    {
      "cell_type": "code",
      "source": [
        "class Rectangle:\n",
        "    def __init__(self):\n",
        "        self.length = 0\n",
        "        self.width = 0\n",
        "\n",
        "    def set_dimensions(self, length, width):\n",
        "        self.length = length\n",
        "        self.width = width\n",
        "\n",
        "    def area(self):\n",
        "        return self.length * self.width\n",
        "\n",
        "\n",
        "# Example usage\n",
        "rect = Rectangle()\n",
        "rect.set_dimensions(5, 3)\n",
        "print(\"Area of rectangle:\", rect.area())  # Output: 15\n"
      ],
      "metadata": {
        "colab": {
          "base_uri": "https://localhost:8080/"
        },
        "id": "7UmPDj6YEW2k",
        "outputId": "e6bb6a89-aa41-454d-fcc0-bd6e97b3814b"
      },
      "execution_count": 13,
      "outputs": [
        {
          "output_type": "stream",
          "name": "stdout",
          "text": [
            "Area of rectangle: 15\n"
          ]
        }
      ]
    },
    {
      "cell_type": "markdown",
      "source": [
        "14.Create a class Employee with a method calculate_salary() that computes the salary based on hours worked\n",
        "and hourly rate. Create a derived class Manager that adds a bonus to the salary"
      ],
      "metadata": {
        "id": "37iXVigzEpTZ"
      }
    },
    {
      "cell_type": "code",
      "source": [
        "# Base class\n",
        "class Employee:\n",
        "    def __init__(self, name, hours_worked, hourly_rate):\n",
        "        self.name = name\n",
        "        self.hours_worked = hours_worked\n",
        "        self.hourly_rate = hourly_rate\n",
        "\n",
        "    def calculate_salary(self):\n",
        "        return self.hours_worked * self.hourly_rate\n",
        "\n",
        "\n",
        "# Derived class\n",
        "class Manager(Employee):\n",
        "    def __init__(self, name, hours_worked, hourly_rate, bonus):\n",
        "        super().__init__(name, hours_worked, hourly_rate)\n",
        "        self.bonus = bonus\n",
        "\n",
        "    def calculate_salary(self):\n",
        "        base_salary = super().calculate_salary()\n",
        "        return base_salary + self.bonus\n",
        "\n",
        "\n",
        "# Example usage\n",
        "emp = Employee(\"Alice\", 40, 500)\n",
        "mgr = Manager(\"Bob\", 40, 500, 5000)\n",
        "\n",
        "print(f\"{emp.name}'s Salary: ₹{emp.calculate_salary()}\")\n",
        "print(f\"{mgr.name}'s Salary: ₹{mgr.calculate_salary()}\")\n",
        "\n"
      ],
      "metadata": {
        "colab": {
          "base_uri": "https://localhost:8080/"
        },
        "id": "_6CJZF9rEdcv",
        "outputId": "1e43791d-0b78-4a34-cc5e-55d4e982f626"
      },
      "execution_count": 15,
      "outputs": [
        {
          "output_type": "stream",
          "name": "stdout",
          "text": [
            "Alice's Salary: ₹20000\n",
            "Bob's Salary: ₹25000\n"
          ]
        }
      ]
    },
    {
      "cell_type": "markdown",
      "source": [
        "15.Create a class Product with attributes name, price, and quantity. Implement a method total_price() that\n",
        "calculates the total price of the product."
      ],
      "metadata": {
        "id": "u7OG2RSDE7oP"
      }
    },
    {
      "cell_type": "code",
      "source": [
        "class Product:\n",
        "    def __init__(self, name, price, quantity):\n",
        "        self.name = name\n",
        "        self.price = price\n",
        "        self.quantity = quantity\n",
        "\n",
        "    def total_price(self):\n",
        "        return self.price * self.quantity\n",
        "\n",
        "\n",
        "# Example usage\n",
        "p1 = Product(\"Laptop\", 50000, 2)\n",
        "p2 = Product(\"Headphones\", 1500, 3)\n",
        "\n",
        "print(f\"Total price for {p1.name}: ₹{p1.total_price()}\")\n",
        "print(f\"Total price for {p2.name}: ₹{p2.total_price()}\")\n"
      ],
      "metadata": {
        "colab": {
          "base_uri": "https://localhost:8080/"
        },
        "id": "GD_PavPcFCfV",
        "outputId": "d198e51c-0267-4401-a9e8-423dd748fadc"
      },
      "execution_count": 16,
      "outputs": [
        {
          "output_type": "stream",
          "name": "stdout",
          "text": [
            "Total price for Laptop: ₹100000\n",
            "Total price for Headphones: ₹4500\n"
          ]
        }
      ]
    },
    {
      "cell_type": "markdown",
      "source": [
        "16.Create a class Animal with an abstract method sound(). Create two derived classes Cow and Sheep that\n",
        "implement the sound() method."
      ],
      "metadata": {
        "id": "fOTKa1qAFJNz"
      }
    },
    {
      "cell_type": "code",
      "source": [
        "from abc import ABC, abstractmethod\n",
        "\n",
        "# Abstract base class\n",
        "class Animal(ABC):\n",
        "    @abstractmethod\n",
        "    def sound(self):\n",
        "        pass\n",
        "\n",
        "\n",
        "# Derived class 1\n",
        "class Cow(Animal):\n",
        "    def sound(self):\n",
        "        print(\"Moo!\")\n",
        "\n",
        "\n",
        "# Derived class 2\n",
        "class Sheep(Animal):\n",
        "    def sound(self):\n",
        "        print(\"Baa!\")\n",
        "\n",
        "\n",
        "# Example usage\n",
        "animals = [Cow(), Sheep()]\n",
        "\n",
        "for animal in animals:\n",
        "    animal.sound()\n"
      ],
      "metadata": {
        "colab": {
          "base_uri": "https://localhost:8080/"
        },
        "id": "w6G7f_baFO4U",
        "outputId": "9b5ec1ae-e207-49fc-8b7b-c21e17581f10"
      },
      "execution_count": 17,
      "outputs": [
        {
          "output_type": "stream",
          "name": "stdout",
          "text": [
            "Moo!\n",
            "Baa!\n"
          ]
        }
      ]
    },
    {
      "cell_type": "markdown",
      "source": [
        "17.Create a class Book with attributes title, author, and year_published. Add a method get_book_info() that\n",
        "returns a formatted string with the book's details."
      ],
      "metadata": {
        "id": "QMqBKbtrFUkM"
      }
    },
    {
      "cell_type": "code",
      "source": [
        "class Book:\n",
        "    def __init__(self, title, author, year_published):\n",
        "        self.title = title\n",
        "        self.author = author\n",
        "        self.year_published = year_published\n",
        "\n",
        "    def get_book_info(self):\n",
        "        return f\"'{self.title}' by {self.author}, published in {self.year_published}\"\n",
        "\n",
        "\n",
        "# Example usage\n",
        "b1 = Book(\"To Kill a Mockingbird\", \"Harper Lee\", 1960)\n",
        "b2 = Book(\"1984\", \"George Orwell\", 1949)\n",
        "\n",
        "print(b1.get_book_info())\n",
        "print(b2.get_book_info())\n"
      ],
      "metadata": {
        "colab": {
          "base_uri": "https://localhost:8080/"
        },
        "id": "yTleNpqSFny_",
        "outputId": "d5b913ad-1c35-45ab-9658-2cc7d09d309a"
      },
      "execution_count": 18,
      "outputs": [
        {
          "output_type": "stream",
          "name": "stdout",
          "text": [
            "'To Kill a Mockingbird' by Harper Lee, published in 1960\n",
            "'1984' by George Orwell, published in 1949\n"
          ]
        }
      ]
    },
    {
      "cell_type": "markdown",
      "source": [
        "18. Create a class House with attributes address and price. Create a derived class Mansion that adds an\n",
        "attribute number_of_rooms."
      ],
      "metadata": {
        "id": "aBPgKrcDFqQ_"
      }
    },
    {
      "cell_type": "code",
      "source": [
        "# Base class\n",
        "class House:\n",
        "    def __init__(self, address, price):\n",
        "        self.address = address\n",
        "        self.price = price\n",
        "\n",
        "    def display_info(self):\n",
        "        print(f\"Address: {self.address}\")\n",
        "        print(f\"Price: ₹{self.price}\")\n",
        "\n",
        "\n",
        "# Derived class\n",
        "class Mansion(House):\n",
        "    def __init__(self, address, price, number_of_rooms):\n",
        "        super().__init__(address, price)\n",
        "        self.number_of_rooms = number_of_rooms\n",
        "\n",
        "    def display_info(self):\n",
        "        super().display_info()\n",
        "        print(f\"Number of Rooms: {self.number_of_rooms}\")\n",
        "\n",
        "\n",
        "# Example usage\n",
        "h1 = House(\"123 Main Street\", 5000000)\n",
        "m1 = Mansion(\"456 Luxury Lane\", 25000000, 15)\n",
        "\n",
        "print(\"House Details:\")\n",
        "h1.display_info()\n",
        "\n",
        "print(\"\\nMansion Details:\")\n",
        "m1.display_info()\n"
      ],
      "metadata": {
        "colab": {
          "base_uri": "https://localhost:8080/"
        },
        "id": "lp3i3El3FuD6",
        "outputId": "1d3c8d47-6529-4957-a432-68a6ae83cdec"
      },
      "execution_count": 19,
      "outputs": [
        {
          "output_type": "stream",
          "name": "stdout",
          "text": [
            "House Details:\n",
            "Address: 123 Main Street\n",
            "Price: ₹5000000\n",
            "\n",
            "Mansion Details:\n",
            "Address: 456 Luxury Lane\n",
            "Price: ₹25000000\n",
            "Number of Rooms: 15\n"
          ]
        }
      ]
    }
  ]
}