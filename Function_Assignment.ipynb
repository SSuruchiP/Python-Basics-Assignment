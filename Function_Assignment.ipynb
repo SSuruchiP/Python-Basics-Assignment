{
  "nbformat": 4,
  "nbformat_minor": 0,
  "metadata": {
    "colab": {
      "provenance": []
    },
    "kernelspec": {
      "name": "python3",
      "display_name": "Python 3"
    },
    "language_info": {
      "name": "python"
    }
  },
  "cells": [
    {
      "cell_type": "markdown",
      "source": [
        "# Theory Questions:\n",
        "\n"
      ],
      "metadata": {
        "id": "1CZdpBVUEpwO"
      }
    },
    {
      "cell_type": "markdown",
      "source": [
        "1. What is the difference between a function and a method in Python?\n",
        "\n",
        "Ans: In Python, a **function** is a block of reusable code that performs a specific task and can be called independently using its name. Functions are defined using the `def` keyword and can exist either inside or outside of classes. A **method**, on the other hand, is a function that is associated with an object and is defined within a class. Methods implicitly take the instance of the class (commonly referred to as `self`) as their first parameter, allowing them to access and modify the object's attributes. While all methods are functions, not all functions are methods. The key difference lies in how they are called and used—functions operate independently, whereas methods are tied to class instances and typically operate on the data within those objects.\n"
      ],
      "metadata": {
        "id": "KtxZZsYQFJ5Z"
      }
    },
    {
      "cell_type": "markdown",
      "source": [
        "2. Explain the concept of function arguments and parameters in Python.\n",
        "\n",
        "Ans:In Python, **parameters** and **arguments** are related concepts used in functions, but they serve different roles. **Parameters** are the variables listed inside the parentheses in the function definition. They act as placeholders for the values the function needs to perform its task. For example, in `def greet(name):`, `name` is a parameter. **Arguments**, on the other hand, are the actual values that are passed to the function when it is called. For example, in `greet(\"Suruchi\")`, the string `\"Suruchi\"` is the argument provided to the function.\n",
        "\n",
        "Python supports different types of arguments such as **positional arguments**, **keyword arguments**, **default arguments**, and **variable-length arguments** (`*args` and `**kwargs`). Positional arguments must be in the correct order, keyword arguments are passed using parameter names, default arguments provide fallback values, and variable-length arguments allow passing a flexible number of inputs. Together, parameters and arguments make functions dynamic and reusable, allowing them to work with different data each time they are called.\n"
      ],
      "metadata": {
        "id": "rE35HfywFgpi"
      }
    },
    {
      "cell_type": "markdown",
      "source": [
        "3. What are the different ways to define and call a function in Python?\n",
        "\n",
        "Ans: In Python, functions can be defined and called in various ways to suit different programming needs. The most common way is using the `def` keyword to create a named function, which is then called by its name followed by parentheses. Functions can also be defined with **default arguments**, where parameters are given default values to be used if no argument is provided during the call. Another approach is using **keyword arguments**, allowing arguments to be passed by explicitly naming the parameter, making the order of arguments flexible. Python also supports **variable-length arguments** using `*args` for a variable number of positional arguments and `**kwargs` for keyword arguments, providing great flexibility when the number of inputs is unknown. For simple one-line operations, **lambda functions** (anonymous functions) can be used, defined with the `lambda` keyword. Functions can also be **nested**, where a function is defined inside another, and can access the outer function's scope. Additionally, **recursive functions**, which call themselves, are useful for tasks like calculating factorials or traversing trees. These various ways of defining and calling functions make Python a powerful language for both simple and complex tasks.\n"
      ],
      "metadata": {
        "id": "JyW8jKn8F4Jy"
      }
    },
    {
      "cell_type": "markdown",
      "source": [
        "4.  What is the purpose of the `return` statement in a Python function?\n",
        "\n",
        "ans:The `return` statement in a Python function is used to send the result or output of the function back to the caller. It ends the execution of the function and provides a value that can be stored in a variable, used in expressions, or passed to other functions. Without a `return` statement, a function will return `None` by default. The `return` statement allows a function to produce a result that can be reused elsewhere in the program, making the code more modular and efficient. Additionally, it can return multiple values as a tuple, enabling the function to provide more than one result at a time.\n"
      ],
      "metadata": {
        "id": "P3PqsV3QGZyO"
      }
    },
    {
      "cell_type": "markdown",
      "source": [
        "5.  What are iterators in Python and how do they differ from iterables?\n",
        "\n",
        "Ans:In Python, an **iterable** is any object that can be looped over, such as lists, tuples, strings, sets, or dictionaries. These objects implement the `__iter__()` method, which returns an **iterator**. An **iterator** is an object that represents a stream of data; it implements both `__iter__()` and `__next__()` methods. The `__next__()` method returns the next item from the sequence each time it's called, and raises a `StopIteration` exception when there are no more items.\n",
        "\n",
        "The key difference between **iterables** and **iterators** is that iterables can be passed to the `iter()` function to get an iterator, but they themselves do not keep track of the current position during iteration. Iterators, on the other hand, remember their state as they move through the data. In simple terms, iterables are like books (they can be read), while iterators are like bookmarks (they keep track of where you are while reading).\n"
      ],
      "metadata": {
        "id": "aUk7B1O6Gub1"
      }
    },
    {
      "cell_type": "markdown",
      "source": [
        "6. Explain the concept of generators in Python and how they are defined.\n",
        "\n",
        "Ans:In Python, **generators** are a special type of iterable that allow you to generate values one at a time using the `yield` keyword, rather than storing them all in memory like a list. This makes generators very efficient for handling large datasets or streams of data because they produce values **on the fly** and only when needed (lazy evaluation).\n",
        "\n",
        "Generators are defined like regular functions using the `def` keyword, but instead of `return`, they use `yield` to return a value. Each time the generator's `__next__()` method is called (either manually or through a loop), it resumes from where it left off, preserving its internal state. For example:\n",
        "\n",
        "```python\n",
        "def count_up_to(n):\n",
        "    count = 1\n",
        "    while count <= n:\n",
        "        yield count\n",
        "        count += 1\n",
        "```\n",
        "\n",
        "When this function is called as `count_up_to(5)`, it doesn't execute immediately but returns a generator object. You can then iterate over it using a `for` loop or the `next()` function to get values one by one. Generators are memory-efficient, concise, and ideal for scenarios where you don’t need all items at once, such as reading large files or processing data streams.\n"
      ],
      "metadata": {
        "id": "i2UFKLXBG3aC"
      }
    },
    {
      "cell_type": "markdown",
      "source": [
        "7.  What are the advantages of using generators over regular functions?\n",
        "\n",
        "Ans:Generators offer several advantages over regular functions, especially when dealing with large data sets or streaming data:\n",
        "\n",
        "1. **Memory Efficiency**: Generators yield one item at a time instead of returning all items at once, which means they do not store the entire sequence in memory. This is ideal for processing large or infinite sequences.\n",
        "\n",
        "2. **Lazy Evaluation**: Generators produce values only when requested. This lazy evaluation reduces unnecessary computations and allows efficient looping over large datasets.\n",
        "\n",
        "3. **Improved Performance**: Since generators avoid building and returning full data structures, they often run faster and require less overhead compared to regular functions that return lists or other collections.\n",
        "\n",
        "4. **Clean and Simple Code**: Generators allow writing concise and readable code for complex iteration logic using `yield`, eliminating the need for managing loop counters and intermediate collections manually.\n",
        "\n",
        "5. **State Preservation**: Generators automatically preserve their state between `yield` calls, making them suitable for tasks like streaming data processing, reading files line-by-line, or generating infinite series.\n",
        "\n",
        "\n"
      ],
      "metadata": {
        "id": "kc5cY5qVHLQl"
      }
    },
    {
      "cell_type": "markdown",
      "source": [
        "8. What is a lambda function in Python and when is it typically used?\n",
        "\n",
        "Ans: A **lambda function** in Python is a small, anonymous function defined using the `lambda` keyword instead of `def`. It can take any number of arguments but can only contain a single expression. The result of this expression is automatically returned. The basic syntax is:\n",
        "\n",
        "```python\n",
        "lambda arguments: expression\n",
        "```\n",
        "\n",
        "For example:\n",
        "\n",
        "```python\n",
        "square = lambda x: x * x\n",
        "print(square(5))  # Output: 25\n",
        "```\n",
        "\n",
        "Lambda functions are typically used when a simple, short function is needed for a short period and defining a full function with `def` would be unnecessary or make the code less concise. They are commonly used with functions like `map()`, `filter()`, and `sorted()`, or in GUI and data science tasks where small callbacks or transformations are needed quickly. While convenient, lambda functions should be used carefully to maintain code readability.\n"
      ],
      "metadata": {
        "id": "MHdPGG0THfjk"
      }
    },
    {
      "cell_type": "markdown",
      "source": [
        "9. Explain the purpose and usage of the `map()` function in Python.\n",
        "\n",
        "Ans:The `map()` function in Python is used to apply a specific function to every item in an iterable (such as a list, tuple, or string) and returns a new **map object**, which is an iterator. The purpose of `map()` is to simplify the process of transforming data in a collection without writing explicit loops.\n",
        "\n",
        "### **Syntax:**\n",
        "\n",
        "```python\n",
        "map(function, iterable)\n",
        "```\n",
        "\n",
        "* **function**: A function that takes one (or more) arguments.\n",
        "* **iterable**: A sequence (like a list, tuple, etc.) whose elements will be processed.\n",
        "\n",
        "### **Example:**\n",
        "\n",
        "```python\n",
        "def square(x):\n",
        "    return x * x\n",
        "\n",
        "numbers = [1, 2, 3, 4, 5]\n",
        "result = map(square, numbers)\n",
        "print(list(result))  # Output: [1, 4, 9, 16, 25]\n",
        "```\n",
        "\n",
        "You can also use a **lambda function** with `map()`:\n",
        "\n",
        "```python\n",
        "numbers = [1, 2, 3]\n",
        "squares = map(lambda x: x**2, numbers)\n",
        "print(list(squares))  # Output: [1, 4, 9]\n",
        "```\n",
        "\n",
        "### **Key Features:**\n",
        "\n",
        "* `map()` is useful for performing operations on all items in a collection without using loops.\n",
        "* It returns a lazy iterator, so the result must be converted to a list or another iterable if you want to access all elements at once.\n",
        "* `map()` can also accept multiple iterables if the function takes multiple arguments.\n",
        "\n",
        "\n"
      ],
      "metadata": {
        "id": "SBG9aXLOH4UI"
      }
    },
    {
      "cell_type": "markdown",
      "source": [
        "10. What is the difference between `map()`, `reduce()`, and `filter()` functions in Python?\n",
        "\n",
        "Ans:In Python, `map()`, `filter()`, and `reduce()` are built-in functions used for functional-style programming. They all operate on iterables like lists or tuples, but serve different purposes:\n",
        "\n",
        "### 1. **`map()`** – **Transformation**\n",
        "\n",
        "* **Purpose**: Applies a given function to **each item** in an iterable.\n",
        "* **Returns**: A new iterator with the transformed values.\n",
        "* **Example**:\n",
        "\n",
        "  ```python\n",
        "  nums = [1, 2, 3]\n",
        "  squares = list(map(lambda x: x ** 2, nums))  # [1, 4, 9]\n",
        "  ```\n",
        "\n",
        "---\n",
        "\n",
        "### 2. **`filter()`** – **Selection**\n",
        "\n",
        "* **Purpose**: Filters elements in an iterable based on a function that returns **True or False**.\n",
        "* **Returns**: A new iterator with only those elements for which the function returns `True`.\n",
        "* **Example**:\n",
        "\n",
        "  ```python\n",
        "  nums = [1, 2, 3, 4]\n",
        "  even = list(filter(lambda x: x % 2 == 0, nums))  # [2, 4]\n",
        "  ```\n",
        "\n",
        "---\n",
        "\n",
        "### 3. **`reduce()`** – **Accumulation**\n",
        "\n",
        "* **Purpose**: Applies a function cumulatively to the items of an iterable, reducing the iterable to a **single value**.\n",
        "* **Returns**: A single result.\n",
        "* **Note**: `reduce()` is in the `functools` module, so it must be imported.\n",
        "* **Example**:\n",
        "\n",
        "  ```python\n",
        "  from functools import reduce\n",
        "  nums = [1, 2, 3, 4]\n",
        "  total = reduce(lambda x, y: x + y, nums)  # 10\n",
        "  ```\n",
        "\n",
        "\n"
      ],
      "metadata": {
        "id": "KuPDWttoJnHw"
      }
    },
    {
      "cell_type": "markdown",
      "source": [
        "11. Using pen & Paper write the internal mechanism for sum operation using  reduce function on this given\n",
        "list:[47,11,42,13]\n",
        "\n",
        "Ans:To understand the **internal mechanism** of the `reduce()` function for summing the list `[47, 11, 42, 13]`, let's break it down **step-by-step on paper**, as if Python is processing it internally.\n",
        "\n",
        "---\n",
        "\n",
        "### ✅ **Step-by-step using `reduce()`**\n",
        "\n",
        "```python\n",
        "from functools import reduce\n",
        "\n",
        "numbers = [47, 11, 42, 13]\n",
        "total = reduce(lambda x, y: x + y, numbers)\n",
        "```\n",
        "\n",
        "---\n",
        "\n",
        "### 🔧 **Internal Working of `reduce()`**:\n",
        "\n",
        "The `reduce()` function applies the lambda function cumulatively from **left to right**:\n",
        "\n",
        "1. Start with the **first two elements**:\n",
        "   → `x = 47`, `y = 11`\n",
        "   → `result = 47 + 11 = 58`\n",
        "\n",
        "2. Now take the **result and the next element**:\n",
        "   → `x = 58`, `y = 42`\n",
        "   → `result = 58 + 42 = 100`\n",
        "\n",
        "3. Now take the **new result and the next element**:\n",
        "   → `x = 100`, `y = 13`\n",
        "   → `result = 100 + 13 = 113`\n",
        "\n",
        "---\n",
        "\n",
        "### ✅ **Final Result: `113`**\n",
        "\n",
        "---\n",
        "\n",
        "### 📌 Summary Table:\n",
        "\n",
        "| Step | x   | y  | x + y | Result |\n",
        "| ---- | --- | -- | ----- | ------ |\n",
        "| 1    | 47  | 11 | 58    | 58     |\n",
        "| 2    | 58  | 42 | 100   | 100    |\n",
        "| 3    | 100 | 13 | 113   | 113    |\n",
        "\n",
        "---\n",
        "\n",
        "So, using **pen and paper**, this is how `reduce()` cumulatively adds each pair and returns the **final sum: `113`**.\n"
      ],
      "metadata": {
        "id": "o2hhXz4jKHSc"
      }
    },
    {
      "cell_type": "markdown",
      "source": [
        "# Practical Questions:"
      ],
      "metadata": {
        "id": "wHiHV5FAKnWX"
      }
    },
    {
      "cell_type": "markdown",
      "source": [
        "1. Write a Python function that takes a list of numbers as input and returns the sum of all even numbers in\n",
        "the list."
      ],
      "metadata": {
        "id": "EVPD1t3tK1nY"
      }
    },
    {
      "cell_type": "code",
      "source": [
        "def sum_even_numbers(numbers):\n",
        "    return sum(num for num in numbers if num % 2 == 0)\n",
        "\n",
        "# Example input\n",
        "my_list = [10, 15, 20, 25, 30]\n",
        "\n",
        "# Function call\n",
        "result = sum_even_numbers(my_list)\n",
        "\n",
        "# Output\n",
        "print(\"Sum of even numbers:\", result)\n"
      ],
      "metadata": {
        "colab": {
          "base_uri": "https://localhost:8080/"
        },
        "id": "LBh_EgQvK7Py",
        "outputId": "d398ca65-aa3b-4076-9fa5-44e9effa0eb9"
      },
      "execution_count": 1,
      "outputs": [
        {
          "output_type": "stream",
          "name": "stdout",
          "text": [
            "Sum of even numbers: 60\n"
          ]
        }
      ]
    },
    {
      "cell_type": "markdown",
      "source": [
        "2. Create a Python function that accepts a string and returns the reverse of that string."
      ],
      "metadata": {
        "id": "7lmwoNuFLhKD"
      }
    },
    {
      "cell_type": "code",
      "source": [
        "def reverse_string(text):\n",
        "    return text[::-1]\n",
        "\n",
        "# Example usage\n",
        "input_string = \"Suruchi\"\n",
        "result = reverse_string(input_string)\n",
        "print(\"Reversed string:\", result)\n"
      ],
      "metadata": {
        "colab": {
          "base_uri": "https://localhost:8080/"
        },
        "id": "UA_ki1gGLobI",
        "outputId": "0716176a-996d-4eb2-e35a-726060fde7e9"
      },
      "execution_count": 2,
      "outputs": [
        {
          "output_type": "stream",
          "name": "stdout",
          "text": [
            "Reversed string: ihcuruS\n"
          ]
        }
      ]
    },
    {
      "cell_type": "markdown",
      "source": [
        "3.  Implement a Python function that takes a list of integers and returns a new list containing the squares of\n",
        "each number."
      ],
      "metadata": {
        "id": "cK4GKWTLLvfN"
      }
    },
    {
      "cell_type": "code",
      "source": [
        "def square_list(numbers):\n",
        "    return [num ** 2 for num in numbers]\n",
        "\n",
        "# Example usage\n",
        "input_list = [2, 4, 6, 8]\n",
        "result = square_list(input_list)\n",
        "print(\"List of squares:\", result)\n"
      ],
      "metadata": {
        "colab": {
          "base_uri": "https://localhost:8080/"
        },
        "id": "LKyqOLB-L3db",
        "outputId": "ce84281c-a13f-42ca-825a-3c75f23ce6b9"
      },
      "execution_count": 3,
      "outputs": [
        {
          "output_type": "stream",
          "name": "stdout",
          "text": [
            "List of squares: [4, 16, 36, 64]\n"
          ]
        }
      ]
    },
    {
      "cell_type": "markdown",
      "source": [
        "4. Write a Python function that checks if a given number is prime or not from 1 to 200."
      ],
      "metadata": {
        "id": "goor9YcGL8-n"
      }
    },
    {
      "cell_type": "code",
      "source": [
        "def is_prime(n):\n",
        "    if n < 2 or n > 200:\n",
        "        return \"Number must be between 1 and 200.\"\n",
        "    for i in range(2, int(n ** 0.5) + 1):\n",
        "        if n % i == 0:\n",
        "            return False\n",
        "    return True\n",
        "\n",
        "# Example usage\n",
        "number = 97\n",
        "if is_prime(number):\n",
        "    print(f\"{number} is a prime number.\")\n",
        "else:\n",
        "    print(f\"{number} is not a prime number.\")\n"
      ],
      "metadata": {
        "colab": {
          "base_uri": "https://localhost:8080/"
        },
        "id": "bWYIHKxqMJWf",
        "outputId": "92b0d5a7-5bd4-4095-9833-33dc9b2c33b3"
      },
      "execution_count": 4,
      "outputs": [
        {
          "output_type": "stream",
          "name": "stdout",
          "text": [
            "97 is a prime number.\n"
          ]
        }
      ]
    },
    {
      "cell_type": "markdown",
      "source": [
        "5. Create an iterator class in Python that generates the Fibonacci sequence up to a specified number of\n",
        "terms."
      ],
      "metadata": {
        "id": "fibF4JjjMXJL"
      }
    },
    {
      "cell_type": "code",
      "source": [
        "class FibonacciIterator:\n",
        "    def __init__(self, max_terms):\n",
        "        self.max_terms = max_terms\n",
        "        self.count = 0\n",
        "        self.a, self.b = 0, 1\n",
        "\n",
        "    def __iter__(self):\n",
        "        return self\n",
        "\n",
        "    def __next__(self):\n",
        "        if self.count >= self.max_terms:\n",
        "            raise StopIteration\n",
        "        if self.count == 0:\n",
        "            self.count += 1\n",
        "            return 0\n",
        "        elif self.count == 1:\n",
        "            self.count += 1\n",
        "            return 1\n",
        "        else:\n",
        "            self.a, self.b = self.b, self.a + self.b\n",
        "            self.count += 1\n",
        "            return self.a\n",
        "\n",
        "# Example usage\n",
        "fib = FibonacciIterator(10)\n",
        "for num in fib:\n",
        "    print(num, end=\" \")\n"
      ],
      "metadata": {
        "colab": {
          "base_uri": "https://localhost:8080/"
        },
        "id": "q4tRQD3IMjIP",
        "outputId": "b84c0bd9-87d0-4c03-fb3f-39df2690829f"
      },
      "execution_count": 5,
      "outputs": [
        {
          "output_type": "stream",
          "name": "stdout",
          "text": [
            "0 1 1 1 2 3 5 8 13 21 "
          ]
        }
      ]
    },
    {
      "cell_type": "markdown",
      "source": [
        "6.  Write a generator function in Python that yields the powers of 2 up to a given exponent."
      ],
      "metadata": {
        "id": "PQRaB1jiMllS"
      }
    },
    {
      "cell_type": "code",
      "source": [
        "def powers_of_two(max_exponent):\n",
        "    for i in range(max_exponent + 1):\n",
        "        yield 2 ** i\n",
        "\n",
        "# Example usage\n",
        "for power in powers_of_two(5):\n",
        "    print(power, end=\" \")\n"
      ],
      "metadata": {
        "colab": {
          "base_uri": "https://localhost:8080/"
        },
        "id": "kUFp1DSXMtBy",
        "outputId": "d8d46722-b245-4922-a347-c566da748664"
      },
      "execution_count": 6,
      "outputs": [
        {
          "output_type": "stream",
          "name": "stdout",
          "text": [
            "1 2 4 8 16 32 "
          ]
        }
      ]
    },
    {
      "cell_type": "markdown",
      "source": [
        "7. Implement a generator function that reads a file line by line and yields each line as a string."
      ],
      "metadata": {
        "id": "q_fhANDHMyn7"
      }
    },
    {
      "cell_type": "code",
      "source": [
        "def read_file_line_by_line(file_path):\n",
        "    with open(file_path, 'r') as file:\n",
        "        for line in file:\n",
        "            yield line.strip()  # Removes extra spaces and newline characters\n"
      ],
      "metadata": {
        "id": "xI22I6hRM5-R"
      },
      "execution_count": 10,
      "outputs": []
    },
    {
      "cell_type": "code",
      "source": [
        "# Create a file with some text\n",
        "f = open(\"example.txt\", \"w\")\n",
        "f.write(\"Hello\\n\")\n",
        "f.write(\"This is Python\\n\")\n",
        "f.write(\"Line by line reading\\n\")\n",
        "f.close()\n",
        "\n",
        "# Generator to read file line by line\n",
        "def read_file(file_name):\n",
        "    for line in open(file_name):\n",
        "        yield line.strip()\n",
        "\n",
        "# Use the generator\n",
        "for line in read_file(\"example.txt\"):\n",
        "    print(line)\n"
      ],
      "metadata": {
        "colab": {
          "base_uri": "https://localhost:8080/"
        },
        "id": "TX8Tcx9vNrmv",
        "outputId": "80578cc9-6999-4c20-9ae6-6db226cd21a6"
      },
      "execution_count": 8,
      "outputs": [
        {
          "output_type": "stream",
          "name": "stdout",
          "text": [
            "Hello\n",
            "This is Python\n",
            "Line by line reading\n"
          ]
        }
      ]
    },
    {
      "cell_type": "markdown",
      "source": [
        "8.  Use a lambda function in Python to sort a list of tuples based on the second element of each tuple."
      ],
      "metadata": {
        "id": "rbwvvE_3NyA5"
      }
    },
    {
      "cell_type": "code",
      "source": [
        "# List of tuples\n",
        "data = [(1, 5), (3, 2), (4, 8), (2, 1)]\n",
        "\n",
        "# Sort by second element using lambda\n",
        "sorted_data = sorted(data, key=lambda x: x[1])\n",
        "\n",
        "# Print the result\n",
        "print(\"Sorted list:\", sorted_data)\n"
      ],
      "metadata": {
        "colab": {
          "base_uri": "https://localhost:8080/"
        },
        "id": "stXw0XoXN6RD",
        "outputId": "40186b11-22ab-4464-eefc-0d1317599ae0"
      },
      "execution_count": 11,
      "outputs": [
        {
          "output_type": "stream",
          "name": "stdout",
          "text": [
            "Sorted list: [(2, 1), (3, 2), (1, 5), (4, 8)]\n"
          ]
        }
      ]
    },
    {
      "cell_type": "markdown",
      "source": [
        "9.  Write a Python program that uses `map()` to convert a list of temperatures from Celsius to Fahrenheit.\n"
      ],
      "metadata": {
        "id": "eMhPs5WKN_eB"
      }
    },
    {
      "cell_type": "code",
      "source": [
        "# List of temperatures in Celsius\n",
        "celsius = [0, 20, 37, 100]\n",
        "\n",
        "# Convert to Fahrenheit using map and lambda\n",
        "fahrenheit = list(map(lambda c: (c * 9/5) + 32, celsius))\n",
        "\n",
        "# Print the result\n",
        "print(\"Temperatures in Fahrenheit:\", fahrenheit)\n"
      ],
      "metadata": {
        "colab": {
          "base_uri": "https://localhost:8080/"
        },
        "id": "3yFJN8TzOPD1",
        "outputId": "d5e392b3-ca98-4043-a450-3d806487f840"
      },
      "execution_count": 12,
      "outputs": [
        {
          "output_type": "stream",
          "name": "stdout",
          "text": [
            "Temperatures in Fahrenheit: [32.0, 68.0, 98.6, 212.0]\n"
          ]
        }
      ]
    },
    {
      "cell_type": "markdown",
      "source": [
        "10. Create a Python program that uses `filter()` to remove all the vowels from a given string."
      ],
      "metadata": {
        "id": "Eyst79ELOVON"
      }
    },
    {
      "cell_type": "code",
      "source": [
        "def remove_vowels(text):\n",
        "    vowels = 'aeiouAEIOU'\n",
        "    return ''.join(filter(lambda ch: ch not in vowels, text))\n",
        "\n",
        "# Example usage\n",
        "input_string = \"Hello, Suruchi!\"\n",
        "result = remove_vowels(input_string)\n",
        "print(\"String without vowels:\", result)\n"
      ],
      "metadata": {
        "colab": {
          "base_uri": "https://localhost:8080/"
        },
        "id": "-kYRUyFPOgYl",
        "outputId": "34295055-b29f-4f2d-ae64-0aa9012f91e6"
      },
      "execution_count": 13,
      "outputs": [
        {
          "output_type": "stream",
          "name": "stdout",
          "text": [
            "String without vowels: Hll, Srch!\n"
          ]
        }
      ]
    },
    {
      "cell_type": "markdown",
      "source": [
        "11. magine an accounting routine used in a book shop. It works on a list with sublists, which look like this:\n",
        "Write a Python program, which returns a list with 2-tuples. Each tuple consists of the order number and the\n",
        "product of the price per item and the quantity. The product should be increased by 10,- € if the value of the\n",
        "order is smaller than 100,00 €.\n",
        "\n",
        "Write a Python program using lambda and map."
      ],
      "metadata": {
        "id": "PTSvI6x1Ot5D"
      }
    },
    {
      "cell_type": "code",
      "source": [
        "orders = [\n",
        "    [1001, \"Book A\", 2, 25.00],\n",
        "    [1002, \"Book B\", 1, 120.00],\n",
        "    [1003, \"Book C\", 3, 15.00],\n",
        "    [1004, \"Book D\", 1, 80.00]\n",
        "]\n",
        "\n",
        "# Using map and lambda to process the orders\n",
        "result = list(map(lambda order: (\n",
        "    order[0],\n",
        "    order[2] * order[3] + 10 if order[2] * order[3] < 100 else order[2] * order[3]\n",
        "), orders))\n",
        "\n",
        "# Print the result\n",
        "print(result)\n"
      ],
      "metadata": {
        "colab": {
          "base_uri": "https://localhost:8080/"
        },
        "id": "MpvsLBMyPO1V",
        "outputId": "1250a81b-ae2b-499a-fc3f-090b66f81651"
      },
      "execution_count": 14,
      "outputs": [
        {
          "output_type": "stream",
          "name": "stdout",
          "text": [
            "[(1001, 60.0), (1002, 120.0), (1003, 55.0), (1004, 90.0)]\n"
          ]
        }
      ]
    }
  ]
}