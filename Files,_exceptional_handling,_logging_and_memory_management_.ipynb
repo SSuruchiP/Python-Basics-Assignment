{
  "nbformat": 4,
  "nbformat_minor": 0,
  "metadata": {
    "colab": {
      "provenance": []
    },
    "kernelspec": {
      "name": "python3",
      "display_name": "Python 3"
    },
    "language_info": {
      "name": "python"
    }
  },
  "cells": [
    {
      "cell_type": "markdown",
      "source": [
        "# **Files, exceptional handling, logging and memory management Questions**\n",
        "\n",
        "---\n",
        "\n",
        "\n",
        "\n",
        "---\n",
        "\n"
      ],
      "metadata": {
        "id": "Nyo_AhIw_GNS"
      }
    },
    {
      "cell_type": "markdown",
      "source": [
        "1.What is the difference between interpreted and compiled languages?\n",
        "\n",
        "ans:The main difference between **interpreted** and **compiled** languages lies in **how the code you write is translated into machine-readable instructions** before execution.\n",
        "\n",
        "\n",
        "---\n",
        "\n",
        "### **1. Compiled Languages**\n",
        "\n",
        "* **Process:** The source code (human-readable) is translated **all at once** into machine code (binary) by a **compiler** before running.\n",
        "* **Execution:** The program is run directly by the computer’s hardware.\n",
        "* **Speed:** Usually faster at runtime because translation happens beforehand.\n",
        "* **Examples:** C, C++, Rust, Go.\n",
        "* **Advantages:**\n",
        "\n",
        "  * Faster execution speed.\n",
        "  * Optimized performance by the compiler.\n",
        "  * No need for the source code to run the program (only the compiled file is needed).\n",
        "* **Disadvantages:**\n",
        "\n",
        "  * Slower to test changes because you must recompile after every change.\n",
        "  * Debugging can be harder because error messages point to compiled code.\n",
        "\n",
        "---\n",
        "\n",
        "### **2. Interpreted Languages**\n",
        "\n",
        "* **Process:** The source code is **read and executed line-by-line** by an **interpreter** at runtime.\n",
        "* **Execution:** No separate compilation step; the interpreter translates on the fly.\n",
        "* **Speed:** Usually slower because translation happens during execution.\n",
        "* **Examples:** Python, JavaScript, Ruby, PHP.\n",
        "* **Advantages:**\n",
        "\n",
        "  * Easier to test and debug (just run the code without compilation).\n",
        "  * More flexible — can execute partial code or modify behavior at runtime.\n",
        "* **Disadvantages:**\n",
        "\n",
        "  * Slower execution speed.\n",
        "  * Requires the interpreter to be installed to run the program.\n",
        "\n",
        "---\n",
        "\n"
      ],
      "metadata": {
        "id": "l-Se4Ua-_gnb"
      }
    },
    {
      "cell_type": "markdown",
      "source": [
        "2.What is exception handling in Python?\n",
        "\n",
        "ans:**Exception handling in Python** is a mechanism that lets you deal with **errors (exceptions)** in your program without crashing it.\n",
        "\n",
        "Instead of your program stopping when something goes wrong, you can **catch** the error, **handle it gracefully**, and continue running.\n",
        "\n",
        "---\n",
        "\n",
        "## **Why it’s needed**\n",
        "\n",
        "When something unexpected happens — like dividing by zero, reading a non-existent file, or accessing an invalid list index — Python raises an **exception**.\n",
        "Without handling it, your program stops and shows an error message.\n",
        "\n",
        "---\n",
        "\n",
        "## **Basic Syntax**\n",
        "\n",
        "```python\n",
        "try:\n",
        "    # Code that might cause an exception\n",
        "    x = 10 / 0\n",
        "except ZeroDivisionError:\n",
        "    # Code that runs if the exception occurs\n",
        "    print(\"You can't divide by zero!\")\n",
        "finally:\n",
        "    # Optional: Code that always runs, no matter what\n",
        "    print(\"Execution complete.\")\n",
        "```\n",
        "\n",
        "---\n",
        "\n",
        "### **Key Blocks**\n",
        "\n",
        "1. **`try`** – Contains code that might cause an exception.\n",
        "2. **`except`** – Handles the exception if it occurs.\n",
        "3. **`else`** – (Optional) Runs if no exception occurs.\n",
        "4. **`finally`** – (Optional) Runs no matter what (for cleanup tasks).\n",
        "\n",
        "---\n",
        "\n",
        "### **Example**\n",
        "\n",
        "```python\n",
        "try:\n",
        "    num = int(input(\"Enter a number: \"))\n",
        "    result = 10 / num\n",
        "except ValueError:\n",
        "    print(\"Invalid input! Please enter a number.\")\n",
        "except ZeroDivisionError:\n",
        "    print(\"Cannot divide by zero.\")\n",
        "else:\n",
        "    print(\"Result is:\", result)\n",
        "finally:\n",
        "    print(\"Program ended.\")\n",
        "```\n",
        "\n",
        "---\n",
        "\n",
        "### **Advantages**\n",
        "\n",
        "* Prevents abrupt program termination.\n",
        "* Helps debug and log errors.\n",
        "* Makes code more robust and user-friendly.\n",
        "\n",
        "---\n",
        "\n"
      ],
      "metadata": {
        "id": "nBCTiPT_AJ-A"
      }
    },
    {
      "cell_type": "markdown",
      "source": [
        "3.What is the purpose of the finally block in exception handling?\n",
        "\n",
        "ans:In Python, the **`finally`** block is used in exception handling to define code that must execute regardless of whether an exception occurs or not. Its primary purpose is to perform essential cleanup tasks such as closing files, releasing memory, or disconnecting from databases, ensuring that important operations are completed before the program moves on or terminates. The `finally` block executes after the `try` block and any associated `except` blocks, whether an exception is raised, caught, or not raised at all. This guarantees that certain critical actions are always performed, making programs more robust and reliable.\n"
      ],
      "metadata": {
        "id": "6HwtelVlAdLp"
      }
    },
    {
      "cell_type": "markdown",
      "source": [
        "4.What is logging in Python?\n",
        "\n",
        "ans:In Python, **logging** is the process of recording messages about events that occur during a program’s execution to help monitor its behavior, debug issues, and maintain records without interrupting the program. The built-in `logging` module allows developers to log messages at different severity levels—DEBUG, INFO, WARNING, ERROR, and CRITICAL—providing flexibility in tracking both normal operations and errors. Unlike using `print()`, logging can be easily configured to display messages on the console, save them to files, or send them to other outputs, making it a powerful and professional way to trace and troubleshoot programs.\n"
      ],
      "metadata": {
        "id": "8_OOkiq0J26e"
      }
    },
    {
      "cell_type": "markdown",
      "source": [
        "5.What is the significance of the __del__ method in Python?\n",
        "\n",
        "ans:In Python, the **`__del__`** method is a special destructor method that is automatically called when an object is about to be destroyed, typically during garbage collection when its reference count reaches zero. It is used to define cleanup operations such as closing files, releasing network connections, or freeing other resources before the object’s memory is deallocated. However, the timing of `__del__` execution is not guaranteed and may be unpredictable, especially in cases involving circular references, so it should not be relied upon for critical cleanup tasks. Instead, context managers and the `with` statement are preferred for managing essential resource cleanup.\n"
      ],
      "metadata": {
        "id": "lKSToLGoKKEw"
      }
    },
    {
      "cell_type": "markdown",
      "source": [
        "6.What is the difference between import and from ... import in Python?\n",
        "\n",
        "ans:In Python, the `import` statement loads an entire module, requiring you to access its functions, classes, or variables with the module name as a prefix (e.g., `math.sqrt(16)`), which helps avoid naming conflicts and makes code more readable by clearly showing the source of each element. In contrast, the `from ... import` statement imports specific attributes directly from a module, allowing you to use them without the module name (e.g., `sqrt(16)`), making the code shorter but increasing the risk of name conflicts if the same names exist in different modules.\n"
      ],
      "metadata": {
        "id": "WKXDoD9-Ku8v"
      }
    },
    {
      "cell_type": "markdown",
      "source": [
        "7.How can you handle multiple exceptions in Python?\n",
        "\n",
        "ans:In Python, multiple exceptions can be handled either by using separate `except` blocks for each exception type when different handling is required, or by grouping multiple exception types in a tuple within a single `except` block if they should be handled in the same way. Additionally, a generic `except Exception` can be used to catch almost all exceptions, which is useful for logging or as a last-resort safety net, though it should be used cautiously to avoid hiding underlying bugs.\n",
        "\n"
      ],
      "metadata": {
        "id": "whbC8dItLDCl"
      }
    },
    {
      "cell_type": "markdown",
      "source": [
        "8.What is the purpose of the with statement when handling files in Python?\n",
        "\n",
        "ans:In Python, the **`with`** statement is used when handling files to ensure that resources like file handles are properly managed — specifically, that the file is **automatically closed** once the block of code is done, even if an error occurs during execution. It works by using a **context manager**, which handles the setup (opening the file) and teardown (closing the file) automatically, eliminating the need to explicitly call `file.close()`. This makes the code cleaner, reduces the chance of resource leaks, and ensures proper file handling. For example:\n",
        "\n",
        "```python\n",
        "with open(\"data.txt\", \"r\") as f:\n",
        "    content = f.read()\n",
        "# File is automatically closed here\n",
        "```\n",
        "\n",
        "\n"
      ],
      "metadata": {
        "id": "AA2dRMoKLbOh"
      }
    },
    {
      "cell_type": "markdown",
      "source": [
        "9. What is the difference between multithreading and multiprocessing?\n",
        "\n",
        "ans: In Python, **multithreading** involves running multiple threads within the\n",
        "same process, sharing the same memory space, and is best suited for I/O-bound tasks such as file operations or network requests. However, due to the Global Interpreter Lock (GIL), only one thread can execute Python bytecode at a time, limiting its effectiveness for CPU-bound tasks. In contrast, **multiprocessing** runs multiple independent processes, each with its own memory space and Python interpreter, allowing true parallel execution and making it ideal for CPU-bound tasks like heavy computations. While multithreading is lightweight and uses fewer resources, multiprocessing is more resource-intensive but avoids GIL limitations.\n"
      ],
      "metadata": {
        "id": "-iS3gDuKLtOb"
      }
    },
    {
      "cell_type": "markdown",
      "source": [
        "10. What are the advantages of using logging in a program?\n",
        "\n",
        "ans:The advantages of using **logging** in a program include:\n",
        "\n",
        "1. **Better Debugging and Troubleshooting** – Logs record detailed information about program execution, helping identify the cause of errors without stopping the program.\n",
        "2. **Persistent Records** – Unlike `print()` statements, logs can be stored in files for future analysis, creating an audit trail of events.\n",
        "3. **Different Severity Levels** – Logging provides levels such as DEBUG, INFO, WARNING, ERROR, and CRITICAL to categorize messages by importance.\n",
        "4. **Flexible Output Options** – Log messages can be directed to the console, files, or even remote servers without changing the core logic.\n",
        "5. **Easier Maintenance** – Structured logs make it easier to monitor program health and diagnose issues over time.\n",
        "6. **Non-Intrusive Monitoring** – Logging works without interrupting the program flow, unlike debugging tools that may pause execution.\n",
        "\n"
      ],
      "metadata": {
        "id": "qM_eoWVhMf-E"
      }
    },
    {
      "cell_type": "markdown",
      "source": [
        "11.What is memory management in Python?\n",
        "\n",
        "ans:In Python, **memory management** refers to the process of efficiently allocating, using, and releasing memory for variables, objects, and data structures during program execution. Python handles memory management automatically through its **private heap space**, where all objects are stored, and the **Python Memory Manager**, which allocates memory for objects and reclaims it when no longer needed. It uses **reference counting** to track how many references point to an object, and when this count reaches zero, the object’s memory is freed. Additionally, Python’s **garbage collector** automatically removes unused objects, including those involved in circular references, ensuring optimal memory usage without requiring manual deallocation by the programmer.\n"
      ],
      "metadata": {
        "id": "XscaG-XYMw-p"
      }
    },
    {
      "cell_type": "markdown",
      "source": [
        "12. What are the basic steps involved in exception handling in Python?\n",
        "\n",
        "ans:The basic steps involved in **exception handling** in Python are:\n",
        "\n",
        "1. **Wrap risky code inside a `try` block** – Place the code that might raise an exception inside a `try` block.\n",
        "2. **Catch exceptions with `except` blocks** – Specify one or more `except` blocks to handle particular exception types or a general exception.\n",
        "3. **(Optional) Use `else`** – Add an `else` block to run code that should execute only if no exception occurs.\n",
        "4. **(Optional) Use `finally`** – Add a `finally` block for cleanup code that should run regardless of whether an exception occurred.\n",
        "\n",
        "**Example:**\n",
        "\n",
        "```python\n",
        "try:\n",
        "    x = int(input(\"Enter a number: \"))\n",
        "    result = 10 / x\n",
        "except ValueError:\n",
        "    print(\"Invalid input! Please enter a number.\")\n",
        "except ZeroDivisionError:\n",
        "    print(\"You cannot divide by zero.\")\n",
        "else:\n",
        "    print(\"Result:\", result)\n",
        "finally:\n",
        "    print(\"Execution complete.\")\n",
        "```\n"
      ],
      "metadata": {
        "id": "IclkU3pTM8HV"
      }
    },
    {
      "cell_type": "markdown",
      "source": [
        "13. Why is memory management important in Python?\n",
        "\n",
        "ans:Memory management is important in Python because it ensures that the program uses system memory efficiently, preventing memory leaks, reducing unnecessary memory consumption, and improving overall performance. By automatically allocating memory to objects when they are created and freeing it when they are no longer needed, Python’s memory management system helps avoid program crashes and slowdowns caused by running out of memory. It also simplifies development, as programmers do not have to manually handle memory allocation and deallocation, allowing them to focus on writing logic while the interpreter handles resource optimization in the background.\n"
      ],
      "metadata": {
        "id": "qcrwcU_GNUSs"
      }
    },
    {
      "cell_type": "markdown",
      "source": [
        "14. What is the role of try and except in exception handling?\n",
        "\n",
        "ans:In Python, the `try` and `except` blocks are fundamental to exception handling, allowing programs to manage errors without crashing. The `try` block contains code that may potentially cause an exception, and if no error occurs, the `except` block is skipped. However, if an exception is raised within the `try` block, Python immediately transfers control to the corresponding `except` block, where the error can be handled gracefully. This structure helps in writing robust programs that can respond to unexpected situations, such as invalid inputs or runtime errors, while maintaining smooth program execution.\n"
      ],
      "metadata": {
        "id": "RGbfoICrNrFR"
      }
    },
    {
      "cell_type": "markdown",
      "source": [
        "15. How does Python's garbage collection system work?\n",
        "\n",
        "ans:Python’s garbage collection system automatically manages memory by reclaiming space occupied by objects that are no longer needed. It primarily uses **reference counting**, where each object tracks how many references point to it, and when this count reaches zero, the object’s memory is freed immediately. To handle situations like **circular references**, where objects reference each other but are otherwise unused, Python’s `gc` module includes a cycle detector that periodically removes such objects. Additionally, garbage collection is optimized using a **generational approach**, where objects are grouped into generations and younger objects are collected more frequently, improving efficiency and reducing performance overhead.\n"
      ],
      "metadata": {
        "id": "1abDXdtuOW2y"
      }
    },
    {
      "cell_type": "markdown",
      "source": [
        "16. What is the purpose of the else block in exception handling?\n",
        "\n",
        "ans:In Python’s exception handling, the **`else`** block is used to define code that should run **only if no exception occurs** in the associated `try` block. It comes **after all `except` blocks** and **before any `finally` block**. The main purpose of `else` is to separate the code that should execute when everything goes smoothly from the code that handles errors, making programs cleaner and easier to read.\n",
        "\n",
        "**Example:**\n",
        "\n",
        "```python\n",
        "try:\n",
        "    num = int(input(\"Enter a number: \"))\n",
        "    result = 10 / num\n",
        "except ZeroDivisionError:\n",
        "    print(\"Cannot divide by zero.\")\n",
        "except ValueError:\n",
        "    print(\"Invalid input! Please enter a number.\")\n",
        "else:\n",
        "    print(\"Result is:\", result)  # Runs only if no exception occurred\n",
        "finally:\n",
        "    print(\"Execution complete.\")\n",
        "```\n",
        "\n",
        "\n"
      ],
      "metadata": {
        "id": "jR5IWaZuOlH3"
      }
    },
    {
      "cell_type": "markdown",
      "source": [
        "17. What are the common logging levels in Python?\n",
        "\n",
        "ans:In Python, the **common logging levels** (provided by the built-in `logging` module) indicate the **severity or importance** of a log message. They are:\n",
        "\n",
        "1. **DEBUG** – Detailed information for diagnosing problems; used mainly during development.\n",
        "2. **INFO** – Confirmation that things are working as expected.\n",
        "3. **WARNING** – An indication that something unexpected happened or might happen soon, but the program is still running normally.\n",
        "4. **ERROR** – A serious problem that caused a part of the program to fail, but the program can still continue.\n",
        "5. **CRITICAL** – A very serious error indicating the program itself may not be able to continue running.\n",
        "\n",
        "**Example:**\n",
        "\n",
        "```python\n",
        "import logging\n",
        "\n",
        "logging.basicConfig(level=logging.DEBUG)\n",
        "logging.debug(\"Debugging details\")\n",
        "logging.info(\"Application started\")\n",
        "logging.warning(\"Low disk space\")\n",
        "logging.error(\"File not found\")\n",
        "logging.critical(\"System crash\")\n",
        "```\n",
        "\n"
      ],
      "metadata": {
        "id": "7qSm7TR1O_Zu"
      }
    },
    {
      "cell_type": "markdown",
      "source": [
        "18. What is the difference between os.fork() and multiprocessing in Python?\n",
        "\n",
        "ans:In Python, `os.fork()` is a low-level method that creates a new child process by duplicating the current process using the operating system’s `fork()` system call, and it works only on Unix-like systems such as Linux and macOS. It requires manual management of process behavior, communication, and cleanup. In contrast, the `multiprocessing` module is a high-level, cross-platform library that simplifies process creation and management, providing built-in tools for inter-process communication, synchronization, and process pooling. While `os.fork()` offers more direct control but less portability, `multiprocessing` is easier to use, more versatile, and works across different operating systems, making it the preferred choice for most parallel processing tasks in Python.\n"
      ],
      "metadata": {
        "id": "R-RJnuptPVFW"
      }
    },
    {
      "cell_type": "markdown",
      "source": [
        "19. What is the importance of closing a file in Python?\n",
        "\n",
        "ans:Closing a file in Python is important because it **frees system resources**, **ensures data integrity**, and **prevents file corruption**. When a file is open, the operating system allocates resources to manage it, and keeping it open unnecessarily can lead to resource leaks, especially when working with many files. Additionally, Python often stores written data in a **buffer** before actually saving it to disk; closing the file forces the buffer to be flushed, ensuring that all changes are properly written. Not closing a file may result in incomplete writes, data loss, or file access issues in other parts of the program. To make this process safer and automatic, Python’s `with` statement is commonly used, as it closes the file automatically once the block of code is finished.\n"
      ],
      "metadata": {
        "id": "6BxLnVO7PxYE"
      }
    },
    {
      "cell_type": "markdown",
      "source": [
        "20. What is the difference between file.read() and file.readline() in Python?\n",
        "\n",
        "ans:In Python, `file.read()` reads the entire contents of a file (or a specified number of characters/bytes if given an argument) and returns it as a single string, making it useful for processing the whole file at once but potentially memory-intensive for large files. In contrast, `file.readline()` reads only one line from the file at a time, including the newline character if present, and returns it as a string, making it more memory-efficient and better suited for line-by-line processing of large files.\n"
      ],
      "metadata": {
        "id": "QuDPUyJcQHA_"
      }
    },
    {
      "cell_type": "markdown",
      "source": [
        "21. What is the logging module in Python used for?\n",
        "\n",
        "ans:In Python, `file.read()` reads the entire contents of a file (or a specified number of characters/bytes if given an argument) and returns it as a single string, making it useful for processing the whole file at once but potentially memory-intensive for large files. In contrast, `file.readline()` reads only one line from the file at a time, including the newline character if present, and returns it as a string, making it more memory-efficient and better suited for line-by-line processing of large files.\n"
      ],
      "metadata": {
        "id": "wraOJqe6Qgdv"
      }
    },
    {
      "cell_type": "markdown",
      "source": [
        "22. What is the os module in Python used for in file handling?\n",
        "\n",
        "ans:In Python, the **`os` module** is used in file handling to interact with the operating system and perform tasks such as creating, deleting, renaming, and moving files or directories, as well as retrieving file properties and navigating the file system. It provides functions like `os.remove()` to delete files, `os.rename()` to rename files, `os.mkdir()` and `os.makedirs()` to create directories, `os.rmdir()` and `os.removedirs()` to remove directories, and `os.listdir()` to list the contents of a directory. Additionally, it offers utilities like `os.path` for checking file existence, joining paths, and getting file sizes, making it an essential module for managing files and directories programmatically.\n"
      ],
      "metadata": {
        "id": "p44g5_v1RE_d"
      }
    },
    {
      "cell_type": "markdown",
      "source": [
        "23. What are the challenges associated with memory management in Python?\n",
        "\n",
        "ans:The challenges associated with memory management in Python include **unintentional memory leaks**, **reference cycles**, and **high memory usage due to object overhead**. Python uses automatic garbage collection, but circular references between objects can sometimes delay memory release. Large or unnecessary data structures kept in memory for too long can lead to excessive RAM consumption, especially when working with big datasets. Additionally, Python’s dynamic typing and object model introduce extra memory overhead compared to lower-level languages. Inefficient coding practices, such as holding onto unused variables, failing to close files or network connections, or creating too many temporary objects, can further strain memory. Optimizing memory usage often requires careful programming, profiling, and using tools like `gc` (garbage collector module) or memory profilers to detect and resolve issues.\n",
        "\n",
        "\n",
        "\n"
      ],
      "metadata": {
        "id": "xa6iBsJVRXYv"
      }
    },
    {
      "cell_type": "markdown",
      "source": [
        "24. How do you raise an exception manually in Python?\n",
        "\n",
        "ans:In Python, an exception can be raised manually using the `raise` statement, followed by an exception class (built-in or custom) and an optional error message. This allows the programmer to signal that an error or unexpected condition has occurred during execution. For example, `raise ValueError(\"Invalid input\")` will immediately stop execution and trigger a `ValueError` with the specified message. Custom exceptions can also be created by subclassing the `Exception` class and then raised in the same way, enabling more descriptive and specific error handling in programs.\n"
      ],
      "metadata": {
        "id": "shrV7_UmRnpd"
      }
    },
    {
      "cell_type": "markdown",
      "source": [
        "25. Why is it important to use multithreading in certain applications?\n",
        "\n",
        "ans:Multithreading is important in certain applications because it allows multiple threads to run concurrently within a single process, enabling better **responsiveness**, **resource utilization**, and **performance** in specific scenarios. It is particularly beneficial for I/O-bound tasks, such as reading and writing files, handling network requests, or interacting with databases, where threads can work while waiting for external operations to complete. Multithreading also helps keep applications responsive—like in GUIs, where one thread can handle user input while another performs background tasks. Although Python’s Global Interpreter Lock (GIL) limits true parallelism for CPU-bound operations, multithreading still improves efficiency for I/O-heavy applications by overlapping waiting times with useful work.\n"
      ],
      "metadata": {
        "id": "PNIElFWXSKBB"
      }
    },
    {
      "cell_type": "markdown",
      "source": [
        "25. Why is it important to use multithreading in certain applications?\n",
        "\n",
        "ans:Multithreading is important in certain applications because it enables multiple tasks to run concurrently within the same process, improving responsiveness and efficiency, especially for **I/O-bound operations** like file handling, network communication, or database queries. By allowing one thread to work while another waits for input/output operations to complete, multithreading reduces idle time and makes better use of system resources. It is particularly useful in applications that require continuous interaction—such as graphical user interfaces, real-time data processing, and servers—where it ensures smooth performance by preventing the entire program from being blocked by a single slow task.\n"
      ],
      "metadata": {
        "id": "L6i0l-6yTqBk"
      }
    },
    {
      "cell_type": "markdown",
      "source": [
        "# **Practical Questions**\n",
        "\n",
        "---\n",
        "\n",
        "---\n",
        "\n",
        "\n"
      ],
      "metadata": {
        "id": "PB54mjVCU9iR"
      }
    },
    {
      "cell_type": "markdown",
      "source": [
        "1.How can you open a file for writing in Python and write a string to it?"
      ],
      "metadata": {
        "id": "_YkLh0l6Wxdj"
      }
    },
    {
      "cell_type": "code",
      "source": [
        "# Open file for writing\n",
        "file = open(\"example.txt\", \"w\")\n",
        "\n",
        "# Write a string to the file\n",
        "file.write(\"Hello, this is a sample text.\")\n",
        "\n",
        "# Close the file\n",
        "file.close()\n"
      ],
      "metadata": {
        "id": "z3XuA1YrVfcK"
      },
      "execution_count": 7,
      "outputs": []
    },
    {
      "cell_type": "code",
      "source": [
        "with open(\"example.txt\", \"w\") as file:\n",
        "    file.write(\"Hello, this is a sample text.\")\n"
      ],
      "metadata": {
        "id": "43O57rUaWf_i"
      },
      "execution_count": 8,
      "outputs": []
    },
    {
      "cell_type": "code",
      "source": [
        "# Example: Writing to a file\n",
        "\n",
        "# Using the with statement for safe file handling\n",
        "with open(\"greeting.txt\", \"w\") as file:\n",
        "    file.write(\"Hello Suruchi, welcome to Python file handling!\")\n",
        "\n",
        "print(\"File written successfully.\")\n"
      ],
      "metadata": {
        "colab": {
          "base_uri": "https://localhost:8080/"
        },
        "id": "v7FuNa4Kc90n",
        "outputId": "14ac372b-f002-4b2d-df0b-0fe175e4d63b"
      },
      "execution_count": 9,
      "outputs": [
        {
          "output_type": "stream",
          "name": "stdout",
          "text": [
            "File written successfully.\n"
          ]
        }
      ]
    },
    {
      "cell_type": "markdown",
      "source": [
        "2. Write a Python program to read the contents of a file and print each line?"
      ],
      "metadata": {
        "id": "bLGeauWMdBT7"
      }
    },
    {
      "cell_type": "code",
      "source": [
        "# Python program to read and print each line of a file\n",
        "\n",
        "# Open the file in read mode\n",
        "with open(\"example.txt\", \"r\") as file:\n",
        "    # Loop through each line in the file\n",
        "    for line in file:\n",
        "        print(line.strip())  # strip() removes extra spaces and newline characters\n"
      ],
      "metadata": {
        "colab": {
          "base_uri": "https://localhost:8080/"
        },
        "id": "nAHLB9dLdVOc",
        "outputId": "3940cca7-56bc-4fe1-a329-fc298a3e1feb"
      },
      "execution_count": 10,
      "outputs": [
        {
          "output_type": "stream",
          "name": "stdout",
          "text": [
            "Hello, this is a sample text.\n"
          ]
        }
      ]
    },
    {
      "cell_type": "code",
      "source": [
        "# Example: Reading and printing each line of a file\n",
        "\n",
        "# Create a sample file for demonstration\n",
        "with open(\"sample.txt\", \"w\") as file:\n",
        "    file.write(\"First line of text\\n\")\n",
        "    file.write(\"Second line of text\\n\")\n",
        "    file.write(\"Third line of text\")\n",
        "\n",
        "# Now read the file and print each line\n",
        "with open(\"sample.txt\", \"r\") as file:\n",
        "    for line in file:\n",
        "        print(line.strip())  # strip() removes newline characters\n"
      ],
      "metadata": {
        "colab": {
          "base_uri": "https://localhost:8080/"
        },
        "id": "E8QoxMyCdX2Q",
        "outputId": "941c2b20-fc7a-45dd-c0fc-3eed0d2432c2"
      },
      "execution_count": 11,
      "outputs": [
        {
          "output_type": "stream",
          "name": "stdout",
          "text": [
            "First line of text\n",
            "Second line of text\n",
            "Third line of text\n"
          ]
        }
      ]
    },
    {
      "cell_type": "markdown",
      "source": [
        "3. How would you handle a case where the file doesn't exist while trying to open it for reading?"
      ],
      "metadata": {
        "id": "GKKverJGdeIt"
      }
    },
    {
      "cell_type": "code",
      "source": [
        "# Handling file not found error\n",
        "\n",
        "try:\n",
        "    with open(\"nonexistent.txt\", \"r\") as file:\n",
        "        for line in file:\n",
        "            print(line.strip())\n",
        "except FileNotFoundError:\n",
        "    print(\"Error: The file you are trying to read does not exist.\")\n"
      ],
      "metadata": {
        "colab": {
          "base_uri": "https://localhost:8080/"
        },
        "id": "9i8kRRpQddI5",
        "outputId": "472f7cbb-b8d3-43e4-fa1e-d7c0b86d66c8"
      },
      "execution_count": 13,
      "outputs": [
        {
          "output_type": "stream",
          "name": "stdout",
          "text": [
            "Error: The file you are trying to read does not exist.\n"
          ]
        }
      ]
    },
    {
      "cell_type": "code",
      "source": [
        "import os\n",
        "\n",
        "filename = \"mydata.txt\"\n",
        "\n",
        "# Check if file exists\n",
        "if not os.path.exists(filename):\n",
        "    print(f\"{filename} not found. Creating the file...\")\n",
        "    with open(filename, \"w\") as file:\n",
        "        file.write(\"This is the first line.\\nThis is the second line.\")\n",
        "\n",
        "# Now read the file\n",
        "with open(filename, \"r\") as file:\n",
        "    for line in file:\n",
        "        print(line.strip())\n"
      ],
      "metadata": {
        "colab": {
          "base_uri": "https://localhost:8080/"
        },
        "id": "4TugzGfCdwsU",
        "outputId": "17ef6bb5-64b9-481b-d553-edf2fcffb2ed"
      },
      "execution_count": 12,
      "outputs": [
        {
          "output_type": "stream",
          "name": "stdout",
          "text": [
            "mydata.txt not found. Creating the file...\n",
            "This is the first line.\n",
            "This is the second line.\n"
          ]
        }
      ]
    },
    {
      "cell_type": "markdown",
      "source": [
        "4.Write a Python script that reads from one file and writes its content to another file?"
      ],
      "metadata": {
        "id": "rysp2fnod10v"
      }
    },
    {
      "cell_type": "code",
      "source": [
        "# Read from one file and write to another\n",
        "\n",
        "# Create a sample source file for demonstration\n",
        "with open(\"source.txt\", \"w\") as src:\n",
        "    src.write(\"Line 1: Hello, World!\\n\")\n",
        "    src.write(\"Line 2: This is a file copy example.\\n\")\n",
        "    src.write(\"Line 3: Python makes it easy!\")\n",
        "\n",
        "# Read from source.txt and write to destination.txt\n",
        "with open(\"source.txt\", \"r\") as src:\n",
        "    with open(\"destination.txt\", \"w\") as dest:\n",
        "        for line in src:\n",
        "            dest.write(line)\n",
        "\n",
        "print(\"File copied successfully from source.txt to destination.txt\")\n"
      ],
      "metadata": {
        "colab": {
          "base_uri": "https://localhost:8080/"
        },
        "id": "zzTcxFxHd7gT",
        "outputId": "d48e4dde-fe94-4749-f065-5d7f2ff0f6c3"
      },
      "execution_count": 14,
      "outputs": [
        {
          "output_type": "stream",
          "name": "stdout",
          "text": [
            "File copied successfully from source.txt to destination.txt\n"
          ]
        }
      ]
    },
    {
      "cell_type": "markdown",
      "source": [
        "5. How would you catch and handle division by zero error in Python?\n"
      ],
      "metadata": {
        "id": "LdjLtPyIeKJL"
      }
    },
    {
      "cell_type": "code",
      "source": [
        "# Handling division by zero\n",
        "\n",
        "try:\n",
        "    numerator = 10\n",
        "    denominator = 0\n",
        "    result = numerator / denominator\n",
        "    print(\"Result:\", result)\n",
        "except ZeroDivisionError:\n",
        "    print(\"Error: Division by zero is not allowed.\")\n"
      ],
      "metadata": {
        "colab": {
          "base_uri": "https://localhost:8080/"
        },
        "id": "qj9LED9neok9",
        "outputId": "fcdfd7b3-e291-4098-8a6b-47bdb9d356f2"
      },
      "execution_count": 15,
      "outputs": [
        {
          "output_type": "stream",
          "name": "stdout",
          "text": [
            "Error: Division by zero is not allowed.\n"
          ]
        }
      ]
    },
    {
      "cell_type": "markdown",
      "source": [
        "6. Write a Python program that logs an error message to a log file when a division by zero exception occurs?"
      ],
      "metadata": {
        "id": "eytfn-YBesQZ"
      }
    },
    {
      "cell_type": "code",
      "source": [
        "import logging\n",
        "\n",
        "# Configure logging to write to a file\n",
        "logging.basicConfig(\n",
        "    filename=\"error.log\",\n",
        "    level=logging.ERROR,\n",
        "    format=\"%(asctime)s - %(levelname)s - %(message)s\"\n",
        ")\n",
        "\n",
        "try:\n",
        "    numerator = 10\n",
        "    denominator = 0\n",
        "    result = numerator / denominator\n",
        "    print(\"Result:\", result)\n",
        "except ZeroDivisionError as e:\n",
        "    logging.error(\"Division by zero occurred: %s\", e)\n",
        "    print(\"An error occurred. Check error.log for details.\")\n"
      ],
      "metadata": {
        "colab": {
          "base_uri": "https://localhost:8080/"
        },
        "id": "cInG70fHey56",
        "outputId": "40650325-48bb-4fd8-b3ae-4beceb91832a"
      },
      "execution_count": 16,
      "outputs": [
        {
          "output_type": "stream",
          "name": "stderr",
          "text": [
            "ERROR:root:Division by zero occurred: division by zero\n"
          ]
        },
        {
          "output_type": "stream",
          "name": "stdout",
          "text": [
            "An error occurred. Check error.log for details.\n"
          ]
        }
      ]
    },
    {
      "cell_type": "markdown",
      "source": [
        "7. How do you log information at different levels (INFO, ERROR, WARNING) in Python using the logging module?"
      ],
      "metadata": {
        "id": "DjHHo5ZSfjuG"
      }
    },
    {
      "cell_type": "code",
      "source": [
        "import logging\n",
        "\n",
        "# Configure logging\n",
        "logging.basicConfig(\n",
        "    filename=\"app.log\",\n",
        "    level=logging.DEBUG,  # Capture all levels from DEBUG upwards\n",
        "    format=\"%(asctime)s - %(levelname)s - %(message)s\"\n",
        ")\n",
        "\n",
        "# Logging at different levels\n",
        "logging.info(\"This is an INFO message: The process started successfully.\")\n",
        "logging.warning(\"This is a WARNING message: Disk space is running low.\")\n",
        "logging.error(\"This is an ERROR message: Unable to connect to the database.\")\n"
      ],
      "metadata": {
        "colab": {
          "base_uri": "https://localhost:8080/"
        },
        "id": "MthYNZq5fqlZ",
        "outputId": "d5b9879e-2831-495e-c166-ce199f93cb59"
      },
      "execution_count": 17,
      "outputs": [
        {
          "output_type": "stream",
          "name": "stderr",
          "text": [
            "WARNING:root:This is a WARNING message: Disk space is running low.\n",
            "ERROR:root:This is an ERROR message: Unable to connect to the database.\n"
          ]
        }
      ]
    },
    {
      "cell_type": "markdown",
      "source": [
        "8.Write a program to handle a file opening error using exception handling?"
      ],
      "metadata": {
        "id": "U8JIijt3f2wd"
      }
    },
    {
      "cell_type": "code",
      "source": [
        "try:\n",
        "    # Attempt to open a non-existing file in read mode\n",
        "    file = open(\"non_existing_file.txt\", \"r\")\n",
        "    content = file.read()\n",
        "    file.close()\n",
        "    print(content)\n",
        "except FileNotFoundError:\n",
        "    print(\"Error: The file you are trying to open does not exist.\")\n",
        "except Exception as e:\n",
        "    print(\"An unexpected error occurred:\", e)\n"
      ],
      "metadata": {
        "colab": {
          "base_uri": "https://localhost:8080/"
        },
        "id": "GAH1-MAUf2Rm",
        "outputId": "d2d323c7-1ca7-4725-d058-65bd684c879b"
      },
      "execution_count": 18,
      "outputs": [
        {
          "output_type": "stream",
          "name": "stdout",
          "text": [
            "Error: The file you are trying to open does not exist.\n"
          ]
        }
      ]
    },
    {
      "cell_type": "markdown",
      "source": [
        "9. How can you read a file line by line and store its content in a list in Python?"
      ],
      "metadata": {
        "id": "RafwJe7DgaA_"
      }
    },
    {
      "cell_type": "code",
      "source": [
        "# Open the file in read mode\n",
        "with open(\"example.txt\", \"r\") as file:\n",
        "    lines = file.readlines()  # Reads all lines into a list\n",
        "\n",
        "# Remove newline characters (\\n) from each line\n",
        "lines = [line.strip() for line in lines]\n",
        "\n",
        "print(lines)\n"
      ],
      "metadata": {
        "colab": {
          "base_uri": "https://localhost:8080/"
        },
        "id": "0RNBxwwrgfXl",
        "outputId": "70500486-ae76-4faf-ab64-9cc184de2937"
      },
      "execution_count": 19,
      "outputs": [
        {
          "output_type": "stream",
          "name": "stdout",
          "text": [
            "['Hello, this is a sample text.']\n"
          ]
        }
      ]
    },
    {
      "cell_type": "markdown",
      "source": [
        "10. How can you append data to an existing file in Python?"
      ],
      "metadata": {
        "id": "MyzpeHhNg2pp"
      }
    },
    {
      "cell_type": "code",
      "source": [
        "# Open the file in append mode\n",
        "with open(\"example.txt\", \"a\") as file:\n",
        "    file.write(\"This line will be added at the end of the file.\\n\")\n",
        "\n",
        "print(\"Data appended successfully.\")\n"
      ],
      "metadata": {
        "colab": {
          "base_uri": "https://localhost:8080/"
        },
        "id": "NMPhPUv2hJub",
        "outputId": "3081d998-ad4b-4019-8d5a-8e32b42753c3"
      },
      "execution_count": 20,
      "outputs": [
        {
          "output_type": "stream",
          "name": "stdout",
          "text": [
            "Data appended successfully.\n"
          ]
        }
      ]
    },
    {
      "cell_type": "markdown",
      "source": [
        "11. Write a Python program that uses a try-except block to handle an error when attempting to access a dictionary key that doesn't exist?"
      ],
      "metadata": {
        "id": "Kh2clRkkhLkE"
      }
    },
    {
      "cell_type": "code",
      "source": [
        "# Sample dictionary\n",
        "student = {\n",
        "    \"name\": \"Suruchi\",\n",
        "    \"age\": 25,\n",
        "    \"course\": \"Pharmacy\"\n",
        "}\n",
        "\n",
        "try:\n",
        "    # Attempt to access a key that may not exist\n",
        "    grade = student[\"grade\"]\n",
        "    print(\"Grade:\", grade)\n",
        "except KeyError:\n",
        "    print(\"Error: The key 'grade' does not exist in the dictionary.\")\n"
      ],
      "metadata": {
        "colab": {
          "base_uri": "https://localhost:8080/"
        },
        "id": "sgjaDLQahUip",
        "outputId": "4017d962-e53c-4f18-e230-a53125a70d9e"
      },
      "execution_count": 21,
      "outputs": [
        {
          "output_type": "stream",
          "name": "stdout",
          "text": [
            "Error: The key 'grade' does not exist in the dictionary.\n"
          ]
        }
      ]
    },
    {
      "cell_type": "markdown",
      "source": [
        "12. Write a program that demonstrates using multiple except blocks to handle different types of exceptions?\n"
      ],
      "metadata": {
        "id": "HwYcrDMOhbbS"
      }
    },
    {
      "cell_type": "code",
      "source": [
        "try:\n",
        "    # Take input from the user\n",
        "    num1 = int(input(\"Enter the numerator: \"))\n",
        "    num2 = int(input(\"Enter the denominator: \"))\n",
        "\n",
        "    # Perform division\n",
        "    result = num1 / num2\n",
        "    print(\"Result:\", result)\n",
        "\n",
        "except ValueError:\n",
        "    print(\"Error: Please enter a valid integer.\")\n",
        "\n",
        "except ZeroDivisionError:\n",
        "    print(\"Error: Division by zero is not allowed.\")\n",
        "\n",
        "except Exception as e:\n",
        "    print(\"An unexpected error occurred:\", e)\n"
      ],
      "metadata": {
        "colab": {
          "base_uri": "https://localhost:8080/"
        },
        "id": "Kfgdvb2LhgwD",
        "outputId": "460e3cba-9632-4934-f2bd-7f9c0e65c29f"
      },
      "execution_count": 22,
      "outputs": [
        {
          "output_type": "stream",
          "name": "stdout",
          "text": [
            "Enter the numerator: 4\n",
            "Enter the denominator: 10\n",
            "Result: 0.4\n"
          ]
        }
      ]
    },
    {
      "cell_type": "markdown",
      "source": [
        "13. How would you check if a file exists before attempting to read it in Python?\n"
      ],
      "metadata": {
        "id": "mBTLdpaWiUQ6"
      }
    },
    {
      "cell_type": "code",
      "source": [
        "import os\n",
        "\n",
        "filename = \"example.txt\"\n",
        "\n",
        "if os.path.exists(filename):\n",
        "    with open(filename, \"r\") as file:\n",
        "        content = file.read()\n",
        "        print(content)\n",
        "else:\n",
        "    print(f\"Error: The file '{filename}' does not exist.\")\n"
      ],
      "metadata": {
        "colab": {
          "base_uri": "https://localhost:8080/"
        },
        "id": "Vyw2CwbNiiqo",
        "outputId": "9d111d4d-2498-478d-8626-f9edc53dc61b"
      },
      "execution_count": 23,
      "outputs": [
        {
          "output_type": "stream",
          "name": "stdout",
          "text": [
            "Hello, this is a sample text.This line will be added at the end of the file.\n",
            "\n"
          ]
        }
      ]
    },
    {
      "cell_type": "markdown",
      "source": [
        "14. Write a program that uses the logging module to log both informational and error messages?"
      ],
      "metadata": {
        "id": "Ledusd9cikq6"
      }
    },
    {
      "cell_type": "code",
      "source": [
        "import logging\n",
        "\n",
        "# Configure logging\n",
        "logging.basicConfig(\n",
        "    filename=\"app.log\",        # Log file name\n",
        "    level=logging.DEBUG,        # Capture all levels from DEBUG and above\n",
        "    format=\"%(asctime)s - %(levelname)s - %(message)s\"\n",
        ")\n",
        "\n",
        "# Log an informational message\n",
        "logging.info(\"The program has started successfully.\")\n",
        "\n",
        "try:\n",
        "    # Simulate some operations\n",
        "    x = 10\n",
        "    y = 0\n",
        "    result = x / y\n",
        "    logging.info(f\"Division result: {result}\")\n",
        "\n",
        "except ZeroDivisionError as e:\n",
        "    # Log an error message\n",
        "    logging.error(\"Division by zero occurred: %s\", e)\n",
        "\n",
        "# Another informational message\n",
        "logging.info(\"The program has finished execution.\")\n"
      ],
      "metadata": {
        "colab": {
          "base_uri": "https://localhost:8080/"
        },
        "id": "-WzAzgcYiski",
        "outputId": "417fdf9e-a374-4bd8-f74c-2168de4e6c82"
      },
      "execution_count": 24,
      "outputs": [
        {
          "output_type": "stream",
          "name": "stderr",
          "text": [
            "ERROR:root:Division by zero occurred: division by zero\n"
          ]
        }
      ]
    },
    {
      "cell_type": "markdown",
      "source": [
        "15. Write a Python program that prints the content of a file and handles the case when the file is empty?"
      ],
      "metadata": {
        "id": "obc53W7-i6Rw"
      }
    },
    {
      "cell_type": "code",
      "source": [
        "filename = \"example.txt\"\n",
        "\n",
        "try:\n",
        "    with open(filename, \"r\") as file:\n",
        "        content = file.read()\n",
        "        if content:\n",
        "            print(\"File content:\\n\", content)\n",
        "        else:\n",
        "            print(f\"The file '{filename}' is empty.\")\n",
        "except FileNotFoundError:\n",
        "    print(f\"Error: The file '{filename}' does not exist.\")\n"
      ],
      "metadata": {
        "colab": {
          "base_uri": "https://localhost:8080/"
        },
        "id": "nxGljCf-jAnW",
        "outputId": "d3404791-7294-4e4d-876e-0fdf5e86b346"
      },
      "execution_count": 25,
      "outputs": [
        {
          "output_type": "stream",
          "name": "stdout",
          "text": [
            "File content:\n",
            " Hello, this is a sample text.This line will be added at the end of the file.\n",
            "\n"
          ]
        }
      ]
    },
    {
      "cell_type": "markdown",
      "source": [
        "16. Demonstrate how to use memory profiling to check the memory usage of a small program?"
      ],
      "metadata": {
        "id": "xl1oe0UAjKSs"
      }
    },
    {
      "cell_type": "code",
      "source": [
        "pip install memory-profiler\n"
      ],
      "metadata": {
        "colab": {
          "base_uri": "https://localhost:8080/"
        },
        "id": "T-11AXpXjRhv",
        "outputId": "0be30310-3764-4118-f2d4-bae3ca749757"
      },
      "execution_count": 26,
      "outputs": [
        {
          "output_type": "stream",
          "name": "stdout",
          "text": [
            "Collecting memory-profiler\n",
            "  Downloading memory_profiler-0.61.0-py3-none-any.whl.metadata (20 kB)\n",
            "Requirement already satisfied: psutil in /usr/local/lib/python3.11/dist-packages (from memory-profiler) (5.9.5)\n",
            "Downloading memory_profiler-0.61.0-py3-none-any.whl (31 kB)\n",
            "Installing collected packages: memory-profiler\n",
            "Successfully installed memory-profiler-0.61.0\n"
          ]
        }
      ]
    },
    {
      "cell_type": "code",
      "source": [
        "from memory_profiler import profile\n",
        "\n",
        "@profile\n",
        "def create_list():\n",
        "    my_list = [i for i in range(100000)]  # Allocate memory for 100,000 integers\n",
        "    print(\"List created with 100,000 integers\")\n",
        "    return my_list\n",
        "\n",
        "@profile\n",
        "def main():\n",
        "    data = create_list()\n",
        "    total = sum(data)\n",
        "    print(\"Sum of elements:\", total)\n",
        "\n",
        "if __name__ == \"__main__\":\n",
        "    main()\n"
      ],
      "metadata": {
        "colab": {
          "base_uri": "https://localhost:8080/"
        },
        "id": "pF9f0pZ3jeo-",
        "outputId": "b1f16781-84e0-4642-90dc-22c1d0cc431a"
      },
      "execution_count": 27,
      "outputs": [
        {
          "output_type": "stream",
          "name": "stdout",
          "text": [
            "ERROR: Could not find file /tmp/ipython-input-3014096930.py\n",
            "ERROR: Could not find file /tmp/ipython-input-3014096930.py\n",
            "List created with 100,000 integers\n",
            "Sum of elements: 4999950000\n"
          ]
        }
      ]
    },
    {
      "cell_type": "markdown",
      "source": [
        "17. Write a Python program to create and write a list of numbers to a file, one number per line?"
      ],
      "metadata": {
        "id": "mxe1SlR7j3V-"
      }
    },
    {
      "cell_type": "code",
      "source": [
        "# List of numbers\n",
        "numbers = [10, 20, 30, 40, 50]\n",
        "\n",
        "# Open the file in write mode\n",
        "with open(\"numbers.txt\", \"w\") as file:\n",
        "    for num in numbers:\n",
        "        file.write(f\"{num}\\n\")  # Write each number on a new line\n",
        "\n",
        "print(\"Numbers have been written to numbers.txt\")\n"
      ],
      "metadata": {
        "colab": {
          "base_uri": "https://localhost:8080/"
        },
        "id": "lHOM2rgekS-w",
        "outputId": "463588fb-613b-4902-acbd-38adbc74b265"
      },
      "execution_count": 29,
      "outputs": [
        {
          "output_type": "stream",
          "name": "stdout",
          "text": [
            "Numbers have been written to numbers.txt\n"
          ]
        }
      ]
    },
    {
      "cell_type": "markdown",
      "source": [
        "18. How would you implement a basic logging setup that logs to a file with rotation after 1MB?"
      ],
      "metadata": {
        "id": "5dGNxbqxkem9"
      }
    },
    {
      "cell_type": "code",
      "source": [
        "import logging\n",
        "from logging.handlers import RotatingFileHandler\n",
        "\n",
        "# Create a rotating file handler\n",
        "handler = RotatingFileHandler(\n",
        "    \"app.log\",      # Log file name\n",
        "    maxBytes=1_000_000,  # Rotate after 1 MB\n",
        "    backupCount=3        # Keep 3 backup files\n",
        ")\n",
        "\n",
        "# Configure logging\n",
        "logging.basicConfig(\n",
        "    level=logging.INFO,\n",
        "    handlers=[handler],\n",
        "    format=\"%(asctime)s - %(levelname)s - %(message)s\"\n",
        ")\n",
        "\n",
        "# Log sample messages\n",
        "logging.info(\"Application started\")\n",
        "logging.warning(\"This is a warning message\")\n",
        "logging.error(\"This is an error message\")\n"
      ],
      "metadata": {
        "colab": {
          "base_uri": "https://localhost:8080/"
        },
        "id": "Vli83zAilTkF",
        "outputId": "e11e3d89-2c6b-4cd0-c20c-75f177d6fb48"
      },
      "execution_count": 30,
      "outputs": [
        {
          "output_type": "stream",
          "name": "stderr",
          "text": [
            "WARNING:root:This is a warning message\n",
            "ERROR:root:This is an error message\n"
          ]
        }
      ]
    },
    {
      "cell_type": "markdown",
      "source": [
        "19. Write a program that handles both IndexError and KeyError using a try-except block?\n"
      ],
      "metadata": {
        "id": "JJMlTtrzldCS"
      }
    },
    {
      "cell_type": "code",
      "source": [
        "# Sample list and dictionary\n",
        "my_list = [10, 20, 30]\n",
        "my_dict = {\"name\": \"Suruchi\", \"age\": 25}\n",
        "\n",
        "try:\n",
        "    # Accessing an index that may not exist\n",
        "    print(\"Accessing list element:\", my_list[5])\n",
        "\n",
        "    # Accessing a dictionary key that may not exist\n",
        "    print(\"Accessing dictionary key:\", my_dict[\"grade\"])\n",
        "\n",
        "except IndexError:\n",
        "    print(\"Error: List index is out of range.\")\n",
        "\n",
        "except KeyError:\n",
        "    print(\"Error: The specified key does not exist in the dictionary.\")\n"
      ],
      "metadata": {
        "colab": {
          "base_uri": "https://localhost:8080/"
        },
        "id": "UdsMH0XklsWK",
        "outputId": "1ac189cd-218d-4397-d679-4efb6a054d5c"
      },
      "execution_count": 31,
      "outputs": [
        {
          "output_type": "stream",
          "name": "stdout",
          "text": [
            "Error: List index is out of range.\n"
          ]
        }
      ]
    },
    {
      "cell_type": "markdown",
      "source": [
        "20. How would you open a file and read its contents using a context manager in Python?"
      ],
      "metadata": {
        "id": "krzG8avIlwMq"
      }
    },
    {
      "cell_type": "code",
      "source": [
        "with open(filename, \"r\") as file:\n",
        "    for line in file:\n",
        "        print(line.strip())\n"
      ],
      "metadata": {
        "colab": {
          "base_uri": "https://localhost:8080/"
        },
        "id": "2rcdnXTmmM2B",
        "outputId": "3ec68bbd-68d3-488e-90a1-d26e4075a290"
      },
      "execution_count": 32,
      "outputs": [
        {
          "output_type": "stream",
          "name": "stdout",
          "text": [
            "Hello, this is a sample text.This line will be added at the end of the file.\n"
          ]
        }
      ]
    },
    {
      "cell_type": "markdown",
      "source": [
        "21. Write a Python program that reads a file and prints the number of occurrences of a specific word?"
      ],
      "metadata": {
        "id": "ciMDW1camTJN"
      }
    },
    {
      "cell_type": "code",
      "source": [
        "# Specify the file name and the word to count\n",
        "filename = \"example.txt\"\n",
        "word_to_count = \"Python\"\n",
        "\n",
        "try:\n",
        "    with open(filename, \"r\") as file:\n",
        "        content = file.read()  # Read the entire file\n",
        "        # Convert to lower case to make counting case-insensitive\n",
        "        word_count = content.lower().split().count(word_to_count.lower())\n",
        "\n",
        "    print(f\"The word '{word_to_count}' occurs {word_count} times in '{filename}'.\")\n",
        "\n",
        "except FileNotFoundError:\n",
        "    print(f\"Error: The file '{filename}' does not exist.\")\n"
      ],
      "metadata": {
        "colab": {
          "base_uri": "https://localhost:8080/"
        },
        "id": "j3IL91g5mbLM",
        "outputId": "f98c067b-2f20-48ca-8a49-ba90af573697"
      },
      "execution_count": 33,
      "outputs": [
        {
          "output_type": "stream",
          "name": "stdout",
          "text": [
            "The word 'Python' occurs 0 times in 'example.txt'.\n"
          ]
        }
      ]
    },
    {
      "cell_type": "markdown",
      "source": [
        "22. How can you check if a file is empty before attempting to read its contents?"
      ],
      "metadata": {
        "id": "M8J8baKvmpa6"
      }
    },
    {
      "cell_type": "code",
      "source": [
        "#method 1\n",
        "import os\n",
        "\n",
        "filename = \"example.txt\"\n",
        "\n",
        "if os.path.exists(filename) and os.path.getsize(filename) > 0:\n",
        "    with open(filename, \"r\") as file:\n",
        "        content = file.read()\n",
        "        print(content)\n",
        "else:\n",
        "    print(f\"The file '{filename}' is empty or does not exist.\")\n",
        "\n"
      ],
      "metadata": {
        "colab": {
          "base_uri": "https://localhost:8080/"
        },
        "id": "f1BnL76pmu17",
        "outputId": "f0bbba36-b734-4fa0-ee0a-bc3381e698e0"
      },
      "execution_count": 34,
      "outputs": [
        {
          "output_type": "stream",
          "name": "stdout",
          "text": [
            "Hello, this is a sample text.This line will be added at the end of the file.\n",
            "\n"
          ]
        }
      ]
    },
    {
      "cell_type": "code",
      "source": [
        "#method 2\n",
        "filename = \"example.txt\"\n",
        "\n",
        "with open(filename, \"r\") as file:\n",
        "    first_line = file.readline()\n",
        "    if first_line:\n",
        "        print(\"File content:\")\n",
        "        print(first_line, end=\"\")\n",
        "        # Continue reading remaining lines\n",
        "        for line in file:\n",
        "            print(line, end=\"\")\n",
        "    else:\n",
        "        print(f\"The file '{filename}' is empty.\")\n"
      ],
      "metadata": {
        "colab": {
          "base_uri": "https://localhost:8080/"
        },
        "id": "zpIpTGWam2YV",
        "outputId": "be83555b-d313-4bd9-bc0d-e6f02ca7e728"
      },
      "execution_count": 35,
      "outputs": [
        {
          "output_type": "stream",
          "name": "stdout",
          "text": [
            "File content:\n",
            "Hello, this is a sample text.This line will be added at the end of the file.\n"
          ]
        }
      ]
    },
    {
      "cell_type": "markdown",
      "source": [
        "23. Write a Python program that writes to a log file when an error occurs during file handling."
      ],
      "metadata": {
        "id": "Q35tMo7BnEXz"
      }
    },
    {
      "cell_type": "code",
      "source": [
        "import logging\n",
        "\n",
        "# Configure logging\n",
        "logging.basicConfig(\n",
        "    filename=\"file_errors.log\",\n",
        "    level=logging.ERROR,\n",
        "    format=\"%(asctime)s - %(levelname)s - %(message)s\"\n",
        ")\n",
        "\n",
        "filename = \"non_existing_file.txt\"\n",
        "\n",
        "try:\n",
        "    # Attempt to open and read the file\n",
        "    with open(filename, \"r\") as file:\n",
        "        content = file.read()\n",
        "        print(content)\n",
        "\n",
        "except FileNotFoundError as e:\n",
        "    logging.error(\"File not found: %s\", e)\n",
        "    print(f\"Error: The file '{filename}' does not exist. Check file_errors.log for details.\")\n",
        "\n",
        "except PermissionError as e:\n",
        "    logging.error(\"Permission denied: %s\", e)\n",
        "    print(f\"Error: Permission denied for file '{filename}'. Check file_errors.log for details.\")\n",
        "\n",
        "except Exception as e:\n",
        "    logging.error(\"An unexpected error occurred: %s\", e)\n",
        "    print(\"An unexpected error occurred. Check file_errors.log for details.\")\n"
      ],
      "metadata": {
        "colab": {
          "base_uri": "https://localhost:8080/"
        },
        "id": "B36fHdignJu8",
        "outputId": "f43af963-7219-4db6-f22b-da0654257471"
      },
      "execution_count": 36,
      "outputs": [
        {
          "output_type": "stream",
          "name": "stderr",
          "text": [
            "ERROR:root:File not found: [Errno 2] No such file or directory: 'non_existing_file.txt'\n"
          ]
        },
        {
          "output_type": "stream",
          "name": "stdout",
          "text": [
            "Error: The file 'non_existing_file.txt' does not exist. Check file_errors.log for details.\n"
          ]
        }
      ]
    }
  ]
}