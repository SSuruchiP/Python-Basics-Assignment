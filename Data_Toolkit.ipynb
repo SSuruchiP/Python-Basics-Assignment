{
  "nbformat": 4,
  "nbformat_minor": 0,
  "metadata": {
    "colab": {
      "provenance": []
    },
    "kernelspec": {
      "name": "python3",
      "display_name": "Python 3"
    },
    "language_info": {
      "name": "python"
    }
  },
  "cells": [
    {
      "cell_type": "markdown",
      "source": [
        "# **Data Toolkit**"
      ],
      "metadata": {
        "id": "8XCQQal90ATE"
      }
    },
    {
      "cell_type": "markdown",
      "source": [
        "1.What is NumPy, and why is it widely used in Python?\n",
        "\n",
        "ans:NumPy (Numerical Python) is a fundamental library in Python used for scientific and numerical computing. It provides powerful data structures like multidimensional arrays (ndarray) that are far more efficient and faster than Python’s built-in lists when performing numerical operations. NumPy also includes a wide range of mathematical functions for linear algebra, statistics, Fourier analysis, and random number generation, making it a versatile tool for data science and research. Since it is implemented in C, NumPy performs computations much faster than pure Python code. Moreover, many popular libraries such as Pandas, SciPy, scikit-learn, TensorFlow, and PyTorch are built on top of NumPy, which makes it the backbone of the Python scientific computing ecosystem. Its combination of speed, efficiency, and ease of use is why NumPy is widely used across fields like machine learning, data analysis, artificial intelligence, and engineering.\n"
      ],
      "metadata": {
        "id": "m9eeVPDrSIpV"
      }
    },
    {
      "cell_type": "markdown",
      "source": [
        "2.How does broadcasting work in NumPy?\n",
        "\n",
        "ans:**Broadcasting** in NumPy is a way of performing arithmetic operations on arrays of different shapes **without explicitly replicating data**.\n",
        "\n",
        "* NumPy automatically **“stretches” smaller arrays** so they match the shape of the larger array.\n",
        "* This avoids creating unnecessary copies and makes computation faster.\n",
        "\n",
        "---\n",
        "\n",
        "### **Broadcasting Rules**\n",
        "\n",
        "When two arrays are combined, NumPy compares their **shapes** element by element:\n",
        "\n",
        "1. If the dimensions are equal → they’re compatible.\n",
        "2. If one dimension is 1 and the other is larger → NumPy **stretches** the smaller one.\n",
        "3. If they differ in any other way → error (they’re incompatible).\n",
        "\n",
        "---\n",
        "\n",
        "### **Examples**\n",
        "\n",
        "**1. Adding a scalar to an array**\n",
        "\n",
        "```python\n",
        "import numpy as np\n",
        "a = np.array([1, 2, 3])\n",
        "print(a + 5)  \n",
        "# Output: [6 7 8]\n",
        "```\n",
        "\n",
        "👉 The scalar `5` is “broadcast” across all elements of `a`.\n",
        "\n",
        "---\n",
        "\n",
        "**2. Broadcasting a smaller array**\n",
        "\n",
        "```python\n",
        "a = np.array([[1, 2, 3],\n",
        "              [4, 5, 6]])\n",
        "b = np.array([10, 20, 30])\n",
        "\n",
        "print(a + b)\n",
        "# Output:\n",
        "# [[11 22 33]\n",
        "#  [14 25 36]]\n",
        "```\n",
        "\n",
        "👉 Here `b` (shape `(3,)`) is stretched to match `a` (shape `(2,3)`), and element-wise addition happens.\n",
        "\n",
        "---\n",
        "\n",
        "**3. Broadcasting along different dimensions**\n",
        "\n",
        "```python\n",
        "a = np.array([[1],\n",
        "              [2],\n",
        "              [3]])\n",
        "b = np.array([10, 20, 30])\n",
        "\n",
        "print(a + b)\n",
        "# Output:\n",
        "# [[11 21 31]\n",
        "#  [12 22 32]\n",
        "#  [13 23 33]]\n",
        "```\n",
        "\n",
        "👉 `a` has shape `(3,1)` and `b` has shape `(3,)`.\n",
        "NumPy stretches them to `(3,3)` before adding.\n",
        "\n",
        "---\n",
        "\n",
        "\n",
        "\n",
        "\n"
      ],
      "metadata": {
        "id": "Fq1i3fJyWf9D"
      }
    },
    {
      "cell_type": "markdown",
      "source": [
        "3. What is a Pandas DataFrame?\n",
        "\n",
        "ans:A **Pandas DataFrame** is a two-dimensional, **tabular data structure** in Python, provided by the **Pandas library**, that is widely used for data analysis and manipulation. It is similar to a spreadsheet or SQL table, consisting of **rows** and **columns**, where each column can hold different data types such as integers, floats, strings, or even objects. DataFrames come with labeled **row indices** and **column names**, which makes accessing, filtering, and manipulating data much easier compared to raw arrays.\n",
        "\n",
        "For example:\n",
        "\n",
        "```python\n",
        "import pandas as pd\n",
        "\n",
        "data = {\n",
        "    \"Name\": [\"Amit\", \"Priya\", \"Rohit\"],\n",
        "    \"Age\": [25, 30, 22],\n",
        "    \"City\": [\"Delhi\", \"Mumbai\", \"Pune\"]\n",
        "}\n",
        "\n",
        "df = pd.DataFrame(data)\n",
        "print(df)\n",
        "```\n",
        "\n",
        "**Output:**\n",
        "\n",
        "```\n",
        "    Name  Age    City\n",
        "0   Amit   25   Delhi\n",
        "1  Priya   30  Mumbai\n",
        "2  Rohit   22    Pune\n",
        "```\n",
        "\n",
        "\n"
      ],
      "metadata": {
        "id": "5PP-9op5XAmP"
      }
    },
    {
      "cell_type": "markdown",
      "source": [
        "4.Explain the use of the groupby() method in Pandas?\n",
        "\n",
        "ans:The **`groupby()`** method in Pandas is used to **split a DataFrame into groups based on the values of one or more columns**, and then apply operations such as **aggregation, transformation, or filtering** on those groups. It follows a simple **split–apply–combine** process:\n",
        "\n",
        "1. **Split** the data into groups according to a column (or multiple columns).\n",
        "2. **Apply** a function (like `sum()`, `mean()`, `count()`, `min()`, `max()`, or custom functions) to each group.\n",
        "3. **Combine** the results back into a new DataFrame or Series.\n",
        "\n",
        "For example:\n",
        "\n",
        "```python\n",
        "import pandas as pd\n",
        "\n",
        "data = {\n",
        "    \"Department\": [\"HR\", \"IT\", \"IT\", \"Finance\", \"HR\", \"Finance\"],\n",
        "    \"Salary\": [40000, 50000, 55000, 60000, 42000, 65000]\n",
        "}\n",
        "\n",
        "df = pd.DataFrame(data)\n",
        "\n",
        "# Average salary in each department\n",
        "print(df.groupby(\"Department\")[\"Salary\"].mean())\n",
        "```\n",
        "\n",
        "**Output:**\n",
        "\n",
        "```\n",
        "Department\n",
        "Finance    62500.0\n",
        "HR         41000.0\n",
        "IT         52500.0\n",
        "Name: Salary, dtype: float64\n",
        "```\n",
        "\n",
        "\n"
      ],
      "metadata": {
        "id": "BmKZYhtWXRvI"
      }
    },
    {
      "cell_type": "markdown",
      "source": [
        "5.Why is Seaborn preferred for statistical visualizations?\n",
        "\n",
        "ans:Seaborn is preferred for statistical visualizations in Python because it is built on top of Matplotlib and provides a **high-level, easy-to-use interface** for creating attractive and informative plots. It is specifically designed for **statistical data visualization**, which means it comes with built-in support for summarizing and displaying distributions, relationships, and comparisons in datasets. Seaborn automatically handles **themes, color palettes, and aesthetic styles**, producing cleaner and more professional-looking charts with less code. It also integrates seamlessly with **Pandas DataFrames**, allowing direct use of column names for plotting, which makes data analysis faster and more intuitive. Moreover, Seaborn includes advanced plot types like **heatmaps, pair plots, violin plots, and categorical plots**, which are especially useful for exploring statistical relationships. Overall, Seaborn is preferred because it combines **ease of use, statistical power, and attractive default styles**, making it the go-to choice for analysts and researchers.\n",
        "\n",
        "\n"
      ],
      "metadata": {
        "id": "fh3DDTkwXv-1"
      }
    },
    {
      "cell_type": "markdown",
      "source": [
        "6.What are the differences between NumPy arrays and Python lists?\n",
        "\n",
        "ans:\n",
        "\n",
        "1. **Data Type**\n",
        "\n",
        "   * **Python List:** Can store elements of different data types (e.g., integers, strings, floats in the same list).\n",
        "   * **NumPy Array:** Stores elements of the **same data type**, making it more efficient for numerical operations.\n",
        "\n",
        "2. **Memory & Performance**\n",
        "\n",
        "   * **Python List:** Slower for large computations because elements are stored as objects.\n",
        "   * **NumPy Array:** Much **faster and memory-efficient** since it stores data in contiguous blocks and uses optimized C libraries.\n",
        "\n",
        "3. **Operations**\n",
        "\n",
        "   * **Python List:** Arithmetic operations need explicit loops.\n",
        "   * **NumPy Array:** Supports **vectorized operations** (element-wise addition, multiplication, etc.) without loops.\n",
        "\n",
        "   Example:\n",
        "\n",
        "   ```python\n",
        "   import numpy as np\n",
        "   a = np.array([1, 2, 3])\n",
        "   b = np.array([4, 5, 6])\n",
        "   print(a + b)  # [5 7 9]\n",
        "   ```\n",
        "\n",
        "4. **Functionality**\n",
        "\n",
        "   * **Python List:** Provides basic operations like append, insert, slicing.\n",
        "   * **NumPy Array:** Offers a rich set of **mathematical, statistical, and linear algebra functions**.\n",
        "\n",
        "5. **Dimensionality**\n",
        "\n",
        "   * **Python List:** Mostly one-dimensional (though nested lists can represent 2D or higher, but are inefficient).\n",
        "   * **NumPy Array:** Naturally supports **multi-dimensional arrays** (2D, 3D, etc.) with optimized operations.\n",
        "\n",
        "\n"
      ],
      "metadata": {
        "id": "rOaV1cu4YBvM"
      }
    },
    {
      "cell_type": "markdown",
      "source": [
        "7.What is a heatmap, and when should it be used?\n",
        "\n",
        "ans:A **heatmap** is a data visualization technique that uses **color gradients** to represent the magnitude or intensity of values in a two-dimensional dataset. In Python, heatmaps are commonly created using **Seaborn** or **Matplotlib**, where different colors (e.g., light to dark shades) indicate low to high values.\n",
        "\n",
        "Heatmaps are particularly useful when you want to:\n",
        "\n",
        "* Show **correlation between variables** (e.g., correlation matrix of features in machine learning).\n",
        "* Visualize **patterns, trends, or anomalies** in large datasets.\n",
        "* Highlight **intensity variations** in areas such as sales, population density, or gene expression data.\n",
        "* Represent **categorical vs numerical relationships** in a compact and interpretable format.\n",
        "\n",
        " **Example:** A correlation heatmap of exam scores in different subjects can quickly show which subjects are strongly related (e.g., high correlation between Math and Physics).\n",
        "\n",
        "\n"
      ],
      "metadata": {
        "id": "nTWhEUieYheb"
      }
    },
    {
      "cell_type": "markdown",
      "source": [
        "8. What does the term “vectorized operation” mean in NumPy?\n",
        "\n",
        "ans:In NumPy, a **vectorized operation** means performing arithmetic or mathematical operations on entire arrays (or large chunks of data) **at once**, instead of using explicit Python loops to process each element individually. Since NumPy is built on optimized C code, these operations are executed much faster and more efficiently.\n",
        "\n",
        "For example:\n",
        "\n",
        "```python\n",
        "import numpy as np\n",
        "\n",
        "a = np.array([1, 2, 3, 4])\n",
        "b = np.array([5, 6, 7, 8])\n",
        "\n",
        "# Vectorized addition\n",
        "print(a + b)   # [ 6  8 10 12]\n",
        "```\n",
        "\n",
        "\n"
      ],
      "metadata": {
        "id": "z5OSTmwiYvvj"
      }
    },
    {
      "cell_type": "markdown",
      "source": [
        "9.How does Matplotlib differ from Plotly?\n",
        "\n",
        "ans:**Matplotlib** and **Plotly** are both powerful Python libraries for data visualization, but they serve different purposes. Matplotlib is a traditional plotting library mainly used for creating **static, publication-quality graphs** such as line plots, bar charts, scatter plots, and histograms. It offers fine control over plot elements and is widely used in scientific research and academic papers, though it often requires more code for customization. In contrast, Plotly is designed for **interactive visualizations** where users can zoom, hover, and explore data dynamically. It is well-suited for **dashboards, web applications, and business analytics**, as it produces browser-based, interactive plots with minimal effort. In short, Matplotlib is best for **static and detailed scientific visualizations**, while Plotly excels in creating **interactive and user-friendly data exploration tools**.\n"
      ],
      "metadata": {
        "id": "oqxwhK5-Y-74"
      }
    },
    {
      "cell_type": "markdown",
      "source": [
        "10. What is the significance of hierarchical indexing in Pandas?\n",
        "\n",
        "ans:In Pandas, **hierarchical indexing** (or MultiIndex) is a method that allows multiple levels of indices on rows or columns, enabling more complex data organization and analysis. It is particularly significant because it lets you represent multi-dimensional data within a 2D DataFrame, making it easier to work with datasets that involve categories within categories, such as city and year or product and region. This feature simplifies grouping, slicing, and reshaping operations, allowing for more powerful data analysis without losing contextual information. Hierarchical indexing is especially useful in handling time-series, panel data, or large datasets where multiple keys are needed for efficient querying and summarization.\n"
      ],
      "metadata": {
        "id": "9ahltkW4ZpDR"
      }
    },
    {
      "cell_type": "markdown",
      "source": [
        "11. What is the role of Seaborn’s pairplot() function?\n",
        "\n",
        "ans:The **`pairplot()`** function in **Seaborn** is used to create a grid of plots that shows the **pairwise relationships between multiple variables** in a dataset. It plots **scatterplots** for combinations of numerical variables and **histograms (or KDE plots)** on the diagonal to show distributions of individual variables.\n",
        "\n",
        "---\n",
        "\n",
        "### **Role of `pairplot()`**\n",
        "\n",
        "* Helps in **exploratory data analysis (EDA)** by quickly visualizing relationships and correlations among several variables at once.\n",
        "* Useful for detecting **patterns, trends, and outliers** in data.\n",
        "* Can display **class-wise distributions** when a categorical variable is passed to the `hue` parameter (different colors for different classes).\n",
        "\n",
        "---\n",
        "\n",
        "### **Example**\n",
        "\n",
        "```python\n",
        "import seaborn as sns\n",
        "import pandas as pd\n",
        "\n",
        "# Load example dataset\n",
        "iris = sns.load_dataset(\"iris\")\n",
        "\n",
        "# Create pairplot\n",
        "sns.pairplot(iris, hue=\"species\")\n"
      ],
      "metadata": {
        "id": "uW5_CgUCaPwU"
      }
    },
    {
      "cell_type": "markdown",
      "source": [
        "12. What is the purpose of the describe() function in Pandas?\n",
        "\n",
        "ans:In Pandas, the **`describe()`** function is used to generate **summary statistics** of a DataFrame or Series, giving a quick overview of the dataset. For numerical columns, it provides metrics such as **count, mean, standard deviation, minimum, maximum, and quartile values (25%, 50%, 75%)**. For categorical (object or string) columns, it returns statistics like **count, unique values, most frequent value, and frequency**. The main purpose of `describe()` is to help in **exploratory data analysis (EDA)** by quickly understanding the distribution, central tendency, and spread of data, making it easier to detect patterns, anomalies, or data quality issues.\n",
        "\n"
      ],
      "metadata": {
        "id": "rkLUxuCKaenu"
      }
    },
    {
      "cell_type": "markdown",
      "source": [
        "13. Why is handling missing data important in Pandas?\n",
        "\n",
        "ans:Handling missing data in Pandas is important because incomplete data can lead to **biased results, errors in calculations, and incorrect conclusions** during data analysis. Real-world datasets often contain gaps due to data entry errors, sensor failures, or unavailable information, and if these missing values are ignored, they may disrupt statistical measures, machine learning models, or visualizations. Pandas provides functions like **`isnull()`**, **`dropna()`**, and **`fillna()`** to detect, remove, or replace missing values, ensuring data consistency and reliability. By properly handling missing data, analysts can maintain the **accuracy, validity, and robustness** of their analysis, which is crucial for making sound decisions based on the dataset.\n",
        "\n"
      ],
      "metadata": {
        "id": "XdptQU0Fc3pN"
      }
    },
    {
      "cell_type": "markdown",
      "source": [
        "14. What are the benefits of using Plotly for data visualization?\n",
        "\n",
        "ans: Plotly offers several benefits for data visualization, making it especially popular for modern analytics and dashboards. The biggest advantage is its ability to create **interactive visualizations** by default, where users can zoom, hover, and filter data easily. It supports a wide variety of charts, from simple line and bar plots to advanced **3D visualizations, maps, and scientific plots**, all with minimal code. Plotly integrates seamlessly with **Pandas and NumPy**, making it convenient for data science workflows, and it can be combined with **Dash** to build interactive web-based dashboards without requiring advanced web development skills. Another benefit is its **aesthetic quality**, as Plotly produces clean, professional, and publication-ready visualizations. Overall, Plotly is highly valuable when working with **large datasets, presentations, and applications that require interactivity and dynamic exploration**.\n",
        "\n"
      ],
      "metadata": {
        "id": "zxaXq8IIdDlq"
      }
    },
    {
      "cell_type": "markdown",
      "source": [
        "15. How does NumPy handle multidimensional arrays?\n",
        "\n",
        "ans:NumPy handles multidimensional arrays using its core data structure called the **ndarray (n-dimensional array)**, which allows efficient storage and manipulation of data in any number of dimensions. Unlike Python lists, which become inefficient when nested, NumPy arrays are stored in contiguous memory blocks, making them much faster for mathematical operations.\n",
        "\n",
        "Each multidimensional array in NumPy has:\n",
        "\n",
        "* **Shape** → tells the size of the array in each dimension (e.g., a 3×4 array has shape `(3,4)`).\n",
        "* **Axes** → each dimension is called an axis (e.g., rows = axis 0, columns = axis 1).\n",
        "* **Rank** → the number of dimensions (1D, 2D, 3D, etc.).\n",
        "\n",
        "For example:\n",
        "\n",
        "```python\n",
        "import numpy as np\n",
        "\n",
        "# 2D array\n",
        "a = np.array([[1, 2, 3],\n",
        "              [4, 5, 6]])\n",
        "print(a.shape)   # (2, 3)\n",
        "print(a.ndim)    # 2 (two dimensions)\n",
        "```\n",
        "\n",
        "NumPy also provides powerful operations like **reshaping, slicing, broadcasting, and vectorized computations** across multiple dimensions.\n",
        "\n"
      ],
      "metadata": {
        "id": "YWfrqafzdSn6"
      }
    },
    {
      "cell_type": "markdown",
      "source": [
        "16. What is the role of Bokeh in data visualization?\n",
        "\n",
        "ans:**Bokeh** is a powerful Python library designed for **interactive and web-ready data visualizations**. Its main role is to enable users to create rich, dynamic plots and dashboards that can be easily embedded in **web applications** or viewed in a browser. Unlike traditional libraries like Matplotlib that produce mostly static plots, Bokeh focuses on **interactivity** — allowing features such as zooming, panning, hovering, tooltips, and real-time data streaming.\n",
        "\n",
        "Bokeh is particularly useful when:\n",
        "\n",
        "* You need **interactive dashboards** for data exploration.\n",
        "* You want to **handle large datasets efficiently** with tools like Datashader.\n",
        "* You want to deploy visualizations in **web apps** (integrates well with Flask, Django, and Jupyter).\n",
        "* You require professional-looking, publication-quality plots with minimal coding.\n",
        "\n"
      ],
      "metadata": {
        "id": "hE1U13ZbdrZ3"
      }
    },
    {
      "cell_type": "markdown",
      "source": [
        "17. Explain the difference between apply() and map() in Pandas?\n",
        "\n",
        "ans: Good question 👍 Both **`apply()`** and **`map()`** in Pandas are used to apply functions to data, but they differ in **scope and flexibility**.\n",
        "\n",
        "---\n",
        "\n",
        "### 🔹 **`map()`**\n",
        "\n",
        "* Works only on **Pandas Series** (one column).\n",
        "* Used for **element-wise transformations**.\n",
        "* Takes a function, dictionary, or Series as an argument.\n",
        "* Best when you need to modify values in a single column.\n",
        "\n",
        "**Example:**\n",
        "\n",
        "```python\n",
        "import pandas as pd\n",
        "\n",
        "s = pd.Series([1, 2, 3, 4])\n",
        "print(s.map(lambda x: x**2))\n",
        "```\n",
        "\n",
        "**Output:**\n",
        "\n",
        "```\n",
        "0     1\n",
        "1     4\n",
        "2     9\n",
        "3    16\n",
        "dtype: int64\n",
        "```\n",
        "\n",
        "---\n",
        "\n",
        "### 🔹 **`apply()`**\n",
        "\n",
        "* Works on both **DataFrame and Series**.\n",
        "* More **flexible**, as it can apply a function along **rows or columns**.\n",
        "* Can handle more complex operations than `map()`.\n",
        "\n",
        "**Example:**\n",
        "\n",
        "```python\n",
        "df = pd.DataFrame({\n",
        "    \"A\": [1, 2, 3],\n",
        "    \"B\": [4, 5, 6]\n",
        "})\n",
        "\n",
        "print(df.apply(lambda x: x.max(), axis=0))  # Column-wise\n",
        "```\n",
        "\n",
        "**Output:**\n",
        "\n",
        "```\n",
        "A    3\n",
        "B    6\n",
        "dtype: int64\n",
        "```\n",
        "\n",
        "\n"
      ],
      "metadata": {
        "id": "z4sxuxMFeAiA"
      }
    },
    {
      "cell_type": "markdown",
      "source": [
        "18. What are some advanced features of NumPy?\n",
        "\n",
        "ans: Great question 👌 NumPy is not just about arrays — it has many **advanced features** that make it the backbone of scientific computing in Python. Some of the key ones are:\n",
        "\n",
        "---\n",
        "\n",
        "### 🔹 **Advanced Features of NumPy**\n",
        "\n",
        "1. **Multidimensional Arrays (ndarray):**\n",
        "   Efficient handling of n-dimensional arrays with powerful indexing, slicing, and reshaping operations.\n",
        "\n",
        "2. **Broadcasting:**\n",
        "   Allows arithmetic operations between arrays of different shapes without making copies, saving memory and time.\n",
        "\n",
        "3. **Vectorization:**\n",
        "   Eliminates explicit Python loops by applying operations directly on entire arrays, making computations much faster.\n",
        "\n",
        "4. **Linear Algebra Functions:**\n",
        "   Built-in functions for matrix multiplication, eigenvalues, determinants, and solving systems of equations (`numpy.linalg`).\n",
        "\n",
        "5. **Fourier Transform & Signal Processing:**\n",
        "   Provides support for Fast Fourier Transforms (`numpy.fft`) and related numerical methods.\n",
        "\n",
        "6. **Random Number Generation:**\n",
        "   Advanced random sampling and probability distributions using `numpy.random`.\n",
        "\n",
        "7. **Masked Arrays & Missing Data Handling:**\n",
        "   Supports masked arrays (`numpy.ma`) to handle invalid or missing data in computations.\n",
        "\n",
        "8. **Memory Efficiency & Views:**\n",
        "   Uses views instead of copies when slicing, which makes memory usage very efficient.\n",
        "\n",
        "9. **Integration with C/C++ & Fortran:**\n",
        "   NumPy arrays can be passed directly to C/C++/Fortran code, enabling high-performance scientific computing.\n",
        "\n",
        "10. **Universal Functions (ufuncs):**\n",
        "    Highly optimized functions that operate element-wise on arrays (e.g., `np.add`, `np.exp`, `np.sin`).\n",
        "\n",
        "\n"
      ],
      "metadata": {
        "id": "pqklXg8heI76"
      }
    },
    {
      "cell_type": "markdown",
      "source": [
        "19. How does Pandas simplify time series analysis?\n",
        "\n",
        "ans: Pandas simplifies **time series analysis** by providing built-in functionality for handling **date and time data** efficiently. It allows easy conversion of strings to datetime objects using `pd.to_datetime()`, and supports **DateTimeIndex**, which makes indexing, slicing, and subsetting data by dates very intuitive (e.g., selecting data by year, month, or day directly). Pandas also provides powerful **resampling** methods (such as converting daily data to monthly averages or yearly sums) and **shifting/lagging** operations for trend and lag analysis. In addition, it includes functions for **rolling windows, moving averages, and time-based grouping**, which are essential for analyzing trends and seasonality. With these features, Pandas eliminates much of the complexity of working with raw date-time data, making time series analysis faster, cleaner, and more user-friendly.\n",
        "\n"
      ],
      "metadata": {
        "id": "ejNq0q4aeNo3"
      }
    },
    {
      "cell_type": "markdown",
      "source": [
        "20. What is the role of a pivot table in Pandas?\n",
        "\n",
        "ans:In Pandas, a **pivot table** is used to **summarize and restructure data** in a flexible way, similar to Excel pivot tables. It allows you to transform long datasets into a more organized, tabular format by specifying:\n",
        "\n",
        "* **Index (rows):** The column(s) you want to group data by.\n",
        "* **Columns:** The column(s) you want to spread across horizontally.\n",
        "* **Values:** The data you want to aggregate (e.g., sum, mean, count).\n",
        "* **Aggregation function:** The operation to apply, such as `mean`, `sum`, `count`, etc.\n",
        "\n",
        "---\n",
        "\n",
        "### **Example**\n",
        "\n",
        "```python\n",
        "import pandas as pd\n",
        "\n",
        "data = {\n",
        "    \"Department\": [\"HR\", \"IT\", \"IT\", \"Finance\", \"HR\", \"Finance\"],\n",
        "    \"Year\": [2023, 2023, 2024, 2023, 2024, 2024],\n",
        "    \"Salary\": [40000, 50000, 55000, 60000, 42000, 65000]\n",
        "}\n",
        "\n",
        "df = pd.DataFrame(data)\n",
        "\n",
        "pivot = df.pivot_table(values=\"Salary\", index=\"Department\", columns=\"Year\", aggfunc=\"mean\")\n",
        "print(pivot)\n",
        "```\n",
        "\n",
        "**Output:**\n",
        "\n",
        "```\n",
        "Year       2023     2024\n",
        "Department                 \n",
        "Finance  60000.0  65000.0\n",
        "HR       40000.0  42000.0\n",
        "IT       50000.0  55000.0\n",
        "```\n",
        "\n",
        "\n"
      ],
      "metadata": {
        "id": "3vjHwWX_eixt"
      }
    },
    {
      "cell_type": "markdown",
      "source": [
        "21. Why is NumPy’s array slicing faster than Python’s list slicing?\n",
        "\n",
        "ans:NumPy’s array slicing is faster than Python’s list slicing because of the way data is stored and accessed in memory. **Python lists** are collections of objects, so slicing them requires creating a new list and copying references to each element, which is slower and less memory-efficient. In contrast, **NumPy arrays** store elements in **contiguous blocks of memory** with a fixed data type. When slicing a NumPy array, it does not copy the data; instead, it creates a **view** (a window into the original array) that points to the same memory block. This avoids unnecessary data duplication and makes slicing operations extremely efficient.\n"
      ],
      "metadata": {
        "id": "ryJJTgpKephT"
      }
    },
    {
      "cell_type": "markdown",
      "source": [
        "22. What are some common use cases for Seaborn?\n",
        "\n",
        "ans:Seaborn is widely used for **statistical data visualization** in Python because it makes complex plots simple and visually appealing. Some common use cases include:\n",
        "\n",
        "1. **Visualizing Distributions** – Using plots like `histplot()`, `kdeplot()`, and `distplot()` to understand data distribution, density, and skewness.\n",
        "2. **Correlation Analysis** – Creating heatmaps (`heatmap()`) to show correlations between multiple variables.\n",
        "3. **Pairwise Relationships** – Using `pairplot()` to quickly explore relationships among multiple numerical variables.\n",
        "4. **Categorical Data Visualization** – Plots like `barplot()`, `countplot()`, `boxplot()`, and `violinplot()` for comparing categories and showing distributions.\n",
        "5. **Regression Analysis** – With `regplot()` and `lmplot()`, Seaborn helps visualize linear relationships and confidence intervals.\n",
        "6. **Time Series Visualization** – Using `lineplot()` to analyze trends over time.\n",
        "7. **Custom Styling** – Seaborn applies attractive themes and color palettes automatically, making plots more professional with minimal effort.\n"
      ],
      "metadata": {
        "id": "pRQ6bmv7ezkR"
      }
    },
    {
      "cell_type": "markdown",
      "source": [
        "# **Practical**\n",
        "\n",
        "---\n",
        "\n",
        "\n",
        "\n",
        "---\n",
        "\n"
      ],
      "metadata": {
        "id": "_Zzea0xnh3mD"
      }
    },
    {
      "cell_type": "markdown",
      "source": [
        "1. How do you create a 2D NumPy array and calculate the sum of each row?"
      ],
      "metadata": {
        "id": "QTFok2fJiWo6"
      }
    },
    {
      "cell_type": "code",
      "source": [
        "import numpy as np\n",
        "\n",
        "# Create a 2D NumPy array\n",
        "arr = np.array([[1, 2, 3],\n",
        "                [4, 5, 6],\n",
        "                [7, 8, 9]])\n",
        "\n",
        "# Calculate the sum of each row\n",
        "row_sum = arr.sum(axis=1)\n",
        "\n",
        "print(\"Array:\\n\", arr)\n",
        "print(\"Row-wise sum:\", row_sum)\n"
      ],
      "metadata": {
        "colab": {
          "base_uri": "https://localhost:8080/"
        },
        "id": "IFeZ1cNQik5L",
        "outputId": "6b3f8362-e26f-4727-c91f-1554de17e794"
      },
      "execution_count": 1,
      "outputs": [
        {
          "output_type": "stream",
          "name": "stdout",
          "text": [
            "Array:\n",
            " [[1 2 3]\n",
            " [4 5 6]\n",
            " [7 8 9]]\n",
            "Row-wise sum: [ 6 15 24]\n"
          ]
        }
      ]
    },
    {
      "cell_type": "markdown",
      "source": [
        "2. Write a Pandas script to find the mean of a specific column in a DataFrame?"
      ],
      "metadata": {
        "id": "dX2K0MC0itms"
      }
    },
    {
      "cell_type": "code",
      "source": [
        "import pandas as pd\n",
        "\n",
        "# Sample DataFrame\n",
        "data = {\n",
        "    \"Name\": [\"Amit\", \"Priya\", \"Rohit\", \"Neha\"],\n",
        "    \"Age\": [25, 30, 22, 28],\n",
        "    \"Salary\": [40000, 50000, 45000, 60000]\n",
        "}\n",
        "\n",
        "df = pd.DataFrame(data)\n",
        "\n",
        "# Find the mean of a specific column (e.g., Salary)\n",
        "mean_salary = df[\"Salary\"].mean()\n",
        "\n",
        "print(\"Mean Salary:\", mean_salary)\n"
      ],
      "metadata": {
        "colab": {
          "base_uri": "https://localhost:8080/"
        },
        "id": "FZUI1WLSizlY",
        "outputId": "9d75dc0f-6ad6-4fcc-a8dd-510c20fd814a"
      },
      "execution_count": 2,
      "outputs": [
        {
          "output_type": "stream",
          "name": "stdout",
          "text": [
            "Mean Salary: 48750.0\n"
          ]
        }
      ]
    },
    {
      "cell_type": "markdown",
      "source": [
        "3. Create a scatter plot using Matplotlib?"
      ],
      "metadata": {
        "id": "buulUnWOi8W5"
      }
    },
    {
      "cell_type": "code",
      "source": [
        "import matplotlib.pyplot as plt\n",
        "\n",
        "# Sample data\n",
        "x = [5, 7, 8, 7, 6, 9, 5, 6, 7, 8]\n",
        "y = [99, 86, 87, 88, 100, 86, 103, 87, 94, 78]\n",
        "\n",
        "# Create scatter plot\n",
        "plt.scatter(x, y, color=\"blue\", marker=\"o\", s=100, alpha=0.7)\n",
        "\n",
        "# Add labels and title\n",
        "plt.xlabel(\"X Values\")\n",
        "plt.ylabel(\"Y Values\")\n",
        "plt.title(\"Simple Scatter Plot\")\n",
        "\n",
        "# Show the plot\n",
        "plt.show()\n"
      ],
      "metadata": {
        "colab": {
          "base_uri": "https://localhost:8080/",
          "height": 472
        },
        "id": "aLsSv21ajJni",
        "outputId": "2b5ce1ff-22d8-4ce1-8ed5-ef9b4eb5afcb"
      },
      "execution_count": 3,
      "outputs": [
        {
          "output_type": "display_data",
          "data": {
            "text/plain": [
              "<Figure size 640x480 with 1 Axes>"
            ],
            "image/png": "[encoded data removed]"
          },
          "metadata": {}
        }
      ]
    },
    {
      "cell_type": "markdown",
      "source": [
        "4. How do you calculate the correlation matrix using Seaborn and visualize it with a heatmap?"
      ],
      "metadata": {
        "id": "buL8VYnUjM_C"
      }
    },
    {
      "cell_type": "code",
      "source": [
        "import pandas as pd\n",
        "import seaborn as sns\n",
        "import matplotlib.pyplot as plt\n",
        "\n",
        "# Sample DataFrame\n",
        "data = {\n",
        "    \"Math\": [90, 80, 70, 85, 95],\n",
        "    \"Physics\": [88, 75, 78, 85, 92],\n",
        "    \"Chemistry\": [86, 82, 80, 89, 94],\n",
        "    \"Biology\": [75, 70, 72, 78, 85]\n",
        "}\n",
        "\n",
        "df = pd.DataFrame(data)\n",
        "\n",
        "# Calculate correlation matrix\n",
        "corr = df.corr()\n",
        "\n",
        "# Create a heatmap\n",
        "plt.figure(figsize=(6,4))\n",
        "sns.heatmap(corr, annot=True, cmap=\"coolwarm\", linewidths=0.5)\n",
        "\n",
        "plt.title(\"Correlation Matrix Heatmap\")\n",
        "plt.show()\n"
      ],
      "metadata": {
        "colab": {
          "base_uri": "https://localhost:8080/",
          "height": 391
        },
        "id": "LrPPlOYRjRa7",
        "outputId": "1be5742f-d7a8-4ea7-8d12-0bc6affe3a2c"
      },
      "execution_count": 4,
      "outputs": [
        {
          "output_type": "display_data",
          "data": {
            "text/plain": [
              "<Figure size 600x400 with 2 Axes>"
            ],
            "image/png": "[encoded data removed]"
          },
          "metadata": {}
        }
      ]
    },
    {
      "cell_type": "markdown",
      "source": [
        "5. Generate a bar plot using Plotly?"
      ],
      "metadata": {
        "id": "I-KjEcTsjaHo"
      }
    },
    {
      "cell_type": "code",
      "source": [
        "import plotly.express as px\n",
        "import pandas as pd\n",
        "\n",
        "# Sample Data\n",
        "data = {\n",
        "    \"Department\": [\"HR\", \"IT\", \"Finance\", \"Marketing\"],\n",
        "    \"Employees\": [12, 25, 8, 15]\n",
        "}\n",
        "\n",
        "df = pd.DataFrame(data)\n",
        "\n",
        "# Create bar plot\n",
        "fig = px.bar(df, x=\"Department\", y=\"Employees\", color=\"Department\",\n",
        "             title=\"Number of Employees per Department\")\n",
        "\n",
        "# Show plot\n",
        "fig.show()\n"
      ],
      "metadata": {
        "colab": {
          "base_uri": "https://localhost:8080/",
          "height": 542
        },
        "id": "DryAMi8Hjnj4",
        "outputId": "58a8ea57-0a27-4700-f69f-c6998a93df37"
      },
      "execution_count": 5,
      "outputs": [
        {
          "output_type": "display_data",
          "data": {
            "text/html": [
              "<html>\n",
              "<head><meta charset=\"utf-8\" /></head>\n",
              "<body>\n",
              "    <div>            <script src=\"https://cdnjs.cloudflare.com/ajax/libs/mathjax/2.7.5/MathJax.js?config=TeX-AMS-MML_SVG\"></script><script type=\"text/javascript\">if (window.MathJax && window.MathJax.Hub && window.MathJax.Hub.Config) {window.MathJax.Hub.Config({SVG: {font: \"STIX-Web\"}});}</script>                <script type=\"text/javascript\">window.PlotlyConfig = {MathJaxConfig: 'local'};</script>\n",
              "        <script charset=\"utf-8\" src=\"https://cdn.plot.ly/plotly-2.35.2.min.js\"></script>                <div id=\"07d0cf61-4899-460d-a242-52462f8aea30\" class=\"plotly-graph-div\" style=\"height:525px; width:100%;\"></div>            <script type=\"text/javascript\">                                    window.PLOTLYENV=window.PLOTLYENV || {};                                    if (document.getElementById(\"07d0cf61-4899-460d-a242-52462f8aea30\")) {                    Plotly.newPlot(                        \"07d0cf61-4899-460d-a242-52462f8aea30\",                        [{\"alignmentgroup\":\"True\",\"hovertemplate\":\"Department=%{x}\\u003cbr\\u003eEmployees=%{y}\\u003cextra\\u003e\\u003c\\u002fextra\\u003e\",\"legendgroup\":\"HR\",\"marker\":{\"color\":\"#636efa\",\"pattern\":{\"shape\":\"\"}},\"name\":\"HR\",\"offsetgroup\":\"HR\",\"orientation\":\"v\",\"showlegend\":true,\"textposition\":\"auto\",\"x\":[\"HR\"],\"xaxis\":\"x\",\"y\":[12],\"yaxis\":\"y\",\"type\":\"bar\"},{\"alignmentgroup\":\"True\",\"hovertemplate\":\"Department=%{x}\\u003cbr\\u003eEmployees=%{y}\\u003cextra\\u003e\\u003c\\u002fextra\\u003e\",\"legendgroup\":\"IT\",\"marker\":{\"color\":\"#EF553B\",\"pattern\":{\"shape\":\"\"}},\"name\":\"IT\",\"offsetgroup\":\"IT\",\"orientation\":\"v\",\"showlegend\":true,\"textposition\":\"auto\",\"x\":[\"IT\"],\"xaxis\":\"x\",\"y\":[25],\"yaxis\":\"y\",\"type\":\"bar\"},{\"alignmentgroup\":\"True\",\"hovertemplate\":\"Department=%{x}\\u003cbr\\u003eEmployees=%{y}\\u003cextra\\u003e\\u003c\\u002fextra\\u003e\",\"legendgroup\":\"Finance\",\"marker\":{\"color\":\"#00cc96\",\"pattern\":{\"shape\":\"\"}},\"name\":\"Finance\",\"offsetgroup\":\"Finance\",\"orientation\":\"v\",\"showlegend\":true,\"textposition\":\"auto\",\"x\":[\"Finance\"],\"xaxis\":\"x\",\"y\":[8],\"yaxis\":\"y\",\"type\":\"bar\"},{\"alignmentgroup\":\"True\",\"hovertemplate\":\"Department=%{x}\\u003cbr\\u003eEmployees=%{y}\\u003cextra\\u003e\\u003c\\u002fextra\\u003e\",\"legendgroup\":\"Marketing\",\"marker\":{\"color\":\"#ab63fa\",\"pattern\":{\"shape\":\"\"}},\"name\":\"Marketing\",\"offsetgroup\":\"Marketing\",\"orientation\":\"v\",\"showlegend\":true,\"textposition\":\"auto\",\"x\":[\"Marketing\"],\"xaxis\":\"x\",\"y\":[15],\"yaxis\":\"y\",\"type\":\"bar\"}],                        {\"template\":{\"data\":{\"histogram2dcontour\":[{\"type\":\"histogram2dcontour\",\"colorbar\":{\"outlinewidth\":0,\"ticks\":\"\"},\"colorscale\":[[0.0,\"#0d0887\"],[0.1111111111111111,\"#46039f\"],[0.2222222222222222,\"#7201a8\"],[0.3333333333333333,\"#9c179e\"],[0.4444444444444444,\"#bd3786\"],[0.5555555555555556,\"#d8576b\"],[0.6666666666666666,\"#ed7953\"],[0.7777777777777778,\"#fb9f3a\"],[0.8888888888888888,\"#fdca26\"],[1.0,\"#f0f921\"]]}],\"choropleth\":[{\"type\":\"choropleth\",\"colorbar\":{\"outlinewidth\":0,\"ticks\":\"\"}}],\"histogram2d\":[{\"type\":\"histogram2d\",\"colorbar\":{\"outlinewidth\":0,\"ticks\":\"\"},\"colorscale\":[[0.0,\"#0d0887\"],[0.1111111111111111,\"#46039f\"],[0.2222222222222222,\"#7201a8\"],[0.3333333333333333,\"#9c179e\"],[0.4444444444444444,\"#bd3786\"],[0.5555555555555556,\"#d8576b\"],[0.6666666666666666,\"#ed7953\"],[0.7777777777777778,\"#fb9f3a\"],[0.8888888888888888,\"#fdca26\"],[1.0,\"#f0f921\"]]}],\"heatmap\":[{\"type\":\"heatmap\",\"colorbar\":{\"outlinewidth\":0,\"ticks\":\"\"},\"colorscale\":[[0.0,\"#0d0887\"],[0.1111111111111111,\"#46039f\"],[0.2222222222222222,\"#7201a8\"],[0.3333333333333333,\"#9c179e\"],[0.4444444444444444,\"#bd3786\"],[0.5555555555555556,\"#d8576b\"],[0.6666666666666666,\"#ed7953\"],[0.7777777777777778,\"#fb9f3a\"],[0.8888888888888888,\"#fdca26\"],[1.0,\"#f0f921\"]]}],\"heatmapgl\":[{\"type\":\"heatmapgl\",\"colorbar\":{\"outlinewidth\":0,\"ticks\":\"\"},\"colorscale\":[[0.0,\"#0d0887\"],[0.1111111111111111,\"#46039f\"],[0.2222222222222222,\"#7201a8\"],[0.3333333333333333,\"#9c179e\"],[0.4444444444444444,\"#bd3786\"],[0.5555555555555556,\"#d8576b\"],[0.6666666666666666,\"#ed7953\"],[0.7777777777777778,\"#fb9f3a\"],[0.8888888888888888,\"#fdca26\"],[1.0,\"#f0f921\"]]}],\"contourcarpet\":[{\"type\":\"contourcarpet\",\"colorbar\":{\"outlinewidth\":0,\"ticks\":\"\"}}],\"contour\":[{\"type\":\"contour\",\"colorbar\":{\"outlinewidth\":0,\"ticks\":\"\"},\"colorscale\":[[0.0,\"#0d0887\"],[0.1111111111111111,\"#46039f\"],[0.2222222222222222,\"#7201a8\"],[0.3333333333333333,\"#9c179e\"],[0.4444444444444444,\"#bd3786\"],[0.5555555555555556,\"#d8576b\"],[0.6666666666666666,\"#ed7953\"],[0.7777777777777778,\"#fb9f3a\"],[0.8888888888888888,\"#fdca26\"],[1.0,\"#f0f921\"]]}],\"surface\":[{\"type\":\"surface\",\"colorbar\":{\"outlinewidth\":0,\"ticks\":\"\"},\"colorscale\":[[0.0,\"#0d0887\"],[0.1111111111111111,\"#46039f\"],[0.2222222222222222,\"#7201a8\"],[0.3333333333333333,\"#9c179e\"],[0.4444444444444444,\"#bd3786\"],[0.5555555555555556,\"#d8576b\"],[0.6666666666666666,\"#ed7953\"],[0.7777777777777778,\"#fb9f3a\"],[0.8888888888888888,\"#fdca26\"],[1.0,\"#f0f921\"]]}],\"mesh3d\":[{\"type\":\"mesh3d\",\"colorbar\":{\"outlinewidth\":0,\"ticks\":\"\"}}],\"scatter\":[{\"fillpattern\":{\"fillmode\":\"overlay\",\"size\":10,\"solidity\":0.2},\"type\":\"scatter\"}],\"parcoords\":[{\"type\":\"parcoords\",\"line\":{\"colorbar\":{\"outlinewidth\":0,\"ticks\":\"\"}}}],\"scatterpolargl\":[{\"type\":\"scatterpolargl\",\"marker\":{\"colorbar\":{\"outlinewidth\":0,\"ticks\":\"\"}}}],\"bar\":[{\"error_x\":{\"color\":\"#2a3f5f\"},\"error_y\":{\"color\":\"#2a3f5f\"},\"marker\":{\"line\":{\"color\":\"#E5ECF6\",\"width\":0.5},\"pattern\":{\"fillmode\":\"overlay\",\"size\":10,\"solidity\":0.2}},\"type\":\"bar\"}],\"scattergeo\":[{\"type\":\"scattergeo\",\"marker\":{\"colorbar\":{\"outlinewidth\":0,\"ticks\":\"\"}}}],\"scatterpolar\":[{\"type\":\"scatterpolar\",\"marker\":{\"colorbar\":{\"outlinewidth\":0,\"ticks\":\"\"}}}],\"histogram\":[{\"marker\":{\"pattern\":{\"fillmode\":\"overlay\",\"size\":10,\"solidity\":0.2}},\"type\":\"histogram\"}],\"scattergl\":[{\"type\":\"scattergl\",\"marker\":{\"colorbar\":{\"outlinewidth\":0,\"ticks\":\"\"}}}],\"scatter3d\":[{\"type\":\"scatter3d\",\"line\":{\"colorbar\":{\"outlinewidth\":0,\"ticks\":\"\"}},\"marker\":{\"colorbar\":{\"outlinewidth\":0,\"ticks\":\"\"}}}],\"scattermapbox\":[{\"type\":\"scattermapbox\",\"marker\":{\"colorbar\":{\"outlinewidth\":0,\"ticks\":\"\"}}}],\"scatterternary\":[{\"type\":\"scatterternary\",\"marker\":{\"colorbar\":{\"outlinewidth\":0,\"ticks\":\"\"}}}],\"scattercarpet\":[{\"type\":\"scattercarpet\",\"marker\":{\"colorbar\":{\"outlinewidth\":0,\"ticks\":\"\"}}}],\"carpet\":[{\"aaxis\":{\"endlinecolor\":\"#2a3f5f\",\"gridcolor\":\"white\",\"linecolor\":\"white\",\"minorgridcolor\":\"white\",\"startlinecolor\":\"#2a3f5f\"},\"baxis\":{\"endlinecolor\":\"#2a3f5f\",\"gridcolor\":\"white\",\"linecolor\":\"white\",\"minorgridcolor\":\"white\",\"startlinecolor\":\"#2a3f5f\"},\"type\":\"carpet\"}],\"table\":[{\"cells\":{\"fill\":{\"color\":\"#EBF0F8\"},\"line\":{\"color\":\"white\"}},\"header\":{\"fill\":{\"color\":\"#C8D4E3\"},\"line\":{\"color\":\"white\"}},\"type\":\"table\"}],\"barpolar\":[{\"marker\":{\"line\":{\"color\":\"#E5ECF6\",\"width\":0.5},\"pattern\":{\"fillmode\":\"overlay\",\"size\":10,\"solidity\":0.2}},\"type\":\"barpolar\"}],\"pie\":[{\"automargin\":true,\"type\":\"pie\"}]},\"layout\":{\"autotypenumbers\":\"strict\",\"colorway\":[\"#636efa\",\"#EF553B\",\"#00cc96\",\"#ab63fa\",\"#FFA15A\",\"#19d3f3\",\"#FF6692\",\"#B6E880\",\"#FF97FF\",\"#FECB52\"],\"font\":{\"color\":\"#2a3f5f\"},\"hovermode\":\"closest\",\"hoverlabel\":{\"align\":\"left\"},\"paper_bgcolor\":\"white\",\"plot_bgcolor\":\"#E5ECF6\",\"polar\":{\"bgcolor\":\"#E5ECF6\",\"angularaxis\":{\"gridcolor\":\"white\",\"linecolor\":\"white\",\"ticks\":\"\"},\"radialaxis\":{\"gridcolor\":\"white\",\"linecolor\":\"white\",\"ticks\":\"\"}},\"ternary\":{\"bgcolor\":\"#E5ECF6\",\"aaxis\":{\"gridcolor\":\"white\",\"linecolor\":\"white\",\"ticks\":\"\"},\"baxis\":{\"gridcolor\":\"white\",\"linecolor\":\"white\",\"ticks\":\"\"},\"caxis\":{\"gridcolor\":\"white\",\"linecolor\":\"white\",\"ticks\":\"\"}},\"coloraxis\":{\"colorbar\":{\"outlinewidth\":0,\"ticks\":\"\"}},\"colorscale\":{\"sequential\":[[0.0,\"#0d0887\"],[0.1111111111111111,\"#46039f\"],[0.2222222222222222,\"#7201a8\"],[0.3333333333333333,\"#9c179e\"],[0.4444444444444444,\"#bd3786\"],[0.5555555555555556,\"#d8576b\"],[0.6666666666666666,\"#ed7953\"],[0.7777777777777778,\"#fb9f3a\"],[0.8888888888888888,\"#fdca26\"],[1.0,\"#f0f921\"]],\"sequentialminus\":[[0.0,\"#0d0887\"],[0.1111111111111111,\"#46039f\"],[0.2222222222222222,\"#7201a8\"],[0.3333333333333333,\"#9c179e\"],[0.4444444444444444,\"#bd3786\"],[0.5555555555555556,\"#d8576b\"],[0.6666666666666666,\"#ed7953\"],[0.7777777777777778,\"#fb9f3a\"],[0.8888888888888888,\"#fdca26\"],[1.0,\"#f0f921\"]],\"diverging\":[[0,\"#8e0152\"],[0.1,\"#c51b7d\"],[0.2,\"#de77ae\"],[0.3,\"#f1b6da\"],[0.4,\"#fde0ef\"],[0.5,\"#f7f7f7\"],[0.6,\"#e6f5d0\"],[0.7,\"#b8e186\"],[0.8,\"#7fbc41\"],[0.9,\"#4d9221\"],[1,\"#276419\"]]},\"xaxis\":{\"gridcolor\":\"white\",\"linecolor\":\"white\",\"ticks\":\"\",\"title\":{\"standoff\":15},\"zerolinecolor\":\"white\",\"automargin\":true,\"zerolinewidth\":2},\"yaxis\":{\"gridcolor\":\"white\",\"linecolor\":\"white\",\"ticks\":\"\",\"title\":{\"standoff\":15},\"zerolinecolor\":\"white\",\"automargin\":true,\"zerolinewidth\":2},\"scene\":{\"xaxis\":{\"backgroundcolor\":\"#E5ECF6\",\"gridcolor\":\"white\",\"linecolor\":\"white\",\"showbackground\":true,\"ticks\":\"\",\"zerolinecolor\":\"white\",\"gridwidth\":2},\"yaxis\":{\"backgroundcolor\":\"#E5ECF6\",\"gridcolor\":\"white\",\"linecolor\":\"white\",\"showbackground\":true,\"ticks\":\"\",\"zerolinecolor\":\"white\",\"gridwidth\":2},\"zaxis\":{\"backgroundcolor\":\"#E5ECF6\",\"gridcolor\":\"white\",\"linecolor\":\"white\",\"showbackground\":true,\"ticks\":\"\",\"zerolinecolor\":\"white\",\"gridwidth\":2}},\"shapedefaults\":{\"line\":{\"color\":\"#2a3f5f\"}},\"annotationdefaults\":{\"arrowcolor\":\"#2a3f5f\",\"arrowhead\":0,\"arrowwidth\":1},\"geo\":{\"bgcolor\":\"white\",\"landcolor\":\"#E5ECF6\",\"subunitcolor\":\"white\",\"showland\":true,\"showlakes\":true,\"lakecolor\":\"white\"},\"title\":{\"x\":0.05},\"mapbox\":{\"style\":\"light\"}}},\"xaxis\":{\"anchor\":\"y\",\"domain\":[0.0,1.0],\"title\":{\"text\":\"Department\"},\"categoryorder\":\"array\",\"categoryarray\":[\"HR\",\"IT\",\"Finance\",\"Marketing\"]},\"yaxis\":{\"anchor\":\"x\",\"domain\":[0.0,1.0],\"title\":{\"text\":\"Employees\"}},\"legend\":{\"title\":{\"text\":\"Department\"},\"tracegroupgap\":0},\"title\":{\"text\":\"Number of Employees per Department\"},\"barmode\":\"relative\"},                        {\"responsive\": true}                    ).then(function(){\n",
              "                            \n",
              "var gd = document.getElementById('07d0cf61-4899-460d-a242-52462f8aea30');\n",
              "var x = new MutationObserver(function (mutations, observer) {{\n",
              "        var display = window.getComputedStyle(gd).display;\n",
              "        if (!display || display === 'none') {{\n",
              "            console.log([gd, 'removed!']);\n",
              "            Plotly.purge(gd);\n",
              "            observer.disconnect();\n",
              "        }}\n",
              "}});\n",
              "\n",
              "// Listen for the removal of the full notebook cells\n",
              "var notebookContainer = gd.closest('#notebook-container');\n",
              "if (notebookContainer) {{\n",
              "    x.observe(notebookContainer, {childList: true});\n",
              "}}\n",
              "\n",
              "// Listen for the clearing of the current output cell\n",
              "var outputEl = gd.closest('.output');\n",
              "if (outputEl) {{\n",
              "    x.observe(outputEl, {childList: true});\n",
              "}}\n",
              "\n",
              "                        })                };                            </script>        </div>\n",
              "</body>\n",
              "</html>"
            ]
          },
          "metadata": {}
        }
      ]
    },
    {
      "cell_type": "markdown",
      "source": [
        "6. Create a DataFrame and add a new column based on an existing column?"
      ],
      "metadata": {
        "id": "VkyLeCh1jriq"
      }
    },
    {
      "cell_type": "code",
      "source": [
        "import pandas as pd\n",
        "\n",
        "# Create a DataFrame\n",
        "data = {\n",
        "    \"Name\": [\"Amit\", \"Priya\", \"Rohit\", \"Neha\"],\n",
        "    \"Salary\": [40000, 50000, 45000, 60000]\n",
        "}\n",
        "\n",
        "df = pd.DataFrame(data)\n",
        "\n",
        "# Add a new column: 10% bonus of Salary\n",
        "df[\"Bonus\"] = df[\"Salary\"] * 0.10\n",
        "\n",
        "# Add another column: Total Salary after Bonus\n",
        "df[\"Total Salary\"] = df[\"Salary\"] + df[\"Bonus\"]\n",
        "\n",
        "print(df)\n"
      ],
      "metadata": {
        "colab": {
          "base_uri": "https://localhost:8080/"
        },
        "id": "I1QXiUhEj0Te",
        "outputId": "547aac46-9ce4-42e4-8792-6597d5727492"
      },
      "execution_count": 6,
      "outputs": [
        {
          "output_type": "stream",
          "name": "stdout",
          "text": [
            "    Name  Salary   Bonus  Total Salary\n",
            "0   Amit   40000  4000.0       44000.0\n",
            "1  Priya   50000  5000.0       55000.0\n",
            "2  Rohit   45000  4500.0       49500.0\n",
            "3   Neha   60000  6000.0       66000.0\n"
          ]
        }
      ]
    },
    {
      "cell_type": "markdown",
      "source": [
        "7. Write a program to perform element-wise multiplication of two NumPy arrays?\n"
      ],
      "metadata": {
        "id": "X6M-6Admj2nv"
      }
    },
    {
      "cell_type": "code",
      "source": [
        "import numpy as np\n",
        "\n",
        "# Create two NumPy arrays\n",
        "arr1 = np.array([2, 4, 6, 8])\n",
        "arr2 = np.array([1, 3, 5, 7])\n",
        "\n",
        "# Element-wise multiplication\n",
        "result = arr1 * arr2   # or np.multiply(arr1, arr2)\n",
        "\n",
        "print(\"Array 1:\", arr1)\n",
        "print(\"Array 2:\", arr2)\n",
        "print(\"Element-wise Multiplication:\", result)\n"
      ],
      "metadata": {
        "colab": {
          "base_uri": "https://localhost:8080/"
        },
        "id": "JZ13VoPkj6hT",
        "outputId": "2a180ec6-edf9-4974-e2f3-8a6c795a210f"
      },
      "execution_count": 7,
      "outputs": [
        {
          "output_type": "stream",
          "name": "stdout",
          "text": [
            "Array 1: [2 4 6 8]\n",
            "Array 2: [1 3 5 7]\n",
            "Element-wise Multiplication: [ 2 12 30 56]\n"
          ]
        }
      ]
    },
    {
      "cell_type": "markdown",
      "source": [
        "8. Create a line plot with multiple lines using Matplotlib?"
      ],
      "metadata": {
        "id": "eLuJiGpnkLwy"
      }
    },
    {
      "cell_type": "code",
      "source": [
        "import matplotlib.pyplot as plt\n",
        "\n",
        "# Sample data\n",
        "x = [1, 2, 3, 4, 5]\n",
        "y1 = [2, 4, 6, 8, 10]\n",
        "y2 = [1, 3, 5, 7, 9]\n",
        "y3 = [2, 3, 4, 5, 6]\n",
        "\n",
        "# Plot multiple lines\n",
        "plt.plot(x, y1, label=\"Line 1\", color=\"blue\", marker=\"o\")\n",
        "plt.plot(x, y2, label=\"Line 2\", color=\"green\", marker=\"s\")\n",
        "plt.plot(x, y3, label=\"Line 3\", color=\"red\", linestyle=\"--\")\n",
        "\n",
        "# Add labels and title\n",
        "plt.xlabel(\"X-axis\")\n",
        "plt.ylabel(\"Y-axis\")\n",
        "plt.title(\"Line Plot with Multiple Lines\")\n",
        "\n",
        "# Show legend\n",
        "plt.legend()\n",
        "\n",
        "# Show plot\n",
        "plt.show()\n"
      ],
      "metadata": {
        "colab": {
          "base_uri": "https://localhost:8080/",
          "height": 472
        },
        "id": "60TG-C1ykODy",
        "outputId": "a1296af3-d1c1-44a4-af30-d32e259204d3"
      },
      "execution_count": 8,
      "outputs": [
        {
          "output_type": "display_data",
          "data": {
            "text/plain": [
              "<Figure size 640x480 with 1 Axes>"
            ],
            "image/png": "[encoded data removed]"
          },
          "metadata": {}
        }
      ]
    },
    {
      "cell_type": "markdown",
      "source": [
        "9. Generate a Pandas DataFrame and filter rows where a column value is greater than a threshold?"
      ],
      "metadata": {
        "id": "2aVa2YJPkTlL"
      }
    },
    {
      "cell_type": "code",
      "source": [
        "import pandas as pd\n",
        "\n",
        "# Create a DataFrame\n",
        "data = {\n",
        "    \"Name\": [\"Amit\", \"Priya\", \"Rohit\", \"Neha\"],\n",
        "    \"Age\": [25, 30, 22, 28],\n",
        "    \"Salary\": [40000, 50000, 45000, 60000]\n",
        "}\n",
        "\n",
        "df = pd.DataFrame(data)\n",
        "\n",
        "# Define a threshold (e.g., Salary > 45000)\n",
        "threshold = 45000\n",
        "filtered_df = df[df[\"Salary\"] > threshold]\n",
        "\n",
        "print(\"Original DataFrame:\\n\", df)\n",
        "print(\"\\nFiltered DataFrame (Salary > 45000):\\n\", filtered_df)\n"
      ],
      "metadata": {
        "colab": {
          "base_uri": "https://localhost:8080/"
        },
        "id": "kgwe1bhWkZn9",
        "outputId": "84cbcd2e-b099-4215-f0c0-e0db3ff2ed9d"
      },
      "execution_count": 9,
      "outputs": [
        {
          "output_type": "stream",
          "name": "stdout",
          "text": [
            "Original DataFrame:\n",
            "     Name  Age  Salary\n",
            "0   Amit   25   40000\n",
            "1  Priya   30   50000\n",
            "2  Rohit   22   45000\n",
            "3   Neha   28   60000\n",
            "\n",
            "Filtered DataFrame (Salary > 45000):\n",
            "     Name  Age  Salary\n",
            "1  Priya   30   50000\n",
            "3   Neha   28   60000\n"
          ]
        }
      ]
    },
    {
      "cell_type": "markdown",
      "source": [
        "10. Create a histogram using Seaborn to visualize a distribution?"
      ],
      "metadata": {
        "id": "Mqj0AGZjke6-"
      }
    },
    {
      "cell_type": "code",
      "source": [
        "import seaborn as sns\n",
        "import matplotlib.pyplot as plt\n",
        "\n",
        "# Sample data\n",
        "data = [12, 15, 14, 10, 8, 10, 12, 15, 17, 18, 19, 21, 20, 18, 16, 14, 13, 12]\n",
        "\n",
        "# Create histogram\n",
        "sns.histplot(data, bins=8, kde=True, color=\"skyblue\")\n",
        "\n",
        "# Add labels and title\n",
        "plt.xlabel(\"Value\")\n",
        "plt.ylabel(\"Frequency\")\n",
        "plt.title(\"Histogram of Data Distribution\")\n",
        "\n",
        "# Show plot\n",
        "plt.show()\n"
      ],
      "metadata": {
        "colab": {
          "base_uri": "https://localhost:8080/",
          "height": 472
        },
        "id": "rMggiKmwkjpF",
        "outputId": "9c4959f6-77c3-471b-d0b4-42c365b420e5"
      },
      "execution_count": 10,
      "outputs": [
        {
          "output_type": "display_data",
          "data": {
            "text/plain": [
              "<Figure size 640x480 with 1 Axes>"
            ],
            "image/png": "[encoded data removed]"
          },
          "metadata": {}
        }
      ]
    },
    {
      "cell_type": "markdown",
      "source": [
        "11. Perform matrix multiplication using NumPy?"
      ],
      "metadata": {
        "id": "hAmwBAOMkqKJ"
      }
    },
    {
      "cell_type": "code",
      "source": [
        "import numpy as np\n",
        "\n",
        "# Define two matrices\n",
        "A = np.array([[1, 2],\n",
        "              [3, 4]])\n",
        "\n",
        "B = np.array([[5, 6],\n",
        "              [7, 8]])\n",
        "\n",
        "# Matrix multiplication\n",
        "result = np.dot(A, B)      # Method 1\n",
        "# result = A @ B           # Method 2 (Python 3.5+)\n",
        "# result = np.matmul(A, B) # Method 3\n",
        "\n",
        "print(\"Matrix A:\\n\", A)\n",
        "print(\"Matrix B:\\n\", B)\n",
        "print(\"Result of Matrix Multiplication:\\n\", result)\n"
      ],
      "metadata": {
        "colab": {
          "base_uri": "https://localhost:8080/"
        },
        "id": "XvNYWb_PkyUz",
        "outputId": "93c1b5dc-4213-4044-ee84-b1e0aa561f70"
      },
      "execution_count": 11,
      "outputs": [
        {
          "output_type": "stream",
          "name": "stdout",
          "text": [
            "Matrix A:\n",
            " [[1 2]\n",
            " [3 4]]\n",
            "Matrix B:\n",
            " [[5 6]\n",
            " [7 8]]\n",
            "Result of Matrix Multiplication:\n",
            " [[19 22]\n",
            " [43 50]]\n"
          ]
        }
      ]
    },
    {
      "cell_type": "markdown",
      "source": [
        "12. Use Pandas to load a CSV file and display its first 5 rows?"
      ],
      "metadata": {
        "id": "gUmGZ8Ilk2EH"
      }
    },
    {
      "cell_type": "code",
      "source": [
        "import pandas as pd\n",
        "from google.colab import files\n",
        "import io\n",
        "\n",
        "# Upload file manually\n",
        "uploaded = files.upload()\n",
        "\n",
        "# Load uploaded CSV\n",
        "df = pd.read_csv(io.BytesIO(uploaded['data.csv']))\n",
        "\n",
        "# Show first 5 rows\n",
        "print(df.head())\n"
      ],
      "metadata": {
        "colab": {
          "base_uri": "https://localhost:8080/",
          "height": 240
        },
        "id": "QYIRA48xqlqQ",
        "outputId": "8c4909a8-031e-44c6-c140-fcf5cce7da1b"
      },
      "execution_count": 33,
      "outputs": [
        {
          "output_type": "display_data",
          "data": {
            "text/plain": [
              "<IPython.core.display.HTML object>"
            ],
            "text/html": [
              "\n",
              "     <input type=\"file\" id=\"files-80ec6552-40d5-4787-8169-3e65bbe938d9\" name=\"files[]\" multiple disabled\n",
              "        style=\"border:none\" />\n",
              "     <output id=\"result-80ec6552-40d5-4787-8169-3e65bbe938d9\">\n",
              "      Upload widget is only available when the cell has been executed in the\n",
              "      current browser session. Please rerun this cell to enable.\n",
              "      </output>\n",
              "      <script>// Copyright 2017 Google LLC\n",
              "//\n",
              "// Licensed under the Apache License, Version 2.0 (the \"License\");\n",
              "// you may not use this file except in compliance with the License.\n",
              "// You may obtain a copy of the License at\n",
              "//\n",
              "//      http://www.apache.org/licenses/LICENSE-2.0\n",
              "//\n",
              "// Unless required by applicable law or agreed to in writing, software\n",
              "// distributed under the License is distributed on an \"AS IS\" BASIS,\n",
              "// WITHOUT WARRANTIES OR CONDITIONS OF ANY KIND, either express or implied.\n",
              "// See the License for the specific language governing permissions and\n",
              "// limitations under the License.\n",
              "\n",
              "/**\n",
              " * @fileoverview Helpers for google.colab Python module.\n",
              " */\n",
              "(function(scope) {\n",
              "function span(text, styleAttributes = {}) {\n",
              "  const element = document.createElement('span');\n",
              "  element.textContent = text;\n",
              "  for (const key of Object.keys(styleAttributes)) {\n",
              "    element.style[key] = styleAttributes[key];\n",
              "  }\n",
              "  return element;\n",
              "}\n",
              "\n",
              "// Max number of bytes which will be uploaded at a time.\n",
              "const MAX_PAYLOAD_SIZE = 100 * 1024;\n",
              "\n",
              "function _uploadFiles(inputId, outputId) {\n",
              "  const steps = uploadFilesStep(inputId, outputId);\n",
              "  const outputElement = document.getElementById(outputId);\n",
              "  // Cache steps on the outputElement to make it available for the next call\n",
              "  // to uploadFilesContinue from Python.\n",
              "  outputElement.steps = steps;\n",
              "\n",
              "  return _uploadFilesContinue(outputId);\n",
              "}\n",
              "\n",
              "// This is roughly an async generator (not supported in the browser yet),\n",
              "// where there are multiple asynchronous steps and the Python side is going\n",
              "// to poll for completion of each step.\n",
              "// This uses a Promise to block the python side on completion of each step,\n",
              "// then passes the result of the previous step as the input to the next step.\n",
              "function _uploadFilesContinue(outputId) {\n",
              "  const outputElement = document.getElementById(outputId);\n",
              "  const steps = outputElement.steps;\n",
              "\n",
              "  const next = steps.next(outputElement.lastPromiseValue);\n",
              "  return Promise.resolve(next.value.promise).then((value) => {\n",
              "    // Cache the last promise value to make it available to the next\n",
              "    // step of the generator.\n",
              "    outputElement.lastPromiseValue = value;\n",
              "    return next.value.response;\n",
              "  });\n",
              "}\n",
              "\n",
              "/**\n",
              " * Generator function which is called between each async step of the upload\n",
              " * process.\n",
              " * @param {string} inputId Element ID of the input file picker element.\n",
              " * @param {string} outputId Element ID of the output display.\n",
              " * @return {!Iterable<!Object>} Iterable of next steps.\n",
              " */\n",
              "function* uploadFilesStep(inputId, outputId) {\n",
              "  const inputElement = document.getElementById(inputId);\n",
              "  inputElement.disabled = false;\n",
              "\n",
              "  const outputElement = document.getElementById(outputId);\n",
              "  outputElement.innerHTML = '';\n",
              "\n",
              "  const pickedPromise = new Promise((resolve) => {\n",
              "    inputElement.addEventListener('change', (e) => {\n",
              "      resolve(e.target.files);\n",
              "    });\n",
              "  });\n",
              "\n",
              "  const cancel = document.createElement('button');\n",
              "  inputElement.parentElement.appendChild(cancel);\n",
              "  cancel.textContent = 'Cancel upload';\n",
              "  const cancelPromise = new Promise((resolve) => {\n",
              "    cancel.onclick = () => {\n",
              "      resolve(null);\n",
              "    };\n",
              "  });\n",
              "\n",
              "  // Wait for the user to pick the files.\n",
              "  const files = yield {\n",
              "    promise: Promise.race([pickedPromise, cancelPromise]),\n",
              "    response: {\n",
              "      action: 'starting',\n",
              "    }\n",
              "  };\n",
              "\n",
              "  cancel.remove();\n",
              "\n",
              "  // Disable the input element since further picks are not allowed.\n",
              "  inputElement.disabled = true;\n",
              "\n",
              "  if (!files) {\n",
              "    return {\n",
              "      response: {\n",
              "        action: 'complete',\n",
              "      }\n",
              "    };\n",
              "  }\n",
              "\n",
              "  for (const file of files) {\n",
              "    const li = document.createElement('li');\n",
              "    li.append(span(file.name, {fontWeight: 'bold'}));\n",
              "    li.append(span(\n",
              "        `(${file.type || 'n/a'}) - ${file.size} bytes, ` +\n",
              "        `last modified: ${\n",
              "            file.lastModifiedDate ? file.lastModifiedDate.toLocaleDateString() :\n",
              "                                    'n/a'} - `));\n",
              "    const percent = span('0% done');\n",
              "    li.appendChild(percent);\n",
              "\n",
              "    outputElement.appendChild(li);\n",
              "\n",
              "    const fileDataPromise = new Promise((resolve) => {\n",
              "      const reader = new FileReader();\n",
              "      reader.onload = (e) => {\n",
              "        resolve(e.target.result);\n",
              "      };\n",
              "      reader.readAsArrayBuffer(file);\n",
              "    });\n",
              "    // Wait for the data to be ready.\n",
              "    let fileData = yield {\n",
              "      promise: fileDataPromise,\n",
              "      response: {\n",
              "        action: 'continue',\n",
              "      }\n",
              "    };\n",
              "\n",
              "    // Use a chunked sending to avoid message size limits. See b/62115660.\n",
              "    let position = 0;\n",
              "    do {\n",
              "      const length = Math.min(fileData.byteLength - position, MAX_PAYLOAD_SIZE);\n",
              "      const chunk = new Uint8Array(fileData, position, length);\n",
              "      position += length;\n",
              "\n",
              "      const base64 = btoa(String.fromCharCode.apply(null, chunk));\n",
              "      yield {\n",
              "        response: {\n",
              "          action: 'append',\n",
              "          file: file.name,\n",
              "          data: base64,\n",
              "        },\n",
              "      };\n",
              "\n",
              "      let percentDone = fileData.byteLength === 0 ?\n",
              "          100 :\n",
              "          Math.round((position / fileData.byteLength) * 100);\n",
              "      percent.textContent = `${percentDone}% done`;\n",
              "\n",
              "    } while (position < fileData.byteLength);\n",
              "  }\n",
              "\n",
              "  // All done.\n",
              "  yield {\n",
              "    response: {\n",
              "      action: 'complete',\n",
              "    }\n",
              "  };\n",
              "}\n",
              "\n",
              "scope.google = scope.google || {};\n",
              "scope.google.colab = scope.google.colab || {};\n",
              "scope.google.colab._files = {\n",
              "  _uploadFiles,\n",
              "  _uploadFilesContinue,\n",
              "};\n",
              "})(self);\n",
              "</script> "
            ]
          },
          "metadata": {}
        },
        {
          "output_type": "error",
          "ename": "KeyError",
          "evalue": "'data.csv'",
          "traceback": [
            "\u001b[0;31m---------------------------------------------------------------------------\u001b[0m",
            "\u001b[0;31mKeyError\u001b[0m                                  Traceback (most recent call last)",
            "\u001b[0;32m/tmp/ipython-input-906010140.py\u001b[0m in \u001b[0;36m<cell line: 0>\u001b[0;34m()\u001b[0m\n\u001b[1;32m      7\u001b[0m \u001b[0;34m\u001b[0m\u001b[0m\n\u001b[1;32m      8\u001b[0m \u001b[0;31m# Load uploaded CSV\u001b[0m\u001b[0;34m\u001b[0m\u001b[0;34m\u001b[0m\u001b[0m\n\u001b[0;32m----> 9\u001b[0;31m \u001b[0mdf\u001b[0m \u001b[0;34m=\u001b[0m \u001b[0mpd\u001b[0m\u001b[0;34m.\u001b[0m\u001b[0mread_csv\u001b[0m\u001b[0;34m(\u001b[0m\u001b[0mio\u001b[0m\u001b[0;34m.\u001b[0m\u001b[0mBytesIO\u001b[0m\u001b[0;34m(\u001b[0m\u001b[0muploaded\u001b[0m\u001b[0;34m[\u001b[0m\u001b[0;34m'data.csv'\u001b[0m\u001b[0;34m]\u001b[0m\u001b[0;34m)\u001b[0m\u001b[0;34m)\u001b[0m\u001b[0;34m\u001b[0m\u001b[0;34m\u001b[0m\u001b[0m\n\u001b[0m\u001b[1;32m     10\u001b[0m \u001b[0;34m\u001b[0m\u001b[0m\n\u001b[1;32m     11\u001b[0m \u001b[0;31m# Show first 5 rows\u001b[0m\u001b[0;34m\u001b[0m\u001b[0;34m\u001b[0m\u001b[0m\n",
            "\u001b[0;31mKeyError\u001b[0m: 'data.csv'"
          ]
        }
      ]
    },
    {
      "cell_type": "markdown",
      "source": [
        "13. Create a 3D scatter plot using Plotly."
      ],
      "metadata": {
        "id": "lbQ7vOEBsYQG"
      }
    },
    {
      "cell_type": "code",
      "source": [
        "# If needed in a fresh environment:\n",
        "# !pip install plotly\n",
        "\n",
        "import plotly.express as px\n",
        "import pandas as pd\n",
        "\n",
        "# Sample data\n",
        "df = pd.DataFrame({\n",
        "    \"x\": [1, 2, 3, 4, 5, 6],\n",
        "    \"y\": [10, 11, 12, 13, 14, 15],\n",
        "    \"z\": [5, 3, 6, 2, 7, 4],\n",
        "    \"group\": [\"A\", \"A\", \"B\", \"B\", \"C\", \"C\"],\n",
        "    \"size\": [20, 40, 30, 50, 25, 35]\n",
        "})\n",
        "\n",
        "# 3D scatter plot\n",
        "fig = px.scatter_3d(\n",
        "    df,\n",
        "    x=\"x\", y=\"y\", z=\"z\",\n",
        "    color=\"group\",      # color by category\n",
        "    size=\"size\",        # bubble size\n",
        "    symbol=\"group\",     # optional: different markers per group\n",
        "    title=\"3D Scatter Plot (Plotly)\"\n",
        ")\n",
        "\n",
        "fig.update_traces(marker=dict(opacity=0.8))\n",
        "fig.show()\n"
      ],
      "metadata": {
        "colab": {
          "base_uri": "https://localhost:8080/",
          "height": 542
        },
        "id": "gv7CtvJctioK",
        "outputId": "2e149203-c56d-462a-ca88-07189cb85147"
      },
      "execution_count": 31,
      "outputs": [
        {
          "output_type": "display_data",
          "data": {
            "text/html": [
              "<html>\n",
              "<head><meta charset=\"utf-8\" /></head>\n",
              "<body>\n",
              "    <div>            <script src=\"https://cdnjs.cloudflare.com/ajax/libs/mathjax/2.7.5/MathJax.js?config=TeX-AMS-MML_SVG\"></script><script type=\"text/javascript\">if (window.MathJax && window.MathJax.Hub && window.MathJax.Hub.Config) {window.MathJax.Hub.Config({SVG: {font: \"STIX-Web\"}});}</script>                <script type=\"text/javascript\">window.PlotlyConfig = {MathJaxConfig: 'local'};</script>\n",
              "        <script charset=\"utf-8\" src=\"https://cdn.plot.ly/plotly-2.35.2.min.js\"></script>                <div id=\"1df9e99c-b125-4a8a-8509-1e3a1663963e\" class=\"plotly-graph-div\" style=\"height:525px; width:100%;\"></div>            <script type=\"text/javascript\">                                    window.PLOTLYENV=window.PLOTLYENV || {};                                    if (document.getElementById(\"1df9e99c-b125-4a8a-8509-1e3a1663963e\")) {                    Plotly.newPlot(                        \"1df9e99c-b125-4a8a-8509-1e3a1663963e\",                        [{\"hovertemplate\":\"group=A\\u003cbr\\u003ex=%{x}\\u003cbr\\u003ey=%{y}\\u003cbr\\u003ez=%{z}\\u003cbr\\u003esize=%{marker.size}\\u003cextra\\u003e\\u003c\\u002fextra\\u003e\",\"legendgroup\":\"A\",\"marker\":{\"color\":\"#636efa\",\"size\":[20,40],\"sizemode\":\"area\",\"sizeref\":0.125,\"symbol\":\"circle\",\"opacity\":0.8},\"mode\":\"markers\",\"name\":\"A\",\"scene\":\"scene\",\"showlegend\":true,\"x\":[1,2],\"y\":[10,11],\"z\":[5,3],\"type\":\"scatter3d\"},{\"hovertemplate\":\"group=B\\u003cbr\\u003ex=%{x}\\u003cbr\\u003ey=%{y}\\u003cbr\\u003ez=%{z}\\u003cbr\\u003esize=%{marker.size}\\u003cextra\\u003e\\u003c\\u002fextra\\u003e\",\"legendgroup\":\"B\",\"marker\":{\"color\":\"#EF553B\",\"size\":[30,50],\"sizemode\":\"area\",\"sizeref\":0.125,\"symbol\":\"diamond\",\"opacity\":0.8},\"mode\":\"markers\",\"name\":\"B\",\"scene\":\"scene\",\"showlegend\":true,\"x\":[3,4],\"y\":[12,13],\"z\":[6,2],\"type\":\"scatter3d\"},{\"hovertemplate\":\"group=C\\u003cbr\\u003ex=%{x}\\u003cbr\\u003ey=%{y}\\u003cbr\\u003ez=%{z}\\u003cbr\\u003esize=%{marker.size}\\u003cextra\\u003e\\u003c\\u002fextra\\u003e\",\"legendgroup\":\"C\",\"marker\":{\"color\":\"#00cc96\",\"size\":[25,35],\"sizemode\":\"area\",\"sizeref\":0.125,\"symbol\":\"square\",\"opacity\":0.8},\"mode\":\"markers\",\"name\":\"C\",\"scene\":\"scene\",\"showlegend\":true,\"x\":[5,6],\"y\":[14,15],\"z\":[7,4],\"type\":\"scatter3d\"}],                        {\"template\":{\"data\":{\"histogram2dcontour\":[{\"type\":\"histogram2dcontour\",\"colorbar\":{\"outlinewidth\":0,\"ticks\":\"\"},\"colorscale\":[[0.0,\"#0d0887\"],[0.1111111111111111,\"#46039f\"],[0.2222222222222222,\"#7201a8\"],[0.3333333333333333,\"#9c179e\"],[0.4444444444444444,\"#bd3786\"],[0.5555555555555556,\"#d8576b\"],[0.6666666666666666,\"#ed7953\"],[0.7777777777777778,\"#fb9f3a\"],[0.8888888888888888,\"#fdca26\"],[1.0,\"#f0f921\"]]}],\"choropleth\":[{\"type\":\"choropleth\",\"colorbar\":{\"outlinewidth\":0,\"ticks\":\"\"}}],\"histogram2d\":[{\"type\":\"histogram2d\",\"colorbar\":{\"outlinewidth\":0,\"ticks\":\"\"},\"colorscale\":[[0.0,\"#0d0887\"],[0.1111111111111111,\"#46039f\"],[0.2222222222222222,\"#7201a8\"],[0.3333333333333333,\"#9c179e\"],[0.4444444444444444,\"#bd3786\"],[0.5555555555555556,\"#d8576b\"],[0.6666666666666666,\"#ed7953\"],[0.7777777777777778,\"#fb9f3a\"],[0.8888888888888888,\"#fdca26\"],[1.0,\"#f0f921\"]]}],\"heatmap\":[{\"type\":\"heatmap\",\"colorbar\":{\"outlinewidth\":0,\"ticks\":\"\"},\"colorscale\":[[0.0,\"#0d0887\"],[0.1111111111111111,\"#46039f\"],[0.2222222222222222,\"#7201a8\"],[0.3333333333333333,\"#9c179e\"],[0.4444444444444444,\"#bd3786\"],[0.5555555555555556,\"#d8576b\"],[0.6666666666666666,\"#ed7953\"],[0.7777777777777778,\"#fb9f3a\"],[0.8888888888888888,\"#fdca26\"],[1.0,\"#f0f921\"]]}],\"heatmapgl\":[{\"type\":\"heatmapgl\",\"colorbar\":{\"outlinewidth\":0,\"ticks\":\"\"},\"colorscale\":[[0.0,\"#0d0887\"],[0.1111111111111111,\"#46039f\"],[0.2222222222222222,\"#7201a8\"],[0.3333333333333333,\"#9c179e\"],[0.4444444444444444,\"#bd3786\"],[0.5555555555555556,\"#d8576b\"],[0.6666666666666666,\"#ed7953\"],[0.7777777777777778,\"#fb9f3a\"],[0.8888888888888888,\"#fdca26\"],[1.0,\"#f0f921\"]]}],\"contourcarpet\":[{\"type\":\"contourcarpet\",\"colorbar\":{\"outlinewidth\":0,\"ticks\":\"\"}}],\"contour\":[{\"type\":\"contour\",\"colorbar\":{\"outlinewidth\":0,\"ticks\":\"\"},\"colorscale\":[[0.0,\"#0d0887\"],[0.1111111111111111,\"#46039f\"],[0.2222222222222222,\"#7201a8\"],[0.3333333333333333,\"#9c179e\"],[0.4444444444444444,\"#bd3786\"],[0.5555555555555556,\"#d8576b\"],[0.6666666666666666,\"#ed7953\"],[0.7777777777777778,\"#fb9f3a\"],[0.8888888888888888,\"#fdca26\"],[1.0,\"#f0f921\"]]}],\"surface\":[{\"type\":\"surface\",\"colorbar\":{\"outlinewidth\":0,\"ticks\":\"\"},\"colorscale\":[[0.0,\"#0d0887\"],[0.1111111111111111,\"#46039f\"],[0.2222222222222222,\"#7201a8\"],[0.3333333333333333,\"#9c179e\"],[0.4444444444444444,\"#bd3786\"],[0.5555555555555556,\"#d8576b\"],[0.6666666666666666,\"#ed7953\"],[0.7777777777777778,\"#fb9f3a\"],[0.8888888888888888,\"#fdca26\"],[1.0,\"#f0f921\"]]}],\"mesh3d\":[{\"type\":\"mesh3d\",\"colorbar\":{\"outlinewidth\":0,\"ticks\":\"\"}}],\"scatter\":[{\"fillpattern\":{\"fillmode\":\"overlay\",\"size\":10,\"solidity\":0.2},\"type\":\"scatter\"}],\"parcoords\":[{\"type\":\"parcoords\",\"line\":{\"colorbar\":{\"outlinewidth\":0,\"ticks\":\"\"}}}],\"scatterpolargl\":[{\"type\":\"scatterpolargl\",\"marker\":{\"colorbar\":{\"outlinewidth\":0,\"ticks\":\"\"}}}],\"bar\":[{\"error_x\":{\"color\":\"#2a3f5f\"},\"error_y\":{\"color\":\"#2a3f5f\"},\"marker\":{\"line\":{\"color\":\"#E5ECF6\",\"width\":0.5},\"pattern\":{\"fillmode\":\"overlay\",\"size\":10,\"solidity\":0.2}},\"type\":\"bar\"}],\"scattergeo\":[{\"type\":\"scattergeo\",\"marker\":{\"colorbar\":{\"outlinewidth\":0,\"ticks\":\"\"}}}],\"scatterpolar\":[{\"type\":\"scatterpolar\",\"marker\":{\"colorbar\":{\"outlinewidth\":0,\"ticks\":\"\"}}}],\"histogram\":[{\"marker\":{\"pattern\":{\"fillmode\":\"overlay\",\"size\":10,\"solidity\":0.2}},\"type\":\"histogram\"}],\"scattergl\":[{\"type\":\"scattergl\",\"marker\":{\"colorbar\":{\"outlinewidth\":0,\"ticks\":\"\"}}}],\"scatter3d\":[{\"type\":\"scatter3d\",\"line\":{\"colorbar\":{\"outlinewidth\":0,\"ticks\":\"\"}},\"marker\":{\"colorbar\":{\"outlinewidth\":0,\"ticks\":\"\"}}}],\"scattermapbox\":[{\"type\":\"scattermapbox\",\"marker\":{\"colorbar\":{\"outlinewidth\":0,\"ticks\":\"\"}}}],\"scatterternary\":[{\"type\":\"scatterternary\",\"marker\":{\"colorbar\":{\"outlinewidth\":0,\"ticks\":\"\"}}}],\"scattercarpet\":[{\"type\":\"scattercarpet\",\"marker\":{\"colorbar\":{\"outlinewidth\":0,\"ticks\":\"\"}}}],\"carpet\":[{\"aaxis\":{\"endlinecolor\":\"#2a3f5f\",\"gridcolor\":\"white\",\"linecolor\":\"white\",\"minorgridcolor\":\"white\",\"startlinecolor\":\"#2a3f5f\"},\"baxis\":{\"endlinecolor\":\"#2a3f5f\",\"gridcolor\":\"white\",\"linecolor\":\"white\",\"minorgridcolor\":\"white\",\"startlinecolor\":\"#2a3f5f\"},\"type\":\"carpet\"}],\"table\":[{\"cells\":{\"fill\":{\"color\":\"#EBF0F8\"},\"line\":{\"color\":\"white\"}},\"header\":{\"fill\":{\"color\":\"#C8D4E3\"},\"line\":{\"color\":\"white\"}},\"type\":\"table\"}],\"barpolar\":[{\"marker\":{\"line\":{\"color\":\"#E5ECF6\",\"width\":0.5},\"pattern\":{\"fillmode\":\"overlay\",\"size\":10,\"solidity\":0.2}},\"type\":\"barpolar\"}],\"pie\":[{\"automargin\":true,\"type\":\"pie\"}]},\"layout\":{\"autotypenumbers\":\"strict\",\"colorway\":[\"#636efa\",\"#EF553B\",\"#00cc96\",\"#ab63fa\",\"#FFA15A\",\"#19d3f3\",\"#FF6692\",\"#B6E880\",\"#FF97FF\",\"#FECB52\"],\"font\":{\"color\":\"#2a3f5f\"},\"hovermode\":\"closest\",\"hoverlabel\":{\"align\":\"left\"},\"paper_bgcolor\":\"white\",\"plot_bgcolor\":\"#E5ECF6\",\"polar\":{\"bgcolor\":\"#E5ECF6\",\"angularaxis\":{\"gridcolor\":\"white\",\"linecolor\":\"white\",\"ticks\":\"\"},\"radialaxis\":{\"gridcolor\":\"white\",\"linecolor\":\"white\",\"ticks\":\"\"}},\"ternary\":{\"bgcolor\":\"#E5ECF6\",\"aaxis\":{\"gridcolor\":\"white\",\"linecolor\":\"white\",\"ticks\":\"\"},\"baxis\":{\"gridcolor\":\"white\",\"linecolor\":\"white\",\"ticks\":\"\"},\"caxis\":{\"gridcolor\":\"white\",\"linecolor\":\"white\",\"ticks\":\"\"}},\"coloraxis\":{\"colorbar\":{\"outlinewidth\":0,\"ticks\":\"\"}},\"colorscale\":{\"sequential\":[[0.0,\"#0d0887\"],[0.1111111111111111,\"#46039f\"],[0.2222222222222222,\"#7201a8\"],[0.3333333333333333,\"#9c179e\"],[0.4444444444444444,\"#bd3786\"],[0.5555555555555556,\"#d8576b\"],[0.6666666666666666,\"#ed7953\"],[0.7777777777777778,\"#fb9f3a\"],[0.8888888888888888,\"#fdca26\"],[1.0,\"#f0f921\"]],\"sequentialminus\":[[0.0,\"#0d0887\"],[0.1111111111111111,\"#46039f\"],[0.2222222222222222,\"#7201a8\"],[0.3333333333333333,\"#9c179e\"],[0.4444444444444444,\"#bd3786\"],[0.5555555555555556,\"#d8576b\"],[0.6666666666666666,\"#ed7953\"],[0.7777777777777778,\"#fb9f3a\"],[0.8888888888888888,\"#fdca26\"],[1.0,\"#f0f921\"]],\"diverging\":[[0,\"#8e0152\"],[0.1,\"#c51b7d\"],[0.2,\"#de77ae\"],[0.3,\"#f1b6da\"],[0.4,\"#fde0ef\"],[0.5,\"#f7f7f7\"],[0.6,\"#e6f5d0\"],[0.7,\"#b8e186\"],[0.8,\"#7fbc41\"],[0.9,\"#4d9221\"],[1,\"#276419\"]]},\"xaxis\":{\"gridcolor\":\"white\",\"linecolor\":\"white\",\"ticks\":\"\",\"title\":{\"standoff\":15},\"zerolinecolor\":\"white\",\"automargin\":true,\"zerolinewidth\":2},\"yaxis\":{\"gridcolor\":\"white\",\"linecolor\":\"white\",\"ticks\":\"\",\"title\":{\"standoff\":15},\"zerolinecolor\":\"white\",\"automargin\":true,\"zerolinewidth\":2},\"scene\":{\"xaxis\":{\"backgroundcolor\":\"#E5ECF6\",\"gridcolor\":\"white\",\"linecolor\":\"white\",\"showbackground\":true,\"ticks\":\"\",\"zerolinecolor\":\"white\",\"gridwidth\":2},\"yaxis\":{\"backgroundcolor\":\"#E5ECF6\",\"gridcolor\":\"white\",\"linecolor\":\"white\",\"showbackground\":true,\"ticks\":\"\",\"zerolinecolor\":\"white\",\"gridwidth\":2},\"zaxis\":{\"backgroundcolor\":\"#E5ECF6\",\"gridcolor\":\"white\",\"linecolor\":\"white\",\"showbackground\":true,\"ticks\":\"\",\"zerolinecolor\":\"white\",\"gridwidth\":2}},\"shapedefaults\":{\"line\":{\"color\":\"#2a3f5f\"}},\"annotationdefaults\":{\"arrowcolor\":\"#2a3f5f\",\"arrowhead\":0,\"arrowwidth\":1},\"geo\":{\"bgcolor\":\"white\",\"landcolor\":\"#E5ECF6\",\"subunitcolor\":\"white\",\"showland\":true,\"showlakes\":true,\"lakecolor\":\"white\"},\"title\":{\"x\":0.05},\"mapbox\":{\"style\":\"light\"}}},\"scene\":{\"domain\":{\"x\":[0.0,1.0],\"y\":[0.0,1.0]},\"xaxis\":{\"title\":{\"text\":\"x\"}},\"yaxis\":{\"title\":{\"text\":\"y\"}},\"zaxis\":{\"title\":{\"text\":\"z\"}}},\"legend\":{\"title\":{\"text\":\"group\"},\"tracegroupgap\":0,\"itemsizing\":\"constant\"},\"title\":{\"text\":\"3D Scatter Plot (Plotly)\"}},                        {\"responsive\": true}                    ).then(function(){\n",
              "                            \n",
              "var gd = document.getElementById('1df9e99c-b125-4a8a-8509-1e3a1663963e');\n",
              "var x = new MutationObserver(function (mutations, observer) {{\n",
              "        var display = window.getComputedStyle(gd).display;\n",
              "        if (!display || display === 'none') {{\n",
              "            console.log([gd, 'removed!']);\n",
              "            Plotly.purge(gd);\n",
              "            observer.disconnect();\n",
              "        }}\n",
              "}});\n",
              "\n",
              "// Listen for the removal of the full notebook cells\n",
              "var notebookContainer = gd.closest('#notebook-container');\n",
              "if (notebookContainer) {{\n",
              "    x.observe(notebookContainer, {childList: true});\n",
              "}}\n",
              "\n",
              "// Listen for the clearing of the current output cell\n",
              "var outputEl = gd.closest('.output');\n",
              "if (outputEl) {{\n",
              "    x.observe(outputEl, {childList: true});\n",
              "}}\n",
              "\n",
              "                        })                };                            </script>        </div>\n",
              "</body>\n",
              "</html>"
            ]
          },
          "metadata": {}
        }
      ]
    }
  ]
}