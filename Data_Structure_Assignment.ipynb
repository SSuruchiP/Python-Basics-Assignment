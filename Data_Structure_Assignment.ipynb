{
  "nbformat": 4,
  "nbformat_minor": 0,
  "metadata": {
    "colab": {
      "provenance": []
    },
    "kernelspec": {
      "name": "python3",
      "display_name": "Python 3"
    },
    "language_info": {
      "name": "python"
    }
  },
  "cells": [
    {
      "cell_type": "markdown",
      "source": [
        "### **Data Types and Structures Questions**"
      ],
      "metadata": {
        "id": "VJTp1M4i1_D8"
      }
    },
    {
      "cell_type": "markdown",
      "source": [
        "1.What are data structures, and why are they important?\n",
        "Data structures are organized ways to store and manage data so it can be used efficiently.\n",
        "\n",
        "They are important because:\n",
        "\n",
        "-They make programs faster and more efficient.\n",
        "\n",
        "-Help in storing, accessing, and modifying data easily.\n",
        "\n",
        "-Are used in real-world applications like databases, operating systems, and search engines.\n",
        "\n",
        "Examples: Arrays, Lists, Stacks, Queues, Trees, Graphs."
      ],
      "metadata": {
        "id": "wI2Z8r6U2XW3"
      }
    },
    {
      "cell_type": "markdown",
      "source": [
        "2.Explain the difference between mutable and immutable data types with examples?\n",
        "\n",
        "Answer:In Python, data types are categorized as mutable and immutable based on whether their values can be changed after creation. Mutable data types allow modification of their content without changing their identity. This means you can add, remove, or update elements within the same object. Common examples of mutable types include lists, dictionaries, and sets. For instance, if you have a list and use the append() method to add a new item, the original list gets updated.\n",
        "\n",
        "On the other hand, immutable data types do not allow any change after they are created. If you try to modify them, a new object is created instead of changing the original. Examples of immutable types are integers, floats, strings, and tuples. For example, if you try to change a character in a string, Python will not allow it; instead, you must create a new string. Understanding the difference between mutable and immutable types is important for writing efficient and bug-free code."
      ],
      "metadata": {
        "id": "t-DhEUg6298E"
      }
    },
    {
      "cell_type": "markdown",
      "source": [
        "3.What are the main differences between lists and tuples in Python?\n",
        "\n",
        "Answer:In Python, lists and tuples are both used to store collections of items, but they differ mainly in terms of mutability. A list is mutable, meaning its elements can be changed, added, or removed after the list is created. Lists are defined using square brackets [] and come with many built-in methods like append(), remove(), and sort(), making them highly flexible. In contrast, a tuple is immutable, which means once it is created, its elements cannot be altered. Tuples are defined using parentheses () and support fewer methods compared to lists. Because of their immutability, tuples are faster and consume less memory, making them more suitable for fixed data. In general, you should use lists when you need to modify data, and tuples when the data should remain constant.\n",
        "\n",
        "\n",
        "\n",
        "\n",
        "\n",
        "\n",
        "\n",
        "\n",
        "\n"
      ],
      "metadata": {
        "id": "BY5Zturl3dcK"
      }
    },
    {
      "cell_type": "markdown",
      "source": [
        "4.Describe how dictionaries store data?\n",
        "\n",
        "answer:In Python, dictionaries store data in the form of key-value pairs. Each item in a dictionary has a unique key and a corresponding value. Dictionaries are unordered (before Python 3.7), but in Python 3.7 and later, they preserve the insertion order. The key acts as an identifier for its value, and you can use the key to quickly access, update, or delete the associated value. Dictionaries are defined using curly braces {}, with keys and values separated by colons (:)."
      ],
      "metadata": {
        "id": "0dP49YuI4KdT"
      }
    },
    {
      "cell_type": "code",
      "source": [
        "student = {'name': 'Suruchi', 'age': 25, 'course': 'Pharmacy'}\n",
        "print(student)"
      ],
      "metadata": {
        "colab": {
          "base_uri": "https://localhost:8080/"
        },
        "id": "8EPOeQ0A4iSb",
        "outputId": "b26e7873-eb02-40c8-fe74-734c7a13ae57"
      },
      "execution_count": 3,
      "outputs": [
        {
          "output_type": "stream",
          "name": "stdout",
          "text": [
            "{'name': 'Suruchi', 'age': 25, 'course': 'Pharmacy'}\n"
          ]
        }
      ]
    },
    {
      "cell_type": "markdown",
      "source": [
        "5.Why might you use a set instead of a list in Python?\n",
        "\n",
        "Answer:You might use a set instead of a list in Python when you need to store unique items and don’t care about the order of elements. Sets automatically remove duplicate values, which makes them ideal for tasks like eliminating duplicates from a list. They also offer faster membership testing (checking if an item exists) compared to lists, especially with large datasets.In this case, the set removes the duplicate 2. However, sets do not maintain order and do not support indexing, so if you need to preserve order or access items by position, a list is more appropriate. Use sets when uniqueness and speed matter more than order."
      ],
      "metadata": {
        "id": "wGMZ4Bxe44Yi"
      }
    },
    {
      "cell_type": "code",
      "source": [
        "my_list = [1, 2, 2, 3]\n",
        "my_set = set(my_list)\n",
        "print(my_set)  # Output: {1, 2, 3}\n"
      ],
      "metadata": {
        "colab": {
          "base_uri": "https://localhost:8080/"
        },
        "id": "Ofxs2k4w5W2C",
        "outputId": "617306c0-b779-411a-c504-57c57eb6dbfc"
      },
      "execution_count": 4,
      "outputs": [
        {
          "output_type": "stream",
          "name": "stdout",
          "text": [
            "{1, 2, 3}\n"
          ]
        }
      ]
    },
    {
      "cell_type": "markdown",
      "source": [
        "6.What is a string in Python, and how is it different from a list?\n",
        "\n",
        "Answer:In Python, a string is a sequence of characters used to represent textual data and is enclosed within single or double quotes, such as 'hello' or \"Python\". Strings are immutable, which means once a string is created, its content cannot be changed. In contrast, a list is a collection of items—these items can be of any data type including numbers, strings, or even other lists—and is defined using square brackets like [1, 2, 3] or ['a', 'b', 'c']. Unlike strings, lists are mutable, so you can modify, add, or remove elements after the list is created. Another key difference is that while both strings and lists are sequences and support indexing and slicing, strings are specifically meant for handling text, whereas lists are more flexible for general data storage and manipulation."
      ],
      "metadata": {
        "id": "y7dMYLGG5fOd"
      }
    },
    {
      "cell_type": "markdown",
      "source": [
        "7. How do tuples ensure data integrity in Python?\n",
        "\n",
        "Answer:In Python, tuples ensure data integrity by being immutable, which means their contents cannot be changed, added to, or removed after creation. This immutability makes tuples ideal for storing constant or fixed data that should not be altered during program execution. Because a tuple's values cannot be modified, they help prevent accidental changes or bugs that might occur if the data were stored in a mutable structure like a list.\n",
        "\n",
        "For example, you can use a tuple to store configuration settings, coordinates, or fixed categories, ensuring that the values remain consistent and protected throughout the code. Additionally, since tuples are hashable (as long as they contain only hashable types), they can be used as keys in dictionaries or elements in sets, further supporting data reliability in data structures that require immutability."
      ],
      "metadata": {
        "id": "cGGqK13G504N"
      }
    },
    {
      "cell_type": "markdown",
      "source": [
        "8.What is a hash table, and how does it relate to dictionaries in Python?\n",
        "\n",
        "Answer:A hash table is a data structure that stores data in key-value pairs and allows for very fast access, insertion, and deletion of values based on their keys. It works by using a hash function to convert each key into an index in an underlying array where the value is stored. This allows direct access to the data, making operations very efficient—typically O(1) time on average.\n",
        "\n",
        "In Python, the built-in dict (dictionary) is an implementation of a hash table. When you create a dictionary like:"
      ],
      "metadata": {
        "id": "nbOljDW36FMC"
      }
    },
    {
      "cell_type": "code",
      "source": [
        "student = {'name': 'Suruchi', 'age': 25}\n",
        "#Python internally uses a hash function to determine where to store and retrieve the values associated with the keys 'name' and 'age'. The key must be immutable and hashable (e.g., strings, numbers, tuples), while the value can be of any type.\n"
      ],
      "metadata": {
        "id": "uofWG9Qd6YVE"
      },
      "execution_count": 6,
      "outputs": []
    },
    {
      "cell_type": "markdown",
      "source": [
        "9.Can lists contain different data types in Python?\n",
        "\n",
        "Answer:Yes, lists in Python can contain different data types. Python lists are heterogeneous, meaning they can store a mix of data types within a single list. This flexibility allows you to combine integers, strings, floats, booleans, even other lists or objects in one list."
      ],
      "metadata": {
        "id": "6N6vNf3r6grX"
      }
    },
    {
      "cell_type": "code",
      "source": [
        "mixed_list = [25, \"Suruchi\", 3.14, True, [1, 2, 3]]\n",
        "print(mixed_list)\n",
        "# Output: [25, 'Suruchi', 3.14, True, [1, 2, 3]]\n"
      ],
      "metadata": {
        "colab": {
          "base_uri": "https://localhost:8080/"
        },
        "id": "1K3BciyQ6wLV",
        "outputId": "6884cccf-77bc-4f7f-b9cf-4df52547d8b1"
      },
      "execution_count": 7,
      "outputs": [
        {
          "output_type": "stream",
          "name": "stdout",
          "text": [
            "[25, 'Suruchi', 3.14, True, [1, 2, 3]]\n"
          ]
        }
      ]
    },
    {
      "cell_type": "markdown",
      "source": [
        "10.Explain why strings are immutable in Python?\n",
        "\n",
        "Answer:In Python, strings are immutable because once a string is created, its contents cannot be changed. This design choice is intentional and offers several benefits:\n",
        "\n",
        "Memory Efficiency: Since strings are used frequently, immutability allows Python to reuse the same string object in memory, reducing memory usage.\n",
        "\n",
        "Hashing and Security: Immutable objects can be hashed, which means they can be used as keys in dictionaries or stored in sets. If strings were mutable, their hash value could change, making them unreliable as dictionary keys.\n",
        "\n",
        "Thread Safety: In multi-threaded programs, immutable strings are safer because they cannot be modified by other threads, avoiding unexpected behavior.\n",
        "\n",
        "Consistency: It prevents accidental changes to string data, making code more predictable and easier to debug."
      ],
      "metadata": {
        "id": "ByUe3QDx609B"
      }
    },
    {
      "cell_type": "markdown",
      "source": [
        "11.What advantages do dictionaries offer over lists for certain tasks?\n",
        "\n",
        "Answer:Dictionaries offer several advantages over lists in Python, especially when it comes to organizing and accessing data efficiently. Unlike lists, which store data in a sequential manner and require indexing to access elements, dictionaries store data in key-value pairs, allowing for faster and more meaningful data retrieval using keys. This makes dictionaries ideal for scenarios where data needs to be accessed by name rather than position. Additionally, dictionaries are highly efficient, providing constant time complexity (O(1)) for lookups, additions, and deletions. They also help prevent data duplication by ensuring that each key is unique. Overall, dictionaries are more flexible and intuitive when working with structured data like records, configurations, or real-world entities, while lists are better suited for ordered sequences where position matters."
      ],
      "metadata": {
        "id": "2H6P2rDB7Qxh"
      }
    },
    {
      "cell_type": "markdown",
      "source": [
        "12.Describe a scenario where using a tuple would be preferable over a list?\n",
        "\n",
        "Answer:A tuple would be preferable over a list in a scenario where you want to store a fixed set of values that should not be changed throughout the program. For example, suppose you are storing the coordinates of a point in a 2D space, like (x, y) = (10, 20). Since these coordinates represent a constant value (a specific location), using a tuple ensures that the data remains protected from accidental modification.\n",
        "\n",
        "Another example is when you want to use the data as a dictionary key or store it in a set. Since lists are mutable and not hashable, they cannot be used in such cases, whereas tuples are hashable and can be safely used.\n",
        "\n",
        "In summary, use a tuple when your data is fixed, constant, and needs protection, or when you need to store it in a data structure that requires hashable elements."
      ],
      "metadata": {
        "id": "bhATKmAN7oSq"
      }
    },
    {
      "cell_type": "markdown",
      "source": [
        "13.How do sets handle duplicate values in Python?\n",
        "\n",
        "Answer:In Python, sets handle duplicate values by automatically removing them, ensuring that all elements within a set are unique. When you create a set or add elements to it, any duplicate values are ignored, and only one instance of each unique item is stored. This behavior makes sets ideal for situations where you need to eliminate duplicates from a collection of data. For example, converting a list with repeated elements into a set will instantly filter out the duplicates. Since sets are also unordered, they do not maintain the original order of elements. Overall, sets are useful when uniqueness of data is important and you want to perform operations like membership testing or mathematical set operations.\n"
      ],
      "metadata": {
        "id": "mxNubAf876r6"
      }
    },
    {
      "cell_type": "markdown",
      "source": [
        "14.How does the “in” keyword work differently for lists and dictionaries?\n",
        "\n",
        "Answer:In Python, the in keyword is used to check whether an element exists in a collection, but it behaves differently for lists and dictionaries.\n",
        "\n"
      ],
      "metadata": {
        "id": "HQ1Y4NiA8gnD"
      }
    },
    {
      "cell_type": "code",
      "source": [
        "my_list = [1, 2, 3, 4]\n",
        "print(2 in my_list)      # Output: True\n",
        "print(5 in my_list)      # Output: False\n"
      ],
      "metadata": {
        "colab": {
          "base_uri": "https://localhost:8080/"
        },
        "id": "5ltStv3S8upB",
        "outputId": "1cffad9d-c3fa-4433-b868-32029c7e1f50"
      },
      "execution_count": 8,
      "outputs": [
        {
          "output_type": "stream",
          "name": "stdout",
          "text": [
            "True\n",
            "False\n"
          ]
        }
      ]
    },
    {
      "cell_type": "markdown",
      "source": [
        "In a Dictionary:\n",
        "The in keyword checks if a key is present in the dictionary, not the value.\n",
        "\n",
        "\n"
      ],
      "metadata": {
        "id": "cqftReeE87tD"
      }
    },
    {
      "cell_type": "code",
      "source": [
        "my_dict = {'name': 'Suruchi', 'age': 25}\n",
        "print('name' in my_dict)     # Output: True\n",
        "print('Suruchi' in my_dict)  # Output: False\n"
      ],
      "metadata": {
        "colab": {
          "base_uri": "https://localhost:8080/"
        },
        "id": "pAtBqCdv86sL",
        "outputId": "0da8426d-581c-4ec2-88d0-d98f8f9ce9d7"
      },
      "execution_count": 9,
      "outputs": [
        {
          "output_type": "stream",
          "name": "stdout",
          "text": [
            "True\n",
            "False\n"
          ]
        }
      ]
    },
    {
      "cell_type": "markdown",
      "source": [
        "15.Can you modify the elements of a tuple? Explain why or why not?\n",
        "\n",
        "Answer:No, you cannot modify the elements of a tuple in Python because tuples are immutable. Once a tuple is created, its elements cannot be changed, added, or removed. This immutability is a key characteristic of tuples and is what makes them reliable for storing constant and fixed data. If you try to change the value of an element in a tuple using indexing, Python will raise a TypeError. This design ensures data integrity, prevents accidental modifications, and allows tuples to be used as keys in dictionaries or elements in sets, which require immutable types. If you need a collection that can be modified, you should use a list instead of a tuple."
      ],
      "metadata": {
        "id": "CGskHsKM9GXH"
      }
    },
    {
      "cell_type": "markdown",
      "source": [
        "16.What is a nested dictionary, and give an example of its use case?\n",
        "\n",
        "Answer:A nested dictionary in Python is a dictionary within another dictionary. It allows you to store complex and structured data by using one dictionary as the value of another. This is useful for representing hierarchical or grouped information."
      ],
      "metadata": {
        "id": "3cAnoQto9VhI"
      }
    },
    {
      "cell_type": "code",
      "source": [
        "student = {\n",
        "    'name': 'Suruchi',\n",
        "    'age': 25,\n",
        "    'grades': {\n",
        "        'math': 90,\n",
        "        'science': 85,\n",
        "        'english': 88\n",
        "    }\n",
        "}\n"
      ],
      "metadata": {
        "id": "EwQajAHx9jRG"
      },
      "execution_count": 10,
      "outputs": []
    },
    {
      "cell_type": "markdown",
      "source": [
        "Use Case:\n",
        "-Nested dictionaries are commonly used to represent structured data such as:\n",
        "\n",
        "-Student records (with personal info and subject-wise marks)\n",
        "\n",
        "-Product catalogs (with product categories and item details)\n",
        "\n",
        "-JSON data (often structured as nested dictionaries)\n",
        "\n",
        "-Employee data (with departments and roles)\n",
        "\n",
        "-They help in organizing data in a clear and logical hierarchy."
      ],
      "metadata": {
        "id": "iAg4DkUa94-p"
      }
    },
    {
      "cell_type": "markdown",
      "source": [
        "17.Describe the time complexity of accessing elements in a dictionary?\n",
        "\n",
        "Answer:\n",
        "\n",
        "\n",
        "ChatGPT said:\n",
        "The time complexity of accessing elements in a dictionary in Python is O(1) on average, which means it takes constant time, regardless of the size of the dictionary. This efficiency is due to the dictionary's underlying implementation using a hash table.\n",
        "\n",
        "When you access a value using a key (e.g., my_dict['name']), Python:\n",
        "\n",
        "Applies a hash function to the key,\n",
        "\n",
        "Finds the corresponding index in the internal array,\n",
        "\n",
        "Retrieves the value stored at that index.\n",
        "\n",
        "This process is very fast and does not depend on how many elements the dictionary contains.\n",
        "\n",
        "However, in worst-case scenarios—such as many hash collisions (rare in practice)—the time complexity can degrade to O(n), where n is the number of elements. But Python's hashing and collision resolution strategies are designed to minimize this.\n",
        "\n",
        "So in practical use, dictionary access in Python is considered to be very efficient and fast.\n",
        "\n",
        "\n"
      ],
      "metadata": {
        "id": "VHoJ9tIJ9qEj"
      }
    },
    {
      "cell_type": "markdown",
      "source": [
        "18.In what situations are lists preferred over dictionaries?\n",
        "\n",
        "Answer:Lists are preferred over dictionaries in situations where you need to store an ordered collection of items and where each item is accessed by its position (index) rather than by a unique key. They are ideal when the order of elements matters, such as maintaining a sequence of tasks, steps, or events. Lists also allow duplicate values, which is useful when repeated data entries are acceptable or required. Additionally, lists are better suited for simple data groupings where there is no need to associate each item with a name or label. They offer index-based access, making it easy to loop through elements or retrieve data by position. Compared to dictionaries, lists also tend to be more memory-efficient when only values are being stored without the overhead of keys. Overall, lists are a great choice for managing linear, ordered, and uniform collections of data."
      ],
      "metadata": {
        "id": "bcd90VZ1-Qqy"
      }
    },
    {
      "cell_type": "markdown",
      "source": [
        "19.Why are dictionaries considered unordered, and how does that affect data retrieval?\n",
        "\n",
        "Answer:Dictionaries in Python were traditionally considered unordered because they did not maintain the insertion order of key-value pairs before Python version 3.7. This meant that when you retrieved or looped through items in a dictionary, they could appear in a different order than how you added them.\n",
        "\n",
        "However, starting from Python 3.7 and officially in 3.8, dictionaries do preserve insertion order—meaning items are returned in the order they were added. Despite this, dictionaries are still primarily designed for fast access using keys, not for maintaining order like lists.\n",
        "\n",
        "The concept of being unordered originally meant that you couldn't rely on the position of elements, and accessing items by index (like in a list) is not possible. Instead, you retrieve data by key, which is extremely efficient (average time complexity is O(1)).\n",
        "\n",
        "In summary, although modern Python dictionaries do keep insertion order, they are still key-based structures and not meant for position-based data access. This behavior supports fast lookups, but you should use lists if strict order and index-based access are essential to your program."
      ],
      "metadata": {
        "id": "BMVeaU5V-oJr"
      }
    },
    {
      "cell_type": "markdown",
      "source": [
        "20.Explain the difference between a list and a dictionary in terms of data retrieval.\n",
        "\n",
        "Answer:The main difference between a list and a dictionary in terms of data retrieval lies in how elements are accessed. In a list, data is retrieved using integer indices, which represent the position of elements in a specific order. This means you must know the exact position of an item to access it, such as my_list[2] to get the third element. Lists are ideal for ordered data where sequence matters. In contrast, a dictionary retrieves data using keys, not positions. Each key is unique and acts as a label to access its corresponding value, like my_dict['name']. This makes dictionaries much more efficient for fast lookups when you know the key, as they use a hash table internally. While lists are better suited for sequential and indexed data, dictionaries are more appropriate for structured and labeled data where each item is identified by a specific key."
      ],
      "metadata": {
        "id": "Z71Lk4B__LMQ"
      }
    },
    {
      "cell_type": "markdown",
      "source": [
        "# **Practical** **Questions**"
      ],
      "metadata": {
        "id": "c7nCug2u_dBd"
      }
    },
    {
      "cell_type": "markdown",
      "source": [
        "1.Write a code to create a string with your name and print it?"
      ],
      "metadata": {
        "id": "HWn4NcilTlYk"
      }
    },
    {
      "cell_type": "code",
      "source": [
        "# Creating a string with my name\n",
        "name = \"Suruchi Prasad\"\n",
        "\n",
        "# Printing the string\n",
        "print(name)\n"
      ],
      "metadata": {
        "colab": {
          "base_uri": "https://localhost:8080/"
        },
        "id": "TVV3fawG_ncf",
        "outputId": "f235e387-4851-4e7d-a7e2-191ce21ef01e"
      },
      "execution_count": 1,
      "outputs": [
        {
          "output_type": "stream",
          "name": "stdout",
          "text": [
            "Suruchi Prasad\n"
          ]
        }
      ]
    },
    {
      "cell_type": "markdown",
      "source": [
        "2.Write a code to find the length of the string \"Hello World\"?"
      ],
      "metadata": {
        "id": "Y-EbaU4sT9_n"
      }
    },
    {
      "cell_type": "code",
      "source": [
        "# Define the string\n",
        "text = \"Hello World\"\n",
        "\n",
        "# Find and print the length\n",
        "length = len(text)\n",
        "print(\"Length of the string:\", length)"
      ],
      "metadata": {
        "colab": {
          "base_uri": "https://localhost:8080/"
        },
        "id": "3pNKBXjlT9hH",
        "outputId": "759988af-665e-45fa-f3c3-9aa9d0519a4a"
      },
      "execution_count": 4,
      "outputs": [
        {
          "output_type": "stream",
          "name": "stdout",
          "text": [
            "Length of the string: 11\n"
          ]
        }
      ]
    },
    {
      "cell_type": "markdown",
      "source": [
        "3.Write a code to slice the first 3 characters from the string \"Python Programming\"?"
      ],
      "metadata": {
        "id": "SPXVy_D-cBoi"
      }
    },
    {
      "cell_type": "code",
      "source": [
        "# Define the string\n",
        "text = \"Python Programming\"\n",
        "\n",
        "# Slice the first 3 characters\n",
        "sliced_text = text[:3]\n",
        "\n",
        "# Print the result\n",
        "print(\"First 3 characters:\", sliced_text)\n"
      ],
      "metadata": {
        "colab": {
          "base_uri": "https://localhost:8080/"
        },
        "id": "iyb79FiNcBNL",
        "outputId": "119f86f1-e985-4cb5-d981-d24e51c69916"
      },
      "execution_count": 5,
      "outputs": [
        {
          "output_type": "stream",
          "name": "stdout",
          "text": [
            "First 3 characters: Pyt\n"
          ]
        }
      ]
    },
    {
      "cell_type": "markdown",
      "source": [
        "4.Write a code to convert the string \"hello\" to uppercase?"
      ],
      "metadata": {
        "id": "Ett6AMQRcila"
      }
    },
    {
      "cell_type": "code",
      "source": [
        "# Original string\n",
        "text = \"hello\"\n",
        "\n",
        "# Convert to uppercase\n",
        "upper_text = text.upper()\n",
        "\n",
        "# Print the result\n",
        "print(\"Uppercase:\", upper_text)\n"
      ],
      "metadata": {
        "colab": {
          "base_uri": "https://localhost:8080/"
        },
        "id": "-32gjUmLcpqq",
        "outputId": "d2c9a323-9aae-43ed-ed31-8137b06ba495"
      },
      "execution_count": 6,
      "outputs": [
        {
          "output_type": "stream",
          "name": "stdout",
          "text": [
            "Uppercase: HELLO\n"
          ]
        }
      ]
    },
    {
      "cell_type": "markdown",
      "source": [
        "5.Write a code to replace the word \"apple\" with \"orange\" in the string \"I like apple\"?"
      ],
      "metadata": {
        "id": "GS3G7O--c0rq"
      }
    },
    {
      "cell_type": "code",
      "source": [
        "# Original string\n",
        "text = \"I like apple\"\n",
        "\n",
        "# Replace 'apple' with 'orange'\n",
        "new_text = text.replace(\"apple\", \"orange\")\n",
        "\n",
        "# Print the result\n",
        "print(\"Updated string:\", new_text)\n"
      ],
      "metadata": {
        "colab": {
          "base_uri": "https://localhost:8080/"
        },
        "id": "48dm1N71cxpJ",
        "outputId": "ab5b3312-670c-4ac5-e90d-ffb2f95b860a"
      },
      "execution_count": 7,
      "outputs": [
        {
          "output_type": "stream",
          "name": "stdout",
          "text": [
            "Updated string: I like orange\n"
          ]
        }
      ]
    },
    {
      "cell_type": "markdown",
      "source": [
        "6.Write a code to create a list with numbers 1 to 5 and print it?"
      ],
      "metadata": {
        "id": "y3SEAQd_dIAd"
      }
    },
    {
      "cell_type": "code",
      "source": [
        "# Create a list with numbers 1 to 5\n",
        "numbers = [1, 2, 3, 4, 5]\n",
        "\n",
        "# Print the list\n",
        "print(\"List of numbers:\", numbers)\n"
      ],
      "metadata": {
        "colab": {
          "base_uri": "https://localhost:8080/"
        },
        "id": "e3XDAkyHfrmC",
        "outputId": "9ee3292c-ced9-4315-fa69-5d394c83cae3"
      },
      "execution_count": 8,
      "outputs": [
        {
          "output_type": "stream",
          "name": "stdout",
          "text": [
            "List of numbers: [1, 2, 3, 4, 5]\n"
          ]
        }
      ]
    },
    {
      "cell_type": "markdown",
      "source": [
        "7.Write a code to append the number 10 to the list [1, 2, 3, 4]?"
      ],
      "metadata": {
        "id": "dqrV9Csvf8Yo"
      }
    },
    {
      "cell_type": "code",
      "source": [
        "# Original list\n",
        "numbers = [1, 2, 3, 4]\n",
        "\n",
        "# Append 10 to the list\n",
        "numbers.append(10)\n",
        "\n",
        "# Print the updated list\n",
        "print(\"Updated list:\", numbers)\n"
      ],
      "metadata": {
        "colab": {
          "base_uri": "https://localhost:8080/"
        },
        "id": "f-1ylQ9dgGW9",
        "outputId": "1b226dad-01ee-4204-91a8-55ddbc1e7a7b"
      },
      "execution_count": 9,
      "outputs": [
        {
          "output_type": "stream",
          "name": "stdout",
          "text": [
            "Updated list: [1, 2, 3, 4, 10]\n"
          ]
        }
      ]
    },
    {
      "cell_type": "markdown",
      "source": [
        "8.Write a code to remove the number 3 from the list [1, 2, 3, 4, 5]?"
      ],
      "metadata": {
        "id": "jLDzDZi_gPfQ"
      }
    },
    {
      "cell_type": "code",
      "source": [
        "# Original list\n",
        "numbers = [1, 2, 3, 4, 5]\n",
        "\n",
        "# Remove the number 3\n",
        "numbers.remove(3)\n",
        "\n",
        "# Print the updated list\n",
        "print(\"Updated list:\", numbers)\n"
      ],
      "metadata": {
        "colab": {
          "base_uri": "https://localhost:8080/"
        },
        "id": "T1QcEONsgPIM",
        "outputId": "c648e407-a663-4d9e-bd55-06017baceba5"
      },
      "execution_count": 10,
      "outputs": [
        {
          "output_type": "stream",
          "name": "stdout",
          "text": [
            "Updated list: [1, 2, 4, 5]\n"
          ]
        }
      ]
    },
    {
      "cell_type": "markdown",
      "source": [
        "9.Write a code to access the second element in the list ['a', 'b', 'c', 'd']?"
      ],
      "metadata": {
        "id": "I2xo7EJlgqrm"
      }
    },
    {
      "cell_type": "code",
      "source": [
        "# Define the list\n",
        "my_list = ['a', 'b', 'c', 'd']\n",
        "\n",
        "# Access the second element (index 1)\n",
        "second_item = my_list[1]\n",
        "\n",
        "# Print the result\n",
        "print(\"Second element:\", second_item)\n"
      ],
      "metadata": {
        "colab": {
          "base_uri": "https://localhost:8080/"
        },
        "id": "auAjLTEEghYl",
        "outputId": "b3e43c87-73d0-448e-e7bb-d6f97755930f"
      },
      "execution_count": 11,
      "outputs": [
        {
          "output_type": "stream",
          "name": "stdout",
          "text": [
            "Second element: b\n"
          ]
        }
      ]
    },
    {
      "cell_type": "markdown",
      "source": [
        "10.Write a code to reverse the list [10, 20, 30, 40, 50]?"
      ],
      "metadata": {
        "id": "DUReepoChf6v"
      }
    },
    {
      "cell_type": "code",
      "source": [
        "# Original list\n",
        "numbers = [10, 20, 30, 40, 50]\n",
        "\n",
        "# Reverse the list\n",
        "numbers.reverse()\n",
        "\n",
        "# Print the reversed list\n",
        "print(\"Reversed list:\", numbers)\n"
      ],
      "metadata": {
        "colab": {
          "base_uri": "https://localhost:8080/"
        },
        "id": "C1vPparvhe9f",
        "outputId": "6dc7cff1-116b-4eca-e46e-cffa729ce783"
      },
      "execution_count": 12,
      "outputs": [
        {
          "output_type": "stream",
          "name": "stdout",
          "text": [
            "Reversed list: [50, 40, 30, 20, 10]\n"
          ]
        }
      ]
    },
    {
      "cell_type": "markdown",
      "source": [
        "11.Write a code to create a tuple with the elements 100, 200, 300 and print it."
      ],
      "metadata": {
        "id": "sSQRIEe7hxSf"
      }
    },
    {
      "cell_type": "code",
      "source": [
        "# Create a tuple\n",
        "my_tuple = (100, 200, 300)\n",
        "\n",
        "# Print the tuple\n",
        "print(\"Tuple:\", my_tuple)\n"
      ],
      "metadata": {
        "colab": {
          "base_uri": "https://localhost:8080/"
        },
        "id": "pQJ2S4WSiENz",
        "outputId": "e41095b9-0653-4b71-b0d2-34a616b07d41"
      },
      "execution_count": 13,
      "outputs": [
        {
          "output_type": "stream",
          "name": "stdout",
          "text": [
            "Tuple: (100, 200, 300)\n"
          ]
        }
      ]
    },
    {
      "cell_type": "markdown",
      "source": [
        "12.Write a code to access the second-to-last element of the tuple ('red', 'green', 'blue', 'yellow')."
      ],
      "metadata": {
        "id": "t9H98-rfiLQf"
      }
    },
    {
      "cell_type": "code",
      "source": [
        "# Define the tuple\n",
        "colors = ('red', 'green', 'blue', 'yellow')\n",
        "\n",
        "# Access the second-to-last element using negative indexing\n",
        "second_last = colors[-2]\n",
        "\n",
        "# Print the result\n",
        "print(\"Second-to-last element:\", second_last)\n"
      ],
      "metadata": {
        "colab": {
          "base_uri": "https://localhost:8080/"
        },
        "id": "vhTBU0lxiQ91",
        "outputId": "30f561be-f7dc-40d9-b844-739d7728d146"
      },
      "execution_count": 14,
      "outputs": [
        {
          "output_type": "stream",
          "name": "stdout",
          "text": [
            "Second-to-last element: blue\n"
          ]
        }
      ]
    },
    {
      "cell_type": "markdown",
      "source": [
        "13.Write a code to find the minimum number in the tuple (10, 20, 5, 15)."
      ],
      "metadata": {
        "id": "2BCy2ZlTiYRZ"
      }
    },
    {
      "cell_type": "code",
      "source": [
        "# Define the tuple\n",
        "numbers = (10, 20, 5, 15)\n",
        "\n",
        "# Find the minimum number\n",
        "min_value = min(numbers)\n",
        "\n",
        "# Print the result\n",
        "print(\"Minimum number:\", min_value)\n"
      ],
      "metadata": {
        "colab": {
          "base_uri": "https://localhost:8080/"
        },
        "id": "bn9tvTF3idQP",
        "outputId": "cbb0d80b-d7e4-4dd5-f055-e2cc8b6e79e8"
      },
      "execution_count": 15,
      "outputs": [
        {
          "output_type": "stream",
          "name": "stdout",
          "text": [
            "Minimum number: 5\n"
          ]
        }
      ]
    },
    {
      "cell_type": "markdown",
      "source": [
        "14.Write a code to find the index of the element \"cat\" in the tuple ('dog', 'cat', 'rabbit')."
      ],
      "metadata": {
        "id": "SyJFtmDEikpC"
      }
    },
    {
      "cell_type": "code",
      "source": [
        "# Define the tuple\n",
        "animals = ('dog', 'cat', 'rabbit')\n",
        "\n",
        "# Find the index of \"cat\"\n",
        "index_of_cat = animals.index('cat')\n",
        "\n",
        "# Print the result\n",
        "print(\"Index of 'cat':\", index_of_cat)\n"
      ],
      "metadata": {
        "colab": {
          "base_uri": "https://localhost:8080/"
        },
        "id": "TIWL7UmeipkI",
        "outputId": "3725f58e-d980-4264-f91d-5031e50be155"
      },
      "execution_count": 16,
      "outputs": [
        {
          "output_type": "stream",
          "name": "stdout",
          "text": [
            "Index of 'cat': 1\n"
          ]
        }
      ]
    },
    {
      "cell_type": "markdown",
      "source": [
        "15.Write a code to create a tuple containing three different fruits and check if \"kiwi\" is in it."
      ],
      "metadata": {
        "id": "vZsp1Cy4iyWl"
      }
    },
    {
      "cell_type": "code",
      "source": [
        "# Create a tuple with three fruits\n",
        "fruits = (\"apple\", \"banana\", \"mango\")\n",
        "\n",
        "# Check if \"kiwi\" is in the tuple\n",
        "if \"kiwi\" in fruits:\n",
        "    print(\"Kiwi is in the tuple.\")\n",
        "else:\n",
        "    print(\"Kiwi is not in the tuple.\")\n"
      ],
      "metadata": {
        "colab": {
          "base_uri": "https://localhost:8080/"
        },
        "id": "sYycOSDXi3cN",
        "outputId": "038a8ccf-b9cf-42b7-8f60-a04bb28423b1"
      },
      "execution_count": 17,
      "outputs": [
        {
          "output_type": "stream",
          "name": "stdout",
          "text": [
            "Kiwi is not in the tuple.\n"
          ]
        }
      ]
    },
    {
      "cell_type": "markdown",
      "source": [
        "16.Write a code to create a set with the elements 'a', 'b', 'c' and print it."
      ],
      "metadata": {
        "id": "RkCuo2CAi_-N"
      }
    },
    {
      "cell_type": "code",
      "source": [
        "# Create a set\n",
        "my_set = {'a', 'b', 'c'}\n",
        "\n",
        "# Print the set\n",
        "print(\"Set:\", my_set)\n"
      ],
      "metadata": {
        "colab": {
          "base_uri": "https://localhost:8080/"
        },
        "id": "043WyePnjQ5h",
        "outputId": "c9e5d2bf-8249-4101-c2a7-c113db0d298e"
      },
      "execution_count": 18,
      "outputs": [
        {
          "output_type": "stream",
          "name": "stdout",
          "text": [
            "Set: {'a', 'b', 'c'}\n"
          ]
        }
      ]
    },
    {
      "cell_type": "markdown",
      "source": [
        "17. Write a code to clear all elements from the set {1, 2, 3, 4, 5}."
      ],
      "metadata": {
        "id": "8952Bkm8jWeK"
      }
    },
    {
      "cell_type": "code",
      "source": [
        "# Define the set\n",
        "my_set = {1, 2, 3, 4, 5}\n",
        "\n",
        "# Clear all elements\n",
        "my_set.clear()\n",
        "\n",
        "# Print the cleared set\n",
        "print(\"Cleared set:\", my_set)\n"
      ],
      "metadata": {
        "colab": {
          "base_uri": "https://localhost:8080/"
        },
        "id": "3QESLEXBjd8k",
        "outputId": "0cc51af7-5ab3-4e3e-b63c-354c8b36cb21"
      },
      "execution_count": 19,
      "outputs": [
        {
          "output_type": "stream",
          "name": "stdout",
          "text": [
            "Cleared set: set()\n"
          ]
        }
      ]
    },
    {
      "cell_type": "markdown",
      "source": [
        "18.Write a code to remove the element 4 from the set {1, 2, 3, 4}."
      ],
      "metadata": {
        "id": "VE-xMMfYjtdt"
      }
    },
    {
      "cell_type": "code",
      "source": [
        "# Define the set\n",
        "my_set = {1, 2, 3, 4}\n",
        "\n",
        "# Remove the element 4\n",
        "my_set.remove(4)\n",
        "\n",
        "# Print the updated set\n",
        "print(\"Updated set:\", my_set)\n"
      ],
      "metadata": {
        "colab": {
          "base_uri": "https://localhost:8080/"
        },
        "id": "09su1JD-jmZH",
        "outputId": "d10b2c79-1207-45e6-bc5a-7cef0b7aa9bc"
      },
      "execution_count": 20,
      "outputs": [
        {
          "output_type": "stream",
          "name": "stdout",
          "text": [
            "Updated set: {1, 2, 3}\n"
          ]
        }
      ]
    },
    {
      "cell_type": "markdown",
      "source": [
        "19.Write a code to find the union of two sets {1, 2, 3} and {3, 4, 5}."
      ],
      "metadata": {
        "id": "vPG49Qmfj8bh"
      }
    },
    {
      "cell_type": "code",
      "source": [
        "# Define the sets\n",
        "set1 = {1, 2, 3}\n",
        "set2 = {3, 4, 5}\n",
        "\n",
        "# Find the union\n",
        "union_set = set1.union(set2)\n",
        "\n",
        "# Print the result\n",
        "print(\"Union of sets:\", union_set)\n"
      ],
      "metadata": {
        "colab": {
          "base_uri": "https://localhost:8080/"
        },
        "id": "PAP5oifdko5q",
        "outputId": "14ce6f4a-f630-4941-d692-fa176ec5558c"
      },
      "execution_count": 21,
      "outputs": [
        {
          "output_type": "stream",
          "name": "stdout",
          "text": [
            "Union of sets: {1, 2, 3, 4, 5}\n"
          ]
        }
      ]
    },
    {
      "cell_type": "markdown",
      "source": [
        "20.Write a code to find the intersection of two sets {1, 2, 3} and {2, 3, 4}."
      ],
      "metadata": {
        "id": "MJgYZDOck2Hw"
      }
    },
    {
      "cell_type": "code",
      "source": [
        "# Define the sets\n",
        "set1 = {1, 2, 3}\n",
        "set2 = {2, 3, 4}\n",
        "\n",
        "# Find the intersection\n",
        "intersection_set = set1.intersection(set2)\n",
        "\n",
        "# Print the result\n",
        "print(\"Intersection of sets:\", intersection_set)\n"
      ],
      "metadata": {
        "colab": {
          "base_uri": "https://localhost:8080/"
        },
        "id": "ECJ3spgBlAMp",
        "outputId": "ad6a9fef-2dac-4747-c130-71f987337f7b"
      },
      "execution_count": 22,
      "outputs": [
        {
          "output_type": "stream",
          "name": "stdout",
          "text": [
            "Intersection of sets: {2, 3}\n"
          ]
        }
      ]
    },
    {
      "cell_type": "markdown",
      "source": [
        "21.Write a code to create a dictionary with the keys \"name\", \"age\", and \"city\", and print it."
      ],
      "metadata": {
        "id": "2zGhbMtHlW9n"
      }
    },
    {
      "cell_type": "code",
      "source": [
        "# Create the dictionary\n",
        "person = {\n",
        "    \"name\": \"Alice\",\n",
        "    \"age\": 25,\n",
        "    \"city\": \"New York\"\n",
        "}\n",
        "\n",
        "# Print the dictionary\n",
        "print(\"Dictionary:\", person)\n"
      ],
      "metadata": {
        "colab": {
          "base_uri": "https://localhost:8080/"
        },
        "id": "ROGMW_PTljMk",
        "outputId": "48ff4f93-8d92-49a8-cf1b-4e619fb97162"
      },
      "execution_count": 23,
      "outputs": [
        {
          "output_type": "stream",
          "name": "stdout",
          "text": [
            "Dictionary: {'name': 'Alice', 'age': 25, 'city': 'New York'}\n"
          ]
        }
      ]
    },
    {
      "cell_type": "markdown",
      "source": [
        "22.Write a code to add a new key-value pair \"country\": \"USA\" to the dictionary {'name': 'John', 'age': 25}."
      ],
      "metadata": {
        "id": "pTwuD8P0luJ1"
      }
    },
    {
      "cell_type": "code",
      "source": [
        "# Define the dictionary\n",
        "person = {'name': 'John', 'age': 25}\n",
        "\n",
        "# Add a new key-value pair\n",
        "person['country'] = 'USA'\n",
        "\n",
        "# Print the updated dictionary\n",
        "print(\"Updated dictionary:\", person)\n"
      ],
      "metadata": {
        "colab": {
          "base_uri": "https://localhost:8080/"
        },
        "id": "N3i_K5iumBdF",
        "outputId": "5904a3d6-533d-496d-edf6-0085f224fd82"
      },
      "execution_count": 24,
      "outputs": [
        {
          "output_type": "stream",
          "name": "stdout",
          "text": [
            "Updated dictionary: {'name': 'John', 'age': 25, 'country': 'USA'}\n"
          ]
        }
      ]
    },
    {
      "cell_type": "markdown",
      "source": [
        "23.Write a code to access the value associated with the key \"name\" in the dictionary {'name': 'Alice', 'age': 30}."
      ],
      "metadata": {
        "id": "Bh2K6OqEmKCY"
      }
    },
    {
      "cell_type": "code",
      "source": [
        "# Define the dictionary\n",
        "person = {'name': 'Alice', 'age': 30}\n",
        "\n",
        "# Access the value for the key \"name\"\n",
        "print(\"Name:\", person['name'])\n"
      ],
      "metadata": {
        "colab": {
          "base_uri": "https://localhost:8080/"
        },
        "id": "5teW1HQEmUAr",
        "outputId": "9a24d6f1-617f-48e9-8490-dad318607def"
      },
      "execution_count": 25,
      "outputs": [
        {
          "output_type": "stream",
          "name": "stdout",
          "text": [
            "Name: Alice\n"
          ]
        }
      ]
    },
    {
      "cell_type": "markdown",
      "source": [
        "24.Write a code to remove the key \"age\" from the dictionary {'name': 'Bob', 'age': 22, 'city': 'New York'}."
      ],
      "metadata": {
        "id": "AQbn0YuQm7v_"
      }
    },
    {
      "cell_type": "code",
      "source": [
        "# Define the dictionary\n",
        "person = {'name': 'Bob', 'age': 22, 'city': 'New York'}\n",
        "\n",
        "# Remove the key \"age\"\n",
        "person.pop('age')\n",
        "\n",
        "# Print the updated dictionary\n",
        "print(\"Updated dictionary:\", person)\n"
      ],
      "metadata": {
        "colab": {
          "base_uri": "https://localhost:8080/"
        },
        "id": "1XOz64zcnPKw",
        "outputId": "97cf1e22-6743-47b2-a874-b45eb3d6a3f2"
      },
      "execution_count": 26,
      "outputs": [
        {
          "output_type": "stream",
          "name": "stdout",
          "text": [
            "Updated dictionary: {'name': 'Bob', 'city': 'New York'}\n"
          ]
        }
      ]
    },
    {
      "cell_type": "markdown",
      "source": [
        "25.Write a code to check if the key \"city\" exists in the dictionary {'name': 'Alice', 'city': 'Paris'}."
      ],
      "metadata": {
        "id": "8pwIZ-_cnZJH"
      }
    },
    {
      "cell_type": "code",
      "source": [
        "# Define the dictionary\n",
        "person = {'name': 'Alice', 'city': 'Paris'}\n",
        "\n",
        "# Check if \"city\" key exists\n",
        "if 'city' in person:\n",
        "    print(\"Key 'city' exists in the dictionary.\")\n",
        "else:\n",
        "    print(\"Key 'city' does not exist in the dictionary.\")\n"
      ],
      "metadata": {
        "colab": {
          "base_uri": "https://localhost:8080/"
        },
        "id": "VLajVewgnjoe",
        "outputId": "91496d63-d9a3-4595-aaa2-56bad4af2c79"
      },
      "execution_count": 27,
      "outputs": [
        {
          "output_type": "stream",
          "name": "stdout",
          "text": [
            "Key 'city' exists in the dictionary.\n"
          ]
        }
      ]
    },
    {
      "cell_type": "markdown",
      "source": [
        "26.Write a code to create a list, a tuple, and a dictionary, and print them all."
      ],
      "metadata": {
        "id": "_33_JIw2o-z1"
      }
    },
    {
      "cell_type": "code",
      "source": [
        "# Create a list\n",
        "my_list = [1, 2, 3, 4, 5]\n",
        "\n",
        "# Create a tuple\n",
        "my_tuple = ('apple', 'banana', 'cherry')\n",
        "\n",
        "# Create a dictionary\n",
        "my_dict = {'name': 'Alice', 'age': 25, 'city': 'Paris'}\n",
        "\n",
        "# Print all\n",
        "print(\"List:\", my_list)\n",
        "print(\"Tuple:\", my_tuple)\n",
        "print(\"Dictionary:\", my_dict)\n"
      ],
      "metadata": {
        "colab": {
          "base_uri": "https://localhost:8080/"
        },
        "id": "YTEHFe6spMNg",
        "outputId": "dc04c21d-9ad5-4f7c-99ae-d00b9bf68c7d"
      },
      "execution_count": 28,
      "outputs": [
        {
          "output_type": "stream",
          "name": "stdout",
          "text": [
            "List: [1, 2, 3, 4, 5]\n",
            "Tuple: ('apple', 'banana', 'cherry')\n",
            "Dictionary: {'name': 'Alice', 'age': 25, 'city': 'Paris'}\n"
          ]
        }
      ]
    },
    {
      "cell_type": "markdown",
      "source": [
        "27.Write a code to create a list of 5 random numbers between 1 and 100, sort it in ascending order, and print the\n",
        "result.(replaced)\n"
      ],
      "metadata": {
        "id": "tV0X-ZtEpUFx"
      }
    },
    {
      "cell_type": "code",
      "source": [
        "import random\n",
        "\n",
        "# Create a list of 5 random numbers between 1 and 100\n",
        "random_list = random.sample(range(1, 101), 5)\n",
        "\n",
        "# Sort the list in ascending order\n",
        "random_list.sort()\n",
        "\n",
        "# Print the sorted list\n",
        "print(\"Sorted list of random numbers:\", random_list)\n"
      ],
      "metadata": {
        "colab": {
          "base_uri": "https://localhost:8080/"
        },
        "id": "wLiv2jWHp79a",
        "outputId": "611c7be2-cbe7-4d8d-be87-1aff80eea021"
      },
      "execution_count": 29,
      "outputs": [
        {
          "output_type": "stream",
          "name": "stdout",
          "text": [
            "Sorted list of random numbers: [4, 7, 19, 76, 78]\n"
          ]
        }
      ]
    },
    {
      "cell_type": "markdown",
      "source": [
        "28. Write a code to create a list with strings and print the element at the third index."
      ],
      "metadata": {
        "id": "5KzZ1Vc0qEx7"
      }
    },
    {
      "cell_type": "code",
      "source": [
        "# Create a list with string elements\n",
        "string_list = [\"apple\", \"banana\", \"cherry\", \"date\", \"elderberry\"]\n",
        "\n",
        "# Print the element at the third index (index starts from 0)\n",
        "print(\"Element at third index:\", string_list[3])\n"
      ],
      "metadata": {
        "colab": {
          "base_uri": "https://localhost:8080/"
        },
        "id": "6k1Yuf_UqEWq",
        "outputId": "d44a6969-576b-4af6-9c70-10e9b93e0016"
      },
      "execution_count": 30,
      "outputs": [
        {
          "output_type": "stream",
          "name": "stdout",
          "text": [
            "Element at third index: date\n"
          ]
        }
      ]
    },
    {
      "cell_type": "markdown",
      "source": [
        "29.Write a code to combine two dictionaries into one and print the result."
      ],
      "metadata": {
        "id": "0HuLVWqOqTxt"
      }
    },
    {
      "cell_type": "code",
      "source": [
        "# Define two dictionaries\n",
        "dict1 = {'name': 'Alice', 'age': 25}\n",
        "dict2 = {'city': 'Paris', 'country': 'France'}\n",
        "\n",
        "# Combine the dictionaries\n",
        "combined_dict = {**dict1, **dict2}\n",
        "\n",
        "# Print the result\n",
        "print(\"Combined dictionary:\", combined_dict)\n"
      ],
      "metadata": {
        "colab": {
          "base_uri": "https://localhost:8080/"
        },
        "id": "u3PqcfTlrN-f",
        "outputId": "f1448c7c-a1db-4c61-b443-3f287f48333a"
      },
      "execution_count": 31,
      "outputs": [
        {
          "output_type": "stream",
          "name": "stdout",
          "text": [
            "Combined dictionary: {'name': 'Alice', 'age': 25, 'city': 'Paris', 'country': 'France'}\n"
          ]
        }
      ]
    },
    {
      "cell_type": "markdown",
      "source": [
        "30.Write a code to convert a list of strings into a set."
      ],
      "metadata": {
        "id": "C1Z7aKy8rXSL"
      }
    },
    {
      "cell_type": "code",
      "source": [
        "# Define a list of strings\n",
        "string_list = [\"apple\", \"banana\", \"cherry\", \"apple\"]\n",
        "\n",
        "# Convert the list into a set\n",
        "string_set = set(string_list)\n",
        "\n",
        "# Print the set\n",
        "print(\"Set:\", string_set)\n"
      ],
      "metadata": {
        "colab": {
          "base_uri": "https://localhost:8080/"
        },
        "id": "4NE5tttorc8z",
        "outputId": "4bb80445-695a-4022-c8f0-dd21321544ef"
      },
      "execution_count": 32,
      "outputs": [
        {
          "output_type": "stream",
          "name": "stdout",
          "text": [
            "Set: {'apple', 'cherry', 'banana'}\n"
          ]
        }
      ]
    }
  ]
}